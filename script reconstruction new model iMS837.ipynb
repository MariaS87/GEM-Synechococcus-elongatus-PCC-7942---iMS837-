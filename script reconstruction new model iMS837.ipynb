{
 "cells": [
  {
   "cell_type": "code",
   "execution_count": 1,
   "metadata": {},
   "outputs": [],
   "source": [
    "from cobra.io.dict import model_from_dict, model_to_dict\n",
    "from cobra.io.json import from_json, load_json_model, save_json_model, to_json\n",
    "from cobra.io.mat import load_matlab_model, save_matlab_model\n",
    "from cobra.io.sbml import read_sbml_model, write_sbml_model, validate_sbml_model\n",
    "from cobra.io.yaml import from_yaml, load_yaml_model, save_yaml_model, to_yaml\n",
    "from cobra.io.web import AbstractModelRepository, BiGGModels, BioModels, load_model"
   ]
  },
  {
   "cell_type": "code",
   "execution_count": 2,
   "metadata": {},
   "outputs": [
    {
     "name": "stdout",
     "output_type": "stream",
     "text": [
      "mini test files: \n",
      "\n"
     ]
    }
   ],
   "source": [
    "from pathlib import Path\n",
    "from cobra.io import load_json_model, save_json_model, load_matlab_model, save_matlab_model, read_sbml_model, write_sbml_model\n",
    "import logging\n",
    "\n",
    "data_dir = Path(\".\") / \"..\" / \"src\" / \"cobra\" / \"data\"\n",
    "data_dir = data_dir.resolve()\n",
    "\n",
    "print(\"mini test files: \")\n",
    "print(\", \".join(str(i) for i in data_dir.glob('mini*.*')))\n",
    "\n",
    "textbook_model = load_model(\"textbook\")\n",
    "ecoli_model = load_model(\"iJO1366\")\n",
    "logging.getLogger(\"cobra.io.sbml\").setLevel(logging.ERROR) # salmonella leads to lots of warnings without this line"
   ]
  },
  {
   "cell_type": "markdown",
   "metadata": {},
   "source": [
    "IMPORT MODEL IN .json format"
   ]
  },
  {
   "cell_type": "code",
   "execution_count": 3,
   "metadata": {},
   "outputs": [
    {
     "name": "stdout",
     "output_type": "stream",
     "text": [
      "C:\\Users\\santosm7\\Documents\n",
      "\n",
      "858 reactions\n",
      "778 metabolites\n",
      "792 genes\n"
     ]
    }
   ],
   "source": [
    "import cobra\n",
    "from cobra import Reaction, Metabolite, Model\n",
    "from cobra.util.solver import linear_reaction_coefficients\n",
    "import cobra.test\n",
    "from cobra.medium import minimal_medium\n",
    "import os\n",
    "import numpy as np\n",
    "from os.path import join\n",
    "import matplotlib.pyplot as plt\n",
    "\n",
    "# **************MODEL LOADING SECTION*****************\n",
    "# Loading the model\n",
    "# Remember to edit the data_dir path to where the model is located (NOT including the name of the model itself in it\n",
    "data_dir = r\"C:\\Users\\santosm7\\Documents\"\n",
    "# Check data_dir is as expected\n",
    "print(data_dir + \"\\n\")\n",
    "# Load model; so join combines the path and model name for cobra's load method to function properly\n",
    "import cobra\n",
    "from cobra.io import load_json_model, save_json_model, load_matlab_model, save_matlab_model, read_sbml_model, write_sbml_model\n",
    "model = cobra.io.load_json_model(join(data_dir, \"iJB792.json\"))\n",
    "print(f'{len(model.reactions)} reactions')\n",
    "print(f'{len(model.metabolites)} metabolites')\n",
    "print(f'{len(model.genes)} genes')"
   ]
  },
  {
   "cell_type": "markdown",
   "metadata": {},
   "source": [
    "ADD GENES (36) TO EXISTING REACTIONS IN iJB792 MODEL (THE NEW MODEL SHOULD HAVE 828 GENES)"
   ]
  },
  {
   "cell_type": "code",
   "execution_count": 4,
   "metadata": {},
   "outputs": [],
   "source": [
    "#add gene Synpcc7942_B2620 to CAT reaction\n",
    "model.reactions.get_by_id('CAT').gene_reaction_rule='( Synpcc7942_1656 or Synpcc7942_B2620 )'\n",
    "#add genes Synpcc7942_1088, Sypncc7942_0239, Synpcc7942_1630, Synpcc7942_2542, Synpcc7942_1054 and Synpcc7942_2158 to CBFCum reaction\n",
    "model.reactions.get_by_id('CBFCum').gene_reaction_rule='(Synpcc7942_1231 and Synpcc7942_2331 and Synpcc7942_1232 and Synpcc7942_2332 and Synpcc7942_1088 and Synpcc7942_1479 and ((Synpcc7942_0239) or (Synpcc7942_1630) or (Synpcc7942_2542)) and Synpcc7942_0113 and Synpcc7942_2426 and Synpcc7942_0475 and Synpcc7942_1053 and Synpcc7942_1048 and Synpcc7942_1052 and Synpcc7942_1047 and Synpcc7942_1049 and Synpcc7942_1050 and Synpcc7942_1051 and Synpcc7942_1054 and Synpcc7942_1055 and Synpcc7942_2030 and Synpcc7942_0327 and Synpcc7942_0326 and Synpcc7942_0325 and Synpcc7942_0328 and Synpcc7942_2158 and Synpcc7942_0322 and Synpcc7942_0323 and Synpcc7942_1478 and Synpcc7942_0511)'\n",
    "#add genes Synpcc7942_0201 and Sypncc7942_0202 to CYOOum reaction\n",
    "model.reactions.get_by_id('CYOOum').gene_reaction_rule='(Synpcc7942_2602 or Synpcc7942_0201) and (Synpcc7942_2603 or Synpcc7942_0202) and Synpcc7942_2604'\n",
    "#add gene Synpcc7942_1408 to FE3abcppreaction\n",
    "model.reactions.get_by_id('FE3abcpp').gene_reaction_rule='(Synpcc7942_1409 and Synpcc7942_1407 and Synpcc7942_1406 and Synpcc7942_1408) or (Synpcc7942_2175 and Synpcc7942_1407 and Synpcc7942_1406 and Synpcc7942_1408)'\n",
    "#add genes Synpcc7942_0338, Synpcc7942_0698, Synpcc7942_0898, Synpcc7942_1749, Synpcc7942_2581, Synpcc7942_1499, Synpcc7942_0814 and Synpcc7942_1541 to FNOR reaction\n",
    "model.reactions.get_by_id('FNOR').gene_reaction_rule='((Synpcc7942_0338 or Synpcc7942_0698  or Synpcc7942_0898 or Synpcc7942_1749) and Synpcc7942_2581 and Synpcc7942_1499  and Synpcc7942_0814 and Synpcc7942_1541 and Synpcc7942_0978)'\n",
    "#add gene Synpcc7942_0508 to GGDPR reaction\n",
    "model.reactions.get_by_id('GGDPR').gene_reaction_rule='(Synpcc7942_0385) or (Synpcc7942_0508)'\n",
    "#add gene Synpcc7942_0357 to H2CO3_NAt_syn reaction\n",
    "model.reactions.get_by_id('H2CO3_NAt_syn').gene_reaction_rule='(Synpcc7942_1475) or (Synpcc7942_0357)'\n",
    "#add genes Synpcc7942_1388 and Synpcc7942_B2619 to HCO3E_1_cx reaction\n",
    "model.reactions.get_by_id('HCO3E_1_cx').gene_reaction_rule='(Synpcc7942_1447) or (Synpcc7942_1388) or (Synpcc7942_B2619) or (Synpcc7942_1423)'\n",
    "#add gene Synpcc7942_1378 to LPADSS2 reaction\n",
    "model.reactions.get_by_id('LPADSS2').gene_reaction_rule='(Synpcc7942_0932) and (Synpcc7942_1378)'\n",
    "#add gene Synpcc7942_0652 to LYCBC1 reaction\n",
    "model.reactions.get_by_id('LYCBC1').gene_reaction_rule='(Synpcc7942_2062) or (Synpcc7942_0652)'\n",
    "#add genes Synpcc7942_0888 and Synpcc7942_0498 to MAN1PT reaction\n",
    "model.reactions.get_by_id('MAN1PT').gene_reaction_rule='(Synpcc7942_1608) or (Synpcc7942_0888) or (Synpcc7942_0498) or (Synpcc7942_1973)'\n",
    "#add gene Synpcc7942_1763 to MI3PP reaction\n",
    "model.reactions.get_by_id('MI3PP').gene_reaction_rule='(Synpcc7942_2582) or (Synpcc7942_1763)'\n",
    "#add gene Synpcc7942_1910 to NPHBDC reaction\n",
    "model.reactions.get_by_id('NPHBDC').gene_reaction_rule='(Synpcc7942_2588 and Synpcc7942_2055 and Synpcc7942_1910 and Synpcc7942_0135)'\n",
    "#add gene Synpcc7942_1266 to NTPP2 reaction\n",
    "model.reactions.get_by_id('NTPP2').gene_reaction_rule='(Synpcc7942_1266) or (Synpcc7942_1493)'\n",
    "#add gene Synpcc7942_0706 to PC6YM reaction\n",
    "model.reactions.get_by_id('PC6YM').gene_reaction_rule='(Synpcc7942_0706) or (Synpcc7942_1850)'\n",
    "#add gene Synpcc7942_0693 to PGLYCP reaction\n",
    "model.reactions.get_by_id('PGLYCP').gene_reaction_rule='(Synpcc7942_2613) or (Synpcc7942_0693)'\n",
    "#add gene Synpcc7942_1450 to PIuabcpp reaction\n",
    "model.reactions.get_by_id('PIuabcpp').gene_reaction_rule='((Synpcc7942_2444) or (Synpcc7942_2445)) and (Synpcc7942_2443) and (Synpcc7942_2442) and (Synpcc7942_1450 or Synpcc7942_2441)'\n",
    "#add gene Synpcc7942_0974 to UDPGD reaction\n",
    "model.reactions.get_by_id('UDPGD').gene_reaction_rule='(Synpcc7942_0973 or Synpcc7942_0974)'\n",
    "#add gene Synpcc7942_1319 to UPPRT reaction\n",
    "model.reactions.get_by_id('UPPRT').gene_reaction_rule='( Synpcc7942_1715 or Synpcc7942_1319 )'\n",
    "#add gene Synpcc7942_B2633 to MOGDS reaction\n",
    "model.reactions.get_by_id('MOGDS').gene_reaction_rule='( Synpcc7942_1189 or Synpcc7942_1211 or Synpcc7942_B2633 )'\n",
    "#add gene Synpcc7942_1516 to PGM reaction\n",
    "model.reactions.get_by_id('PGM').gene_reaction_rule='( Synpcc7942_0485 or Synpcc7942_0469 or Synpcc7942_1516 or Synpcc7942_2078 )'"
   ]
  },
  {
   "cell_type": "code",
   "execution_count": 5,
   "metadata": {},
   "outputs": [
    {
     "name": "stdout",
     "output_type": "stream",
     "text": [
      "858 reactions\n",
      "778 metabolites\n",
      "828 genes\n"
     ]
    }
   ],
   "source": [
    "print(f'{len(model.reactions)} reactions')\n",
    "print(f'{len(model.metabolites)} metabolites')\n",
    "print(f'{len(model.genes)} genes')"
   ]
  },
  {
   "cell_type": "markdown",
   "metadata": {},
   "source": [
    "SAVE MODEL IN .json format"
   ]
  },
  {
   "cell_type": "code",
   "execution_count": 6,
   "metadata": {},
   "outputs": [],
   "source": [
    "cobra.io.save_json_model(model, \"iJB792-extended.json\")"
   ]
  },
  {
   "cell_type": "markdown",
   "metadata": {},
   "source": [
    "SAVE MODEL IN .mat format"
   ]
  },
  {
   "cell_type": "code",
   "execution_count": 7,
   "metadata": {},
   "outputs": [],
   "source": [
    "cobra.io.save_matlab_model(model, \"iJB792-extended.mat\")"
   ]
  },
  {
   "cell_type": "markdown",
   "metadata": {},
   "source": [
    "IMPORT NEW MODEL"
   ]
  },
  {
   "cell_type": "code",
   "execution_count": 9,
   "metadata": {},
   "outputs": [
    {
     "name": "stdout",
     "output_type": "stream",
     "text": [
      "C:\\Users\\santosm7\\Documents\n",
      "\n",
      "858 reactions\n",
      "778 metabolites\n",
      "828 genes\n"
     ]
    }
   ],
   "source": [
    "import cobra\n",
    "from cobra import Reaction, Metabolite, Model\n",
    "from cobra.util.solver import linear_reaction_coefficients\n",
    "import cobra.test\n",
    "from cobra.medium import minimal_medium\n",
    "import os\n",
    "import numpy as np\n",
    "from os.path import join\n",
    "import matplotlib.pyplot as plt\n",
    "\n",
    "# **************MODEL LOADING SECTION*****************\n",
    "# Loading the model\n",
    "# Remember to edit the data_dir path to where the model is located (NOT including the name of the model itself in it\n",
    "data_dir = r\"C:\\Users\\santosm7\\Documents\"\n",
    "# Check data_dir is as expected\n",
    "print(data_dir + \"\\n\")\n",
    "# Load model; so join combines the path and model name for cobra's load method to function properly\n",
    "import cobra\n",
    "from cobra.io import load_json_model, save_json_model, load_matlab_model, save_matlab_model, read_sbml_model, write_sbml_model\n",
    "model2 = cobra.io.load_json_model(join(data_dir, \"iJB792-extended.json\"))\n",
    "print(f'{len(model2.reactions)} reactions')\n",
    "print(f'{len(model2.metabolites)} metabolites')\n",
    "print(f'{len(model2.genes)} genes')"
   ]
  },
  {
   "cell_type": "code",
   "execution_count": 10,
   "metadata": {},
   "outputs": [
    {
     "name": "stdout",
     "output_type": "stream",
     "text": [
      "<Solution 0.054 at 0x1edbed22278>\n"
     ]
    }
   ],
   "source": [
    "#Simulations using flux balance analysis (FBA) can be solved using Model.optimize(). This will maximize or minimize (maximizing is the default) flux through the objective reactions.\n",
    "solution = model2.optimize()\n",
    "print(solution)"
   ]
  },
  {
   "cell_type": "code",
   "execution_count": 11,
   "metadata": {},
   "outputs": [
    {
     "data": {
      "text/html": [
       "<h3>Objective</h3><p>1.0 BOF = 0.05403214668257647</p><h4>Uptake</h4><table border=\"1\" class=\"dataframe\">\n",
       "  <thead>\n",
       "    <tr style=\"text-align: right;\">\n",
       "      <th>Metabolite</th>\n",
       "      <th>Reaction</th>\n",
       "      <th>Flux</th>\n",
       "      <th>C-Number</th>\n",
       "      <th>C-Flux</th>\n",
       "    </tr>\n",
       "  </thead>\n",
       "  <tbody>\n",
       "    <tr>\n",
       "      <td>co2_e</td>\n",
       "      <td>EX_co2_e</td>\n",
       "      <td>0.7229</td>\n",
       "      <td>1</td>\n",
       "      <td>30.73%</td>\n",
       "    </tr>\n",
       "    <tr>\n",
       "      <td>cobalt2_e</td>\n",
       "      <td>EX_cobalt2_e</td>\n",
       "      <td>2.765E-07</td>\n",
       "      <td>0</td>\n",
       "      <td>0.00%</td>\n",
       "    </tr>\n",
       "    <tr>\n",
       "      <td>fe3_e</td>\n",
       "      <td>EX_fe3_e</td>\n",
       "      <td>8.656E-05</td>\n",
       "      <td>0</td>\n",
       "      <td>0.00%</td>\n",
       "    </tr>\n",
       "    <tr>\n",
       "      <td>h_e</td>\n",
       "      <td>EX_h_e</td>\n",
       "      <td>1.887</td>\n",
       "      <td>0</td>\n",
       "      <td>0.00%</td>\n",
       "    </tr>\n",
       "    <tr>\n",
       "      <td>hco3_e</td>\n",
       "      <td>EX_hco3_e</td>\n",
       "      <td>1.459</td>\n",
       "      <td>1</td>\n",
       "      <td>62.04%</td>\n",
       "    </tr>\n",
       "    <tr>\n",
       "      <td>leu__L_e</td>\n",
       "      <td>EX_leu__L_e</td>\n",
       "      <td>0.02836</td>\n",
       "      <td>6</td>\n",
       "      <td>7.23%</td>\n",
       "    </tr>\n",
       "    <tr>\n",
       "      <td>mg2_e</td>\n",
       "      <td>EX_mg2_e</td>\n",
       "      <td>0.0006054</td>\n",
       "      <td>0</td>\n",
       "      <td>0.00%</td>\n",
       "    </tr>\n",
       "    <tr>\n",
       "      <td>nh4_e</td>\n",
       "      <td>EX_nh4_e</td>\n",
       "      <td>0.0031</td>\n",
       "      <td>0</td>\n",
       "      <td>0.00%</td>\n",
       "    </tr>\n",
       "    <tr>\n",
       "      <td>no3_e</td>\n",
       "      <td>EX_no3_e</td>\n",
       "      <td>0.4038</td>\n",
       "      <td>0</td>\n",
       "      <td>0.00%</td>\n",
       "    </tr>\n",
       "    <tr>\n",
       "      <td>photon530_e</td>\n",
       "      <td>EX_photon530_e</td>\n",
       "      <td>11.76</td>\n",
       "      <td>0</td>\n",
       "      <td>0.00%</td>\n",
       "    </tr>\n",
       "    <tr>\n",
       "      <td>photon650_e</td>\n",
       "      <td>EX_photon650_e</td>\n",
       "      <td>0.0006054</td>\n",
       "      <td>0</td>\n",
       "      <td>0.00%</td>\n",
       "    </tr>\n",
       "    <tr>\n",
       "      <td>photon690_e</td>\n",
       "      <td>EX_photon690_e</td>\n",
       "      <td>18.04</td>\n",
       "      <td>0</td>\n",
       "      <td>0.00%</td>\n",
       "    </tr>\n",
       "    <tr>\n",
       "      <td>pi_e</td>\n",
       "      <td>EX_pi_e</td>\n",
       "      <td>0.023</td>\n",
       "      <td>0</td>\n",
       "      <td>0.00%</td>\n",
       "    </tr>\n",
       "    <tr>\n",
       "      <td>so4_e</td>\n",
       "      <td>EX_so4_e</td>\n",
       "      <td>0.008394</td>\n",
       "      <td>0</td>\n",
       "      <td>0.00%</td>\n",
       "    </tr>\n",
       "    <tr>\n",
       "      <td>amylose_c</td>\n",
       "      <td>SK_amylose_c</td>\n",
       "      <td>0.0277</td>\n",
       "      <td>0</td>\n",
       "      <td>0.00%</td>\n",
       "    </tr>\n",
       "  </tbody>\n",
       "</table><h4>Secretion</h4><table border=\"1\" class=\"dataframe\">\n",
       "  <thead>\n",
       "    <tr style=\"text-align: right;\">\n",
       "      <th>Metabolite</th>\n",
       "      <th>Reaction</th>\n",
       "      <th>Flux</th>\n",
       "      <th>C-Number</th>\n",
       "      <th>C-Flux</th>\n",
       "    </tr>\n",
       "  </thead>\n",
       "  <tbody>\n",
       "    <tr>\n",
       "      <td>5drib_c</td>\n",
       "      <td>DM_5drib_c</td>\n",
       "      <td>-5.613E-06</td>\n",
       "      <td>5</td>\n",
       "      <td>8.50%</td>\n",
       "    </tr>\n",
       "    <tr>\n",
       "      <td>amob_c</td>\n",
       "      <td>DM_amob_c</td>\n",
       "      <td>-1.415E-06</td>\n",
       "      <td>15</td>\n",
       "      <td>6.43%</td>\n",
       "    </tr>\n",
       "    <tr>\n",
       "      <td>co_c</td>\n",
       "      <td>DM_co_c</td>\n",
       "      <td>-0.0002798</td>\n",
       "      <td>1</td>\n",
       "      <td>84.74%</td>\n",
       "    </tr>\n",
       "    <tr>\n",
       "      <td>dialurate_c</td>\n",
       "      <td>DM_dialurate_c</td>\n",
       "      <td>-2.765E-07</td>\n",
       "      <td>4</td>\n",
       "      <td>0.33%</td>\n",
       "    </tr>\n",
       "    <tr>\n",
       "      <td>pho_loss_c</td>\n",
       "      <td>DM_pho_loss_c</td>\n",
       "      <td>-0.5881</td>\n",
       "      <td>0</td>\n",
       "      <td>0.00%</td>\n",
       "    </tr>\n",
       "    <tr>\n",
       "      <td>o2_e</td>\n",
       "      <td>EX_o2_e</td>\n",
       "      <td>-3.161</td>\n",
       "      <td>0</td>\n",
       "      <td>0.00%</td>\n",
       "    </tr>\n",
       "  </tbody>\n",
       "</table>"
      ],
      "text/plain": [
       "<cobra.summary.model_summary.ModelSummary at 0x1ee13fc76d8>"
      ]
     },
     "execution_count": 11,
     "metadata": {},
     "output_type": "execute_result"
    }
   ],
   "source": [
    "#Calling the summary method on the entire model displays information on the input and output behavior of the model, along with the optimized objective.\n",
    "model.summary()"
   ]
  },
  {
   "cell_type": "code",
   "execution_count": 11,
   "metadata": {},
   "outputs": [
    {
     "data": {
      "text/html": [
       "<h3>nadh_c</h3><p>C21H27N7O14P2</p><h4>Producing Reactions</h4><table border=\"1\" class=\"dataframe\">\n",
       "  <thead>\n",
       "    <tr style=\"text-align: right;\">\n",
       "      <th>Percent</th>\n",
       "      <th>Flux</th>\n",
       "      <th>Reaction</th>\n",
       "      <th>Definition</th>\n",
       "    </tr>\n",
       "  </thead>\n",
       "  <tbody>\n",
       "    <tr>\n",
       "      <td>0.00%</td>\n",
       "      <td>1.415E-06</td>\n",
       "      <td>ALCD1</td>\n",
       "      <td>meoh_c + nad_c --&gt; fald_c + h_c + nadh_c</td>\n",
       "    </tr>\n",
       "    <tr>\n",
       "      <td>0.00%</td>\n",
       "      <td>1.415E-06</td>\n",
       "      <td>E4PD</td>\n",
       "      <td>e4p_c + h2o_c + nad_c --&gt; 4per_c + 2.0 h_c + nadh_c</td>\n",
       "    </tr>\n",
       "    <tr>\n",
       "      <td>4.72%</td>\n",
       "      <td>0.01561</td>\n",
       "      <td>ERTHMMOR</td>\n",
       "      <td>nad_c + r3mmal_c --&gt; 2obut_c + co2_c + nadh_c</td>\n",
       "    </tr>\n",
       "    <tr>\n",
       "      <td>0.00%</td>\n",
       "      <td>1.415E-06</td>\n",
       "      <td>FALDH2</td>\n",
       "      <td>hmgth_c + nad_c --&gt; Sfglutth_c + h_c + nadh_c</td>\n",
       "    </tr>\n",
       "    <tr>\n",
       "      <td>3.61%</td>\n",
       "      <td>0.01193</td>\n",
       "      <td>GLYCL</td>\n",
       "      <td>gly_c + nad_c + thf_c --&gt; co2_c + mlthf_c + nadh_c + nh4_c</td>\n",
       "    </tr>\n",
       "    <tr>\n",
       "      <td>6.72%</td>\n",
       "      <td>0.02222</td>\n",
       "      <td>GLYCLTDx</td>\n",
       "      <td>glyclt_c + nad_c --&gt; glx_c + h_c + nadh_c</td>\n",
       "    </tr>\n",
       "    <tr>\n",
       "      <td>1.40%</td>\n",
       "      <td>0.004626</td>\n",
       "      <td>HISTDa</td>\n",
       "      <td>histd_c + nad_c --&gt; h_c + histda_c + nadh_c</td>\n",
       "    </tr>\n",
       "    <tr>\n",
       "      <td>1.40%</td>\n",
       "      <td>0.004626</td>\n",
       "      <td>HISTDb</td>\n",
       "      <td>h2o_c + histda_c + nad_c --&gt; 2.0 h_c + his__L_c + nadh_c</td>\n",
       "    </tr>\n",
       "    <tr>\n",
       "      <td>0.00%</td>\n",
       "      <td>1.415E-06</td>\n",
       "      <td>HTHRPDH</td>\n",
       "      <td>nad_c + phthr_c --&gt; 2a3pp_c + h_c + nadh_c</td>\n",
       "    </tr>\n",
       "    <tr>\n",
       "      <td>1.74%</td>\n",
       "      <td>0.005745</td>\n",
       "      <td>IMPD</td>\n",
       "      <td>h2o_c + imp_c + nad_c --&gt; h_c + nadh_c + xmp_c</td>\n",
       "    </tr>\n",
       "    <tr>\n",
       "      <td>66.37%</td>\n",
       "      <td>0.2193</td>\n",
       "      <td>NADTRHD</td>\n",
       "      <td>nad_c + nadph_c &lt;=&gt; nadh_c + nadp_c</td>\n",
       "    </tr>\n",
       "    <tr>\n",
       "      <td>0.00%</td>\n",
       "      <td>9.645E-07</td>\n",
       "      <td>NPHBDC</td>\n",
       "      <td>3nphb_c + amet_c + h2o_c + nad_c --&gt; 2m6sbenzq_c + ahcys_c + co2_c + h_c + nadh_c</td>\n",
       "    </tr>\n",
       "    <tr>\n",
       "      <td>0.00%</td>\n",
       "      <td>1.415E-06</td>\n",
       "      <td>PERD</td>\n",
       "      <td>4per_c + nad_c --&gt; h_c + nadh_c + ohpb_c</td>\n",
       "    </tr>\n",
       "    <tr>\n",
       "      <td>11.84%</td>\n",
       "      <td>0.03914</td>\n",
       "      <td>PGCD</td>\n",
       "      <td>3pg_c + nad_c &lt;=&gt; 3php_c + h_c + nadh_c</td>\n",
       "    </tr>\n",
       "    <tr>\n",
       "      <td>2.20%</td>\n",
       "      <td>0.007254</td>\n",
       "      <td>PPND</td>\n",
       "      <td>nad_c + pphn_c --&gt; 34hpp_c + co2_c + nadh_c</td>\n",
       "    </tr>\n",
       "    <tr>\n",
       "      <td>0.00%</td>\n",
       "      <td>1.37E-06</td>\n",
       "      <td>SHS1</td>\n",
       "      <td>2 amet_c + fe2_c + nad_c + uppg3_c --&gt; 2 ahcys_c + 5 h_c + nadh_c + sheme_c</td>\n",
       "    </tr>\n",
       "  </tbody>\n",
       "</table><h4>Consuming Reactions</h4><table border=\"1\" class=\"dataframe\">\n",
       "  <thead>\n",
       "    <tr style=\"text-align: right;\">\n",
       "      <th>Percent</th>\n",
       "      <th>Flux</th>\n",
       "      <th>Reaction</th>\n",
       "      <th>Definition</th>\n",
       "    </tr>\n",
       "  </thead>\n",
       "  <tbody>\n",
       "    <tr>\n",
       "      <td>92.98%</td>\n",
       "      <td>-0.3073</td>\n",
       "      <td>ALAD_L</td>\n",
       "      <td>ala__L_c + h2o_c + nad_c &lt;=&gt; h_c + nadh_c + nh4_c + pyr_c</td>\n",
       "    </tr>\n",
       "    <tr>\n",
       "      <td>0.15%</td>\n",
       "      <td>-0.0004843</td>\n",
       "      <td>BCAROHX</td>\n",
       "      <td>caro_c + h_c + nadh_c + o2_c --&gt; bcryptox_c + h2o_c + nad_c</td>\n",
       "    </tr>\n",
       "    <tr>\n",
       "      <td>0.15%</td>\n",
       "      <td>-0.0004843</td>\n",
       "      <td>BCAROHX2</td>\n",
       "      <td>bcryptox_c + h_c + nadh_c + o2_c --&gt; h2o_c + nad_c + zeax_c</td>\n",
       "    </tr>\n",
       "    <tr>\n",
       "      <td>0.00%</td>\n",
       "      <td>-2.765E-07</td>\n",
       "      <td>BM_COFACTORS</td>\n",
       "      <td>0.0213 5mthf_c + 0.0043 adocbl_c + 0.022 btamp_c + 0.016 coa_c + 0.0214 fad_c + 0.6518 fe2_c + 0.6518 fe3_c + 1.5013 gthbpt_c + 0.0213 hemeO_c + 0.0013 k_c + 0.022 lipopb_c + 0.0214 mlthf_c + 0.0001 na1_c + 0.1708 nad_c + 0.0043 nadh_c + 0.0107 nadp_c + 0.032 nadph_c + 0.0169 phyQ_c + 0.015 pq_um + 0.0344 ptrc_c + 0.022 pydx5p_c + 0.0213 sheme_c + 0.0736 spmd_c + 0.0214 thf_c + 0.0213 thmpp_c + 0.0096 udcpdp_c --&gt; bm_cofactors_c</td>\n",
       "    </tr>\n",
       "    <tr>\n",
       "      <td>0.00%</td>\n",
       "      <td>-1.382E-07</td>\n",
       "      <td>CYRDAR</td>\n",
       "      <td>2.0 co2dam_c + nadh_c &lt;=&gt; 2.0 co1dam_c + h_c + nad_c</td>\n",
       "    </tr>\n",
       "    <tr>\n",
       "      <td>0.00%</td>\n",
       "      <td>-2.765E-07</td>\n",
       "      <td>DMBZIDS2</td>\n",
       "      <td>fmnh2_c + h_c + nadh_c + o2_c --&gt; dialurate_c + dmbzid_c + e4p_c + h2o_c + nad_c</td>\n",
       "    </tr>\n",
       "    <tr>\n",
       "      <td>6.72%</td>\n",
       "      <td>-0.02222</td>\n",
       "      <td>GLYDHDA</td>\n",
       "      <td>gly_c + h2o_c + nad_c &lt;=&gt; glx_c + h_c + nadh_c + nh4_c</td>\n",
       "    </tr>\n",
       "    <tr>\n",
       "      <td>0.00%</td>\n",
       "      <td>-2.765E-07</td>\n",
       "      <td>PRE3BS</td>\n",
       "      <td>h_c + nadh_c + o2_c + pre3a_c --&gt; h2o_c + nad_c + pre3b_c</td>\n",
       "    </tr>\n",
       "    <tr>\n",
       "      <td>0.01%</td>\n",
       "      <td>-2.232E-05</td>\n",
       "      <td>TRNFE</td>\n",
       "      <td>2 fe3_c + nadh_c &lt;=&gt; 2 fe2_c + h_c + nad_c</td>\n",
       "    </tr>\n",
       "  </tbody>\n",
       "</table>"
      ],
      "text/plain": [
       "<cobra.summary.metabolite_summary.MetaboliteSummary at 0x218a0925be0>"
      ]
     },
     "execution_count": 11,
     "metadata": {},
     "output_type": "execute_result"
    }
   ],
   "source": [
    "model.metabolites.nadh_c.summary()"
   ]
  },
  {
   "cell_type": "markdown",
   "metadata": {},
   "source": [
    "ADD REACTIONS\n",
    "https://buildmedia.readthedocs.org/media/pdf/cobrapy/0.13.3/cobrapy.pdf"
   ]
  },
  {
   "cell_type": "markdown",
   "metadata": {},
   "source": [
    "ADD NEW REACTIONS TO MODEL"
   ]
  },
  {
   "cell_type": "code",
   "execution_count": 12,
   "metadata": {},
   "outputs": [],
   "source": [
    "from cobra import Metabolite\n",
    "m1 = model2.metabolites.get_by_id( 'akg_c' ) #2-Oxoglutarate\n",
    "m2 = model2.metabolites.get_by_id( 'pro__L_c' ) #L-proline\n",
    "m3 = model2.metabolites.get_by_id( 'o2_c' ) #O2\n",
    "m4 = model2.metabolites.get_by_id( 'co2_c' ) #CO2\n",
    "m5 = model2.metabolites.get_by_id( '4hpro__LT_c' ) #trans-4-Hydroxy-L-proline\n",
    "m6 = model2.metabolites.get_by_id( 'succ_c' ) #Succinate\n",
    "\n",
    "from cobra import Reaction\n",
    "#add PROAKGOX1 reaction:\n",
    "reaction1 = Reaction( 'PROAKGOX1' )\n",
    "reaction1.name = 'Prolyl 4-hydroxylase'\n",
    "reaction1.subsystem = 'O-Glycan biosynthesis'\n",
    "reaction1.lower_bound = 0\n",
    "reaction1.upper_bound = 1000\n",
    "reaction1.add_metabolites({m1: - 1.0, m2: - 1.0, m3: - 1.0, m4: 1.0, m5: 1.0, m6: 1.0})\n",
    "model2.add_reaction(reaction1)"
   ]
  },
  {
   "cell_type": "code",
   "execution_count": 13,
   "metadata": {},
   "outputs": [],
   "source": [
    "from cobra import Metabolite\n",
    "m1 = model2.metabolites.get_by_id( 'h2o_c' ) #h2o\n",
    "m2 = Metabolite(\n",
    "    'acmama_c',\n",
    "    formula='C14H23N2O9',\n",
    "    name='N-Acetyl-D-muramoyl-L-alanine',\n",
    "    compartment='c') #N-Acetyl-D-muramoyl-L-alanine\n",
    "m3 = model2.metabolites.get_by_id( 'ala__L_c' ) #L-alanine\n",
    "m4 = Metabolite(\n",
    "    'acmam_c',\n",
    "    formula='C11H18NO8',\n",
    "    name='N-Acetyl-D-muramoate',\n",
    "    compartment='c') #N-Acetyl-D-muramoate\n",
    "    \n",
    "from cobra import Reaction\n",
    "#add AMAA reaction:\n",
    "reaction1 = Reaction( 'AMAA' )\n",
    "reaction1.name = 'N-acetylmuramoyl-L-alanine amidase'\n",
    "reaction1.subsystem = 'Peptidoglycan Biosynthesis'\n",
    "reaction1.lower_bound = 0\n",
    "reaction1.upper_bound = 1000\n",
    "reaction1.add_metabolites({m1: - 1.0, m2: - 1.0, m3: 1.0, m4: 1.0})\n",
    "model2.add_reaction(reaction1)"
   ]
  },
  {
   "cell_type": "code",
   "execution_count": 14,
   "metadata": {},
   "outputs": [],
   "source": [
    "from cobra import Metabolite\n",
    "m1 = model2.metabolites.get_by_id( 'h_c' ) #H+\n",
    "m2 = model2.metabolites.get_by_id( 'h2o_c' ) #h2o\n",
    "m3 = Metabolite(\n",
    "    'csn_c',\n",
    "    formula='C4H5N3O',\n",
    "    name='Cytosine',\n",
    "    compartment='c') #Cytosine\n",
    "m4 = model2.metabolites.get_by_id( 'nh4_c' ) #NH4\n",
    "m5 = model2.metabolites.get_by_id( 'ura_c' ) #uracil\n",
    "\n",
    "from cobra import Reaction\n",
    "#add CSND reaction:\n",
    "reaction1 = Reaction( 'CSND' )\n",
    "reaction1.name = 'Cytosine deaminase'\n",
    "reaction1.subsystem = 'Pyrimidine metabolism'\n",
    "reaction1.lower_bound = 0\n",
    "reaction1.upper_bound = 1000\n",
    "reaction1.add_metabolites({m1: - 1.0, m2: - 1.0, m3: -1.0, m4: 1.0, m5: 1.0})\n",
    "model2.add_reaction(reaction1)"
   ]
  },
  {
   "cell_type": "code",
   "execution_count": 15,
   "metadata": {},
   "outputs": [],
   "source": [
    "from cobra import Metabolite\n",
    "m1 = model2.metabolites.get_by_id( 'h2o_c' ) #h2o\n",
    "m2 = Metabolite(\n",
    "    'cyst-L_c',\n",
    "    formula='C7H14N2O4S',\n",
    "    name='L-Cystathionine',\n",
    "    compartment='c') #L-Cystathionine\n",
    "m3 = model2.metabolites.get_by_id( 'pyr_c' ) #pyruvate\n",
    "m4 = model2.metabolites.get_by_id( 'nh4_c' ) #NH4\n",
    "m5 = model2.metabolites.get_by_id( 'hcys__L_c' ) #L-Homocysteine\n",
    "\n",
    "from cobra import Reaction\n",
    "#add CYSTL reaction:\n",
    "reaction1 = Reaction( 'CYSTL' )\n",
    "reaction1.name = 'cystathionine b-lyase'\n",
    "reaction1.subsystem = 'Others'\n",
    "reaction1.lower_bound = 0\n",
    "reaction1.upper_bound = 1000\n",
    "reaction1.add_metabolites({m1: - 1.0, m2: - 1.0, m3: 1.0, m4: 1.0, m5: 1.0})\n",
    "model2.add_reaction(reaction1)"
   ]
  },
  {
   "cell_type": "code",
   "execution_count": 16,
   "metadata": {},
   "outputs": [],
   "source": [
    "from cobra import Metabolite\n",
    "m1 = model2.metabolites.get_by_id( '13dpg_c' ) #3-Phospho-D-glyceroyl phosphate\n",
    "m2 = model2.metabolites.get_by_id( 'h_c' ) #H+\n",
    "m3 = Metabolite(\n",
    "    '23dpg_c',\n",
    "    formula='C3H3O10P2',\n",
    "    name='2,3-Disphospho-D-glycerate',\n",
    "    compartment='c') #2,3-Disphospho-D-glycerate\n",
    "\n",
    "from cobra import Reaction\n",
    "#add DPGM reaction:\n",
    "reaction1 = Reaction( 'DPGM' )\n",
    "reaction1.name = 'Diphosphoglyceromutase'\n",
    "reaction1.subsystem = 'Glycolysis/Gluconeogenesis'\n",
    "reaction1.lower_bound = -1000\n",
    "reaction1.upper_bound = 1000\n",
    "reaction1.add_metabolites({m1: - 1.0, m2: 1.0, m3: 1.0})\n",
    "model2.add_reaction(reaction1)"
   ]
  },
  {
   "cell_type": "code",
   "execution_count": 17,
   "metadata": {},
   "outputs": [],
   "source": [
    "from cobra import Metabolite\n",
    "m1 = model2.metabolites.get_by_id( 'atp_c' ) #ATP\n",
    "m2 = model2.metabolites.get_by_id( '5drib_c' ) #5-Deoxy-D-ribose\n",
    "m3 = model2.metabolites.get_by_id( 'adp_c' ) #ADP\n",
    "m4 = model2.metabolites.get_by_id( 'h_c' ) #H+\n",
    "m5 = Metabolite(\n",
    "    '2dr5p_c',\n",
    "    formula='C5H9O7P',\n",
    "    name='2-Deoxy-D-ribose 5-phosphate',\n",
    "    compartment='c') #2-Deoxy-D-ribose 5-phosphate\n",
    "\n",
    "from cobra import Reaction\n",
    "#add DRBK reaction:\n",
    "reaction1 = Reaction( 'DRBK' )\n",
    "reaction1.name = 'Deoxyribokinase'\n",
    "reaction1.subsystem = 'Pentose phosphate pathway'\n",
    "reaction1.lower_bound = 0\n",
    "reaction1.upper_bound = 1000\n",
    "reaction1.add_metabolites({m1: - 1.0, m2: -1.0, m3: 1.0, m4: 1.0, m5: 1.0})\n",
    "model2.add_reaction(reaction1)"
   ]
  },
  {
   "cell_type": "code",
   "execution_count": 18,
   "metadata": {},
   "outputs": [],
   "source": [
    "\n",
    "from cobra import Metabolite\n",
    "m1 = model2.metabolites.get_by_id( '2dr5p_c' ) #2-Deoxy-D-ribose 5-phosphate\n",
    "m2 = model2.metabolites.get_by_id( 'g3p_c' ) #D-Glyceraldehyde 3-phosphate\n",
    "m3 = model2.metabolites.get_by_id( 'acald_c' ) #Acetaldehyde\n",
    "\n",
    "from cobra import Reaction\n",
    "#add DRPA reaction:\n",
    "reaction1 = Reaction( 'DRPA' )\n",
    "reaction1.name = 'deoxyribose-phosphate aldolase'\n",
    "reaction1.subsystem = 'Pentose phosphate pathway'\n",
    "reaction1.lower_bound = 0\n",
    "reaction1.upper_bound = 1000\n",
    "reaction1.add_metabolites({m1: - 1.0, m2: 1.0, m3: 1.0})\n",
    "model2.add_reaction(reaction1)"
   ]
  },
  {
   "cell_type": "code",
   "execution_count": 19,
   "metadata": {},
   "outputs": [],
   "source": [
    "from cobra import Metabolite\n",
    "m1 = model2.metabolites.get_by_id( 'nad_c' ) #NAD+\n",
    "m2 = model2.metabolites.get_by_id( 'glc__D_c' ) #D-glucose\n",
    "m3 = model2.metabolites.get_by_id( 'h_c' ) #H+\n",
    "m4 = model2.metabolites.get_by_id( 'nadh_c' ) #NADH\n",
    "m5 = Metabolite(\n",
    "    'g15lac_c',\n",
    "    formula='C6H10O6',\n",
    "    name='D-Glucono-1,5-lactone',\n",
    "    compartment='c') #D-Glucono-1,5-lactone\n",
    "\n",
    "from cobra import Reaction\n",
    "#add G1Dxreaction:\n",
    "reaction1 = Reaction( 'G1Dx' )\n",
    "reaction1.name = 'Glucose 1 dehydrogenase NAD'\n",
    "reaction1.subsystem = 'Carbohydrates and related molecules'\n",
    "reaction1.lower_bound = 0\n",
    "reaction1.upper_bound = 1000\n",
    "reaction1.add_metabolites({m1: - 1.0, m2: -1.0, m3: 1.0, m4: 1.0, m5: 1.0})\n",
    "model2.add_reaction(reaction1)"
   ]
  },
  {
   "cell_type": "code",
   "execution_count": 20,
   "metadata": {},
   "outputs": [],
   "source": [
    "from cobra import Metabolite\n",
    "m1 = model2.metabolites.get_by_id( 'gtp_c' ) #GTP\n",
    "m2 = model2.metabolites.get_by_id( 'ppi_c' ) #Diphosphate\n",
    "m3 = Metabolite(\n",
    "    '35cgmp_c',\n",
    "    formula='C10H11N5O7P',\n",
    "    name='3 5 Cyclic GMP',\n",
    "    compartment='c') #3',5'-Cyclic GMP\n",
    "\n",
    "from cobra import Reaction\n",
    "#add GUACYC reaction:\n",
    "reaction1 = Reaction( 'GUACYC' )\n",
    "reaction1.name = 'Diguanylate cyclase'\n",
    "reaction1.subsystem = 'Purine Metabolism'\n",
    "reaction1.lower_bound = 0\n",
    "reaction1.upper_bound = 1000\n",
    "reaction1.add_metabolites({m1: - 1.0, m2: 1.0, m3: 1.0})\n",
    "model2.add_reaction(reaction1)"
   ]
  },
  {
   "cell_type": "code",
   "execution_count": 21,
   "metadata": {},
   "outputs": [],
   "source": [
    "from cobra import Metabolite\n",
    "m1 = model2.metabolites.get_by_id( 'nadh_c' ) #NADH\n",
    "m2 = Metabolite(\n",
    "    'rdxo_c',\n",
    "    formula='Fe1SO',\n",
    "    name='rubredoxin_oxidized',\n",
    "    compartment='c') #rubredoxin_oxidized\n",
    "m3 = model2.metabolites.get_by_id( 'h_c' ) #H+\n",
    "m4 = model2.metabolites.get_by_id( 'nad_c' ) #NAD+\n",
    "m5 = Metabolite(\n",
    "    'rdxr_c',\n",
    "    formula='Fe1SO',\n",
    "    name='rubredoxin_reduced',\n",
    "    compartment='c') #rubredoxin_reduced\n",
    "\n",
    "from cobra import Reaction\n",
    "#add RDXRr reaction:\n",
    "reaction1 = Reaction( 'RDXRr' )\n",
    "reaction1.name = 'Rubrerythrin'\n",
    "reaction1.subsystem = 'Unassigned'\n",
    "reaction1.lower_bound = -1000\n",
    "reaction1.upper_bound = 1000\n",
    "reaction1.add_metabolites({m1: - 1.0, m2: -2.0, m3: 1.0, m4: 1.0, m5: 2.0})\n",
    "model2.add_reaction(reaction1)"
   ]
  },
  {
   "cell_type": "code",
   "execution_count": 22,
   "metadata": {},
   "outputs": [],
   "source": [
    "from cobra import Metabolite\n",
    "m1 = model2.metabolites.get_by_id( 'dcaACP_c' ) #Decanoyl-[acyl-carrier protein]\n",
    "m2 = model2.metabolites.get_by_id( 'h2o_c' ) #h2o\n",
    "m3 = model2.metabolites.get_by_id( 'ACP_c' ) #Acyl-carrier protein\n",
    "m4 = Metabolite(\n",
    "    'dca_c',\n",
    "    formula='C10H19O2',\n",
    "    name='Decanoate__n_C100_',\n",
    "    compartment='c') #Decanoate__n_C100_\n",
    "m5 = model2.metabolites.get_by_id( 'h_c' ) #H+\n",
    "\n",
    "from cobra import Reaction\n",
    "#add FA100ACPHi reaction:\n",
    "reaction1 = Reaction( 'FA100ACPHi' )\n",
    "reaction1.name = 'fatty acyl ACP hydrolase'\n",
    "reaction1.subsystem = 'Fatty Acid Biosynthesis'\n",
    "reaction1.lower_bound = 0\n",
    "reaction1.upper_bound = 1000\n",
    "reaction1.add_metabolites({m1: - 1.0, m2: -1.0, m3: 1.0, m4: 1.0, m5: 1.0})\n",
    "model2.add_reaction(reaction1)"
   ]
  },
  {
   "cell_type": "code",
   "execution_count": 23,
   "metadata": {},
   "outputs": [],
   "source": [
    "from cobra import Metabolite\n",
    "m1 = model2.metabolites.get_by_id( 'ddcaACP_c' ) #Dodecanoyl-[acyl-carrier protein]\n",
    "m2 = model2.metabolites.get_by_id( 'h2o_c' ) #h2o\n",
    "m3 = model2.metabolites.get_by_id( 'ACP_c' ) #Acyl-carrier protein\n",
    "m4 = Metabolite(\n",
    "    'ddca_c',\n",
    "    formula='C12H23O2',\n",
    "    name='Dodecanoate__n_C120_',\n",
    "    compartment='c') #Dodecanoate__n_C120_\n",
    "m5 = model2.metabolites.get_by_id( 'h_c' ) #H+\n",
    "\n",
    "from cobra import Reaction\n",
    "#add FA120ACPHi reaction:\n",
    "reaction1 = Reaction( 'FA120ACPHi' )\n",
    "reaction1.name = 'fatty acyl ACP hydrolase'\n",
    "reaction1.subsystem = 'Fatty Acid Biosynthesis'\n",
    "reaction1.lower_bound = 0\n",
    "reaction1.upper_bound = 1000\n",
    "reaction1.add_metabolites({m1: - 1.0, m2: -1.0, m3: 1.0, m4: 1.0, m5: 1.0})\n",
    "model2.add_reaction(reaction1)\t"
   ]
  },
  {
   "cell_type": "code",
   "execution_count": 24,
   "metadata": {},
   "outputs": [],
   "source": [
    "from cobra import Metabolite\n",
    "m1 = model2.metabolites.get_by_id( 'myrsACP_c' ) #Tetradecanoyl-[acyl-carrier protein]\n",
    "m2 = model2.metabolites.get_by_id( 'h2o_c' ) #h2o\n",
    "m3 = model2.metabolites.get_by_id( 'ACP_c' ) #Acyl-carrier protein\n",
    "m4 = Metabolite(\n",
    "    'ttdca_c',\n",
    "    formula='C14H27O2',\n",
    "    name='tetradecanoate__n_C140_',\n",
    "    compartment='c') #tetradecanoate__n_C140_\n",
    "m5 = model2.metabolites.get_by_id( 'h_c' ) #H+\n",
    "\n",
    "from cobra import Reaction\n",
    "#add FA140ACPHi reaction:\n",
    "reaction1 = Reaction( 'FA140ACPHi' )\n",
    "reaction1.name = 'fatty acyl ACP hydrolase'\n",
    "reaction1.subsystem = 'Fatty Acid Biosynthesis'\n",
    "reaction1.lower_bound = 0\n",
    "reaction1.upper_bound = 1000\n",
    "reaction1.add_metabolites({m1: - 1.0, m2: -1.0, m3: 1.0, m4: 1.0, m5: 1.0})\n",
    "model2.add_reaction(reaction1)\t\t\t\n"
   ]
  },
  {
   "cell_type": "code",
   "execution_count": 25,
   "metadata": {},
   "outputs": [],
   "source": [
    "from cobra import Metabolite\n",
    "m1 = model2.metabolites.get_by_id( 'palmACP_c' ) #(9Z)-Hexadecanoyl-[acp]\n",
    "m2 = model2.metabolites.get_by_id( 'h2o_c' ) #h2o\n",
    "m3 = model2.metabolites.get_by_id( 'ACP_c' ) #Acyl-carrier protein\n",
    "m4 = Metabolite(\n",
    "    'hdca_c',\n",
    "    formula='C16H31O2',\n",
    "    name='Hexadecanoate__n_C160_',\n",
    "    compartment='c') #Hexadecanoate__n_C160_\n",
    "m5 = model2.metabolites.get_by_id( 'h_c' ) #H+\n",
    "\n",
    "from cobra import Reaction\n",
    "#add FA160ACPHi reaction:\n",
    "reaction1 = Reaction( 'FA160ACPHi' )\n",
    "reaction1.name = 'fatty acyl ACP hydrolase'\n",
    "reaction1.subsystem = 'Fatty Acid Biosynthesis'\n",
    "reaction1.lower_bound = 0\n",
    "reaction1.upper_bound = 1000\n",
    "reaction1.add_metabolites({m1: - 1.0, m2: -1.0, m3: 1.0, m4: 1.0, m5: 1.0})\n",
    "model2.add_reaction(reaction1)\t"
   ]
  },
  {
   "cell_type": "code",
   "execution_count": 26,
   "metadata": {},
   "outputs": [],
   "source": [
    "from cobra import Metabolite\n",
    "m1 = model2.metabolites.get_by_id( 'hdeACP_c' ) #Hexadecenoyl-[acyl-carrier protein]\n",
    "m2 = model2.metabolites.get_by_id( 'h2o_c' ) #h2o\n",
    "m3 = model2.metabolites.get_by_id( 'ACP_c' ) #Acyl-carrier protein\n",
    "m4 = Metabolite(\n",
    "    'hdcea_c',\n",
    "    formula='C16H29O2',\n",
    "    name='Hexadecenoate__n_C161_',\n",
    "    compartment='c') #Hexadecenoate__n_C161_\n",
    "m5 = model2.metabolites.get_by_id( 'h_c' ) #H+\n",
    "\n",
    "from cobra import Reaction\n",
    "#add FA161ACPHi reaction:\n",
    "reaction1 = Reaction( 'FA161ACPHi' )\n",
    "reaction1.name = 'fatty acyl ACP hydrolase'\n",
    "reaction1.subsystem = 'Fatty Acid Biosynthesis'\n",
    "reaction1.lower_bound = 0\n",
    "reaction1.upper_bound = 1000\n",
    "reaction1.add_metabolites({m1: - 1.0, m2: -1.0, m3: 1.0, m4: 1.0, m5: 1.0})\n",
    "model2.add_reaction(reaction1)\t"
   ]
  },
  {
   "cell_type": "code",
   "execution_count": 27,
   "metadata": {},
   "outputs": [],
   "source": [
    "from cobra import Metabolite\n",
    "m1 = model2.metabolites.get_by_id( '3ooctdACP_c' ) #3-Oxostearoyl-[acp]\t\n",
    "m2 = model2.metabolites.get_by_id( 'h2o_c' ) #h2o\n",
    "m3 = model2.metabolites.get_by_id( 'ACP_c' ) #Acyl-carrier protein\n",
    "m4 = model2.metabolites.get_by_id( 'ocdca_c' ) #Octadecanoate (n-C18:0)\n",
    "m5 = model2.metabolites.get_by_id( 'h_c' ) #H+\n",
    "\n",
    "from cobra import Reaction\n",
    "#add FA180ACPHi reaction:\n",
    "reaction1 = Reaction( 'FA180ACPHi' )\n",
    "reaction1.name = 'fatty acyl ACP hydrolase'\n",
    "reaction1.subsystem = 'Fatty Acid Biosynthesis'\n",
    "reaction1.lower_bound = 0\n",
    "reaction1.upper_bound = 1000\n",
    "reaction1.add_metabolites({m1: - 1.0, m2: -1.0, m3: 1.0, m4: 1.0, m5: 1.0})\n",
    "model2.add_reaction(reaction1)\t"
   ]
  },
  {
   "cell_type": "code",
   "execution_count": 28,
   "metadata": {},
   "outputs": [],
   "source": [
    "from cobra import Metabolite\n",
    "m1 = model2.metabolites.get_by_id( 'octe9ACP_c' ) #Oleoyl-[acyl-carrier protein]\n",
    "m2 = model2.metabolites.get_by_id( 'h2o_c' ) #h2o\n",
    "m3 = model2.metabolites.get_by_id( 'ACP_c' ) #Acyl-carrier protein\n",
    "m4 = Metabolite(\n",
    "    'octe9_c',\n",
    "    formula='C18H32O',\n",
    "    name='Oleoyl',\n",
    "    compartment='c') #Oleoyl\n",
    "m5 = model2.metabolites.get_by_id( 'h_c' ) #H+\n",
    "\n",
    "from cobra import Reaction\n",
    "#add FA181ACPHi reaction:\n",
    "reaction1 = Reaction( 'FA181ACPHi' )\n",
    "reaction1.name = 'fatty acyl ACP hydrolase'\n",
    "reaction1.subsystem = 'Fatty Acid Biosynthesis'\n",
    "reaction1.lower_bound = 0\n",
    "reaction1.upper_bound = 1000\n",
    "reaction1.add_metabolites({m1: - 1.0, m2: -1.0, m3: 1.0, m4: 1.0, m5: 1.0})\n",
    "model2.add_reaction(reaction1)"
   ]
  },
  {
   "cell_type": "code",
   "execution_count": 29,
   "metadata": {},
   "outputs": [],
   "source": [
    "from cobra import Metabolite\n",
    "m1 = model2.metabolites.get_by_id( 'ocACP_c' ) #Octanoyl-[acp]\n",
    "m2 = model2.metabolites.get_by_id( 'h2o_c' ) #h2o\n",
    "m3 = model2.metabolites.get_by_id( 'ACP_c' ) #Acyl-carrier protein\n",
    "m4 = Metabolite(\n",
    "    'octa_c',\n",
    "    formula='C8H15O2',\n",
    "    name='octanoate__n_C80_',\n",
    "    compartment='c') #octanoate__n_C80_\t\n",
    "m5 = model2.metabolites.get_by_id( 'h_c' ) #H+\n",
    "\n",
    "from cobra import Reaction\n",
    "#add FA80ACPHi reaction:\n",
    "reaction1 = Reaction( 'FA80ACPHi' )\n",
    "reaction1.name = 'fatty acyl ACP hydrolase'\n",
    "reaction1.subsystem = 'Fatty Acid Biosynthesis'\n",
    "reaction1.lower_bound = 0\n",
    "reaction1.upper_bound = 1000\n",
    "reaction1.add_metabolites({m1: - 1.0, m2: -1.0, m3: 1.0, m4: 1.0, m5: 1.0})\n",
    "model2.add_reaction(reaction1)"
   ]
  },
  {
   "cell_type": "code",
   "execution_count": 30,
   "metadata": {},
   "outputs": [],
   "source": [
    "from cobra import Metabolite\n",
    "m1 = Metabolite(\n",
    "    'dcacoa_c',\n",
    "    formula='C31H50N7O17P3S',\n",
    "    name='Decanoyl_CoA__n_C100CoA_',\n",
    "    compartment='c') #Decanoyl_CoA__n_C100CoA_\n",
    "m2 = model2.metabolites.get_by_id( 'h2o_c' ) #h2o\n",
    "m3 = model2.metabolites.get_by_id( 'coa_c' ) #CoA\n",
    "m4 = model2.metabolites.get_by_id( 'dca_c' ) #Decanoate__n_C100_\t\n",
    "m5 = model2.metabolites.get_by_id( 'h_c' ) #H+\n",
    "\n",
    "from cobra import Reaction\n",
    "#add FACOAE100 reaction:\n",
    "reaction1 = Reaction( 'FACOAE100' )\n",
    "reaction1.name = 'fatty acid CoA thioesterase decanoate'\n",
    "reaction1.subsystem = 'Fatty Acid Metabolism'\n",
    "reaction1.lower_bound = 0\n",
    "reaction1.upper_bound = 1000\n",
    "reaction1.add_metabolites({m1: - 1.0, m2: -1.0, m3: 1.0, m4: 1.0, m5: 1.0})\n",
    "model2.add_reaction(reaction1)"
   ]
  },
  {
   "cell_type": "code",
   "execution_count": 31,
   "metadata": {},
   "outputs": [],
   "source": [
    "from cobra import Metabolite\n",
    "m1 = Metabolite(\n",
    "    'ddcacoa_c',\n",
    "    formula='C33H54N7O17P3S',\n",
    "    name='Dodecanoyl_CoA__n_C120CoA_',\n",
    "    compartment='c') #Dodecanoyl_CoA__n_C120CoA_\n",
    "m2 = model2.metabolites.get_by_id( 'h2o_c' ) #h2o\n",
    "m3 = model2.metabolites.get_by_id( 'coa_c' ) #CoA\n",
    "m4 = model2.metabolites.get_by_id( 'ddca_c' ) #Dodecanoate__n_C120_\n",
    "m5 = model2.metabolites.get_by_id( 'h_c' ) #H+\n",
    "\n",
    "from cobra import Reaction\n",
    "#add FACOAE120 reaction:\n",
    "reaction1 = Reaction( 'FACOAE120' )\n",
    "reaction1.name = 'fatty acid CoA thioesterase dodecanoate'\n",
    "reaction1.subsystem = 'Fatty Acid Metabolism'\n",
    "reaction1.lower_bound = 0\n",
    "reaction1.upper_bound = 1000\n",
    "reaction1.add_metabolites({m1: - 1.0, m2: -1.0, m3: 1.0, m4: 1.0, m5: 1.0})\n",
    "model2.add_reaction(reaction1)"
   ]
  },
  {
   "cell_type": "code",
   "execution_count": 32,
   "metadata": {},
   "outputs": [],
   "source": [
    "from cobra import Metabolite\n",
    "m1 = Metabolite(\n",
    "    'tdcoa_c',\n",
    "    formula='C35H58N7O17P3S',\n",
    "    name='Tetradecanoyl_CoA__n_C140CoA_',\n",
    "    compartment='c') #Tetradecanoyl_CoA__n_C140CoA_\n",
    "m2 = model2.metabolites.get_by_id( 'h2o_c' ) #h2o\n",
    "m3 = model2.metabolites.get_by_id( 'coa_c' ) #CoA\n",
    "m4 = model2.metabolites.get_by_id( 'ttdca_c' ) #tetradecanoate__n_C140_\n",
    "m5 = model2.metabolites.get_by_id( 'h_c' ) #H+\n",
    "\n",
    "from cobra import Reaction\n",
    "#add FACOAE140 reaction:\n",
    "reaction1 = Reaction( 'FACOAE140' )\n",
    "reaction1.name = 'fatty acid CoA thioesterase tetradecanoate'\n",
    "reaction1.subsystem = 'Fatty Acid Metabolism'\n",
    "reaction1.lower_bound = 0\n",
    "reaction1.upper_bound = 1000\n",
    "reaction1.add_metabolites({m1: - 1.0, m2: -1.0, m3: 1.0, m4: 1.0, m5: 1.0})\n",
    "model2.add_reaction(reaction1)"
   ]
  },
  {
   "cell_type": "code",
   "execution_count": 33,
   "metadata": {},
   "outputs": [],
   "source": [
    "from cobra import Metabolite\n",
    "m1 = Metabolite(\n",
    "    'pmtcoa_c',\n",
    "    formula='C37H62N7O17P3S',\n",
    "    name='Palmitoyl_CoA__n_C160CoA_',\n",
    "    compartment='c') #Palmitoyl_CoA__n_C160CoA_\n",
    "m2 = model2.metabolites.get_by_id( 'h2o_c' ) #h2o\n",
    "m3 = model2.metabolites.get_by_id( 'coa_c' ) #CoA\n",
    "m4 = model2.metabolites.get_by_id( 'hdca_c' ) #Hexadecanoate__n_C160_\n",
    "m5 = model2.metabolites.get_by_id( 'h_c' ) #H+\n",
    "\n",
    "from cobra import Reaction\n",
    "#add FACOAE160 reaction:\n",
    "reaction1 = Reaction( 'FACOAE160' )\n",
    "reaction1.name = 'fatty acid CoA thioesterase hexadecanoate'\n",
    "reaction1.subsystem = 'Fatty Acid Metabolism'\n",
    "reaction1.lower_bound = 0\n",
    "reaction1.upper_bound = 1000\n",
    "reaction1.add_metabolites({m1: - 1.0, m2: -1.0, m3: 1.0, m4: 1.0, m5: 1.0})\n",
    "model2.add_reaction(reaction1)"
   ]
  },
  {
   "cell_type": "code",
   "execution_count": 34,
   "metadata": {},
   "outputs": [],
   "source": [
    "from cobra import Metabolite\n",
    "m1 = Metabolite(\n",
    "    'hdcoa_c',\n",
    "    formula='C37H60N7O17P3S',\n",
    "    name='Hexadecenoyl_CoA__n_C161CoA_',\n",
    "    compartment='c') #Hexadecenoyl_CoA__n_C161CoA_\n",
    "m2 = model2.metabolites.get_by_id( 'h2o_c' ) #h2o\n",
    "m3 = model2.metabolites.get_by_id( 'coa_c' ) #CoA\n",
    "m4 = model2.metabolites.get_by_id( 'hdcea_c' ) #Hexadecenoate__n_C161_\n",
    "m5 = model2.metabolites.get_by_id( 'h_c' ) #H+\n",
    "\n",
    "from cobra import Reaction\n",
    "#add FACOAE161 reaction:\n",
    "reaction1 = Reaction( 'FACOAE161' )\n",
    "reaction1.name = 'fatty acid CoA thioesterase hexadecenoate'\n",
    "reaction1.subsystem = 'Fatty Acid Metabolism'\n",
    "reaction1.lower_bound = 0\n",
    "reaction1.upper_bound = 1000\n",
    "reaction1.add_metabolites({m1: - 1.0, m2: -1.0, m3: 1.0, m4: 1.0, m5: 1.0})\n",
    "model2.add_reaction(reaction1)"
   ]
  },
  {
   "cell_type": "code",
   "execution_count": 35,
   "metadata": {},
   "outputs": [],
   "source": [
    "from cobra import Metabolite\n",
    "m1 = Metabolite(\n",
    "    'stcoa_c',\n",
    "    formula='C39H66N7O17P3S',\n",
    "    name='Stearoyl_CoA__n_C180CoA_',\n",
    "    compartment='c') #Stearoyl_CoA__n_C180CoA_\n",
    "m2 = model2.metabolites.get_by_id( 'h2o_c' ) #h2o\n",
    "m3 = model2.metabolites.get_by_id( 'coa_c' ) #CoA\n",
    "m4 = model2.metabolites.get_by_id( 'ocdca_c' ) #Octadecanoate (n-C18:0)\n",
    "m5 = model2.metabolites.get_by_id( 'h_c' ) #H+\n",
    "\n",
    "from cobra import Reaction\n",
    "#add FACOAE180 reaction:\n",
    "reaction1 = Reaction( 'FACOAE180' )\n",
    "reaction1.name = 'fatty acid CoA thioesterase octadecanoate'\n",
    "reaction1.subsystem = 'Fatty Acid Metabolism'\n",
    "reaction1.lower_bound = 0\n",
    "reaction1.upper_bound = 1000\n",
    "reaction1.add_metabolites({m1: - 1.0, m2: -1.0, m3: 1.0, m4: 1.0, m5: 1.0})\n",
    "model2.add_reaction(reaction1)"
   ]
  },
  {
   "cell_type": "code",
   "execution_count": 36,
   "metadata": {},
   "outputs": [],
   "source": [
    "from cobra import Metabolite\n",
    "m1 = Metabolite(\n",
    "    'octe9coa_c',\n",
    "    formula='C39H64N7O17P3S',\n",
    "    name='Octadecenoyl_CoA__n_C181CoA_',\n",
    "    compartment='c') #Octadecenoyl_CoA__n_C181CoA_\n",
    "m2 = model2.metabolites.get_by_id( 'h2o_c' ) #h2o\n",
    "m3 = model2.metabolites.get_by_id( 'coa_c' ) #CoA\n",
    "m4 = model2.metabolites.get_by_id( 'octe9_c' ) #Oleoyl\n",
    "m5 = model2.metabolites.get_by_id( 'h_c' ) #H+\n",
    "\n",
    "from cobra import Reaction\n",
    "#add FACOAE181 reaction:\n",
    "reaction1 = Reaction( 'FACOAE181' )\n",
    "reaction1.name = 'fatty acid CoA thioesterase octadecenoate'\n",
    "reaction1.subsystem = 'Fatty Acid Metabolism'\n",
    "reaction1.lower_bound = 0\n",
    "reaction1.upper_bound = 1000\n",
    "reaction1.add_metabolites({m1: - 1.0, m2: -1.0, m3: 1.0, m4: 1.0, m5: 1.0})\n",
    "model2.add_reaction(reaction1)"
   ]
  },
  {
   "cell_type": "code",
   "execution_count": 37,
   "metadata": {},
   "outputs": [],
   "source": [
    "from cobra import Metabolite\n",
    "m1 = Metabolite(\n",
    "    'occoa_c',\n",
    "    formula='C29H46N7O17P3S',\n",
    "    name='Octanoyl_CoA__n_C80CoA_',\n",
    "    compartment='c') #Octanoyl_CoA__n_C80CoA_\n",
    "m2 = model2.metabolites.get_by_id( 'h2o_c' ) #h2o\n",
    "m3 = model2.metabolites.get_by_id( 'coa_c' ) #CoA\n",
    "m4 = model2.metabolites.get_by_id( 'octa_c' ) #octanoate__n_C80_\n",
    "m5 = model2.metabolites.get_by_id( 'h_c' ) #H+\n",
    "\n",
    "from cobra import Reaction\n",
    "#add FACOAE80 reaction:\n",
    "reaction1 = Reaction( 'FACOAE80' )\n",
    "reaction1.name = 'fatty acid CoA thioesterase octanoate'\n",
    "reaction1.subsystem = 'Fatty Acid Metabolism'\n",
    "reaction1.lower_bound = 0\n",
    "reaction1.upper_bound = 1000\n",
    "reaction1.add_metabolites({m1: - 1.0, m2: -1.0, m3: 1.0, m4: 1.0, m5: 1.0})\n",
    "model2.add_reaction(reaction1)"
   ]
  },
  {
   "cell_type": "code",
   "execution_count": 38,
   "metadata": {},
   "outputs": [],
   "source": [
    "from cobra import Metabolite\n",
    "m1 = model2.metabolites.get_by_id( 'atp_c' ) #ATP\n",
    "m2 = model2.metabolites.get_by_id( 'coa_c' ) #CoA\n",
    "m3 = model2.metabolites.get_by_id( 'dca_c' ) #Decanoate__n_C100_\t\n",
    "m4 = model2.metabolites.get_by_id( 'amp_c' ) #AMP\n",
    "m5 = model2.metabolites.get_by_id( 'dcacoa_c' ) #Decanoyl_CoA__n_C100CoA_\n",
    "m6 = model2.metabolites.get_by_id( 'ppi_c' ) #Diphosphate\n",
    "\n",
    "from cobra import Reaction\n",
    "#add FACOAL100i reaction:\n",
    "reaction1 = Reaction( 'FACOAL100i' )\n",
    "reaction1.name = 'fatty acid CoA ligase decanoate'\n",
    "reaction1.subsystem = 'Fatty Acid Metabolism'\n",
    "reaction1.lower_bound = 0\n",
    "reaction1.upper_bound = 1000\n",
    "reaction1.add_metabolites({m1: - 1.0, m2: -1.0, m3: -1.0, m4: 1.0, m5: 1.0, m6: 1.0})\n",
    "model2.add_reaction(reaction1)"
   ]
  },
  {
   "cell_type": "code",
   "execution_count": 39,
   "metadata": {},
   "outputs": [],
   "source": [
    "from cobra import Metabolite\n",
    "m1 = model2.metabolites.get_by_id( 'atp_c' ) #ATP\n",
    "m2 = model2.metabolites.get_by_id( 'coa_c' ) #CoA\n",
    "m3 = model2.metabolites.get_by_id( 'ddca_c' ) #Dodecanoate__n_C120_\t\n",
    "m4 = model2.metabolites.get_by_id( 'amp_c' ) #AMP\n",
    "m5 = model2.metabolites.get_by_id( 'ddcacoa_c' ) #Dodecanoyl_CoA__n_C120CoA_\n",
    "m6 = model2.metabolites.get_by_id( 'ppi_c' ) #Diphosphate\n",
    "\n",
    "from cobra import Reaction\n",
    "#add FACOAL120i reaction:\n",
    "reaction1 = Reaction( 'FACOAL120i' )\n",
    "reaction1.name = 'fatty acid CoA ligase dodecanoate'\n",
    "reaction1.subsystem = 'Fatty Acid Metabolism'\n",
    "reaction1.lower_bound = 0\n",
    "reaction1.upper_bound = 1000\n",
    "reaction1.add_metabolites({m1: - 1.0, m2: -1.0, m3: -1.0, m4: 1.0, m5: 1.0, m6: 1.0})\n",
    "model2.add_reaction(reaction1)"
   ]
  },
  {
   "cell_type": "code",
   "execution_count": 40,
   "metadata": {},
   "outputs": [],
   "source": [
    "from cobra import Metabolite\n",
    "m1 = model2.metabolites.get_by_id( 'atp_c' ) #ATP\n",
    "m2 = model2.metabolites.get_by_id( 'coa_c' ) #CoA\n",
    "m3 = model2.metabolites.get_by_id( 'ttdca_c' ) #tetradecanoate__n_C140_\t\n",
    "m4 = model2.metabolites.get_by_id( 'amp_c' ) #AMP\n",
    "m5 = model2.metabolites.get_by_id( 'tdcoa_c' ) #Tetradecanoyl_CoA__n_C140CoA_\n",
    "m6 = model2.metabolites.get_by_id( 'ppi_c' ) #Diphosphate\n",
    "\n",
    "from cobra import Reaction\n",
    "#add FACOAL140i reaction:\n",
    "reaction1 = Reaction( 'FACOAL140i' )\n",
    "reaction1.name = 'fatty acid CoA ligase tetradecanoate'\n",
    "reaction1.subsystem = 'Fatty Acid Metabolism'\n",
    "reaction1.lower_bound = 0\n",
    "reaction1.upper_bound = 1000\n",
    "reaction1.add_metabolites({m1: - 1.0, m2: -1.0, m3: -1.0, m4: 1.0, m5: 1.0, m6: 1.0})\n",
    "model2.add_reaction(reaction1)"
   ]
  },
  {
   "cell_type": "code",
   "execution_count": 41,
   "metadata": {},
   "outputs": [],
   "source": [
    "from cobra import Metabolite\n",
    "m1 = model2.metabolites.get_by_id( 'atp_c' ) #ATP\n",
    "m2 = model2.metabolites.get_by_id( 'coa_c' ) #CoA\n",
    "m3 = model2.metabolites.get_by_id( 'hdca_c' ) #Hexadecanoate__n_C160_\n",
    "m4 = model2.metabolites.get_by_id( 'amp_c' ) #AMP\n",
    "m5 = model2.metabolites.get_by_id( 'pmtcoa_c' ) #Palmitoyl_CoA__n_C160CoA_\n",
    "m6 = model2.metabolites.get_by_id( 'ppi_c' ) #Diphosphate\n",
    "\n",
    "from cobra import Reaction\n",
    "#add FACOAL160i reaction:\n",
    "reaction1 = Reaction( 'FACOAL160i' )\n",
    "reaction1.name = 'C160 fatty acid activation'\n",
    "reaction1.subsystem = 'Fatty Acid Metabolism'\n",
    "reaction1.lower_bound = 0\n",
    "reaction1.upper_bound = 1000\n",
    "reaction1.add_metabolites({m1: - 1.0, m2: -1.0, m3: -1.0, m4: 1.0, m5: 1.0, m6: 1.0})\n",
    "model2.add_reaction(reaction1)"
   ]
  },
  {
   "cell_type": "code",
   "execution_count": 42,
   "metadata": {},
   "outputs": [],
   "source": [
    "from cobra import Metabolite\n",
    "m1 = model2.metabolites.get_by_id( 'atp_c' ) #ATP\n",
    "m2 = model2.metabolites.get_by_id( 'coa_c' ) #CoA\n",
    "m3 = model2.metabolites.get_by_id( 'hdcea_c' ) #Hexadecenoate__n_C161_\n",
    "m4 = model2.metabolites.get_by_id( 'amp_c' ) #AMP\n",
    "m5 = model2.metabolites.get_by_id( 'hdcoa_c' ) #Hexadecenoyl_CoA__n_C161CoA_\n",
    "m6 = model2.metabolites.get_by_id( 'ppi_c' ) #Diphosphate\n",
    "\n",
    "from cobra import Reaction\n",
    "#add FACOAL161i reaction:\n",
    "reaction1 = Reaction( 'FACOAL161i' )\n",
    "reaction1.name = 'fatty acid CoA ligase hexadecenoate'\n",
    "reaction1.subsystem = 'Fatty Acid Metabolism'\n",
    "reaction1.lower_bound = 0\n",
    "reaction1.upper_bound = 1000\n",
    "reaction1.add_metabolites({m1: - 1.0, m2: -1.0, m3: -1.0, m4: 1.0, m5: 1.0, m6: 1.0})\n",
    "model2.add_reaction(reaction1)"
   ]
  },
  {
   "cell_type": "code",
   "execution_count": 43,
   "metadata": {},
   "outputs": [],
   "source": [
    "from cobra import Metabolite\n",
    "m1 = model2.metabolites.get_by_id( 'atp_c' ) #ATP\n",
    "m2 = model2.metabolites.get_by_id( 'coa_c' ) #CoA\n",
    "m3 = model2.metabolites.get_by_id( 'ocdca_c' ) #Octadecanoate (n-C18:0)\n",
    "m4 = model2.metabolites.get_by_id( 'amp_c' ) #AMP\n",
    "m5 = model2.metabolites.get_by_id( 'stcoa_c' ) #Stearoyl_CoA__n_C180CoA_\n",
    "m6 = model2.metabolites.get_by_id( 'ppi_c' ) #Diphosphate\n",
    "\n",
    "from cobra import Reaction\n",
    "#add FACOAL180i reaction:\n",
    "reaction1 = Reaction( 'FACOAL180i' )\n",
    "reaction1.name = 'C180 fatty acid activation'\n",
    "reaction1.subsystem = 'Fatty Acid Metabolism'\n",
    "reaction1.lower_bound = 0\n",
    "reaction1.upper_bound = 1000\n",
    "reaction1.add_metabolites({m1: - 1.0, m2: -1.0, m3: -1.0, m4: 1.0, m5: 1.0, m6: 1.0})\n",
    "model2.add_reaction(reaction1)"
   ]
  },
  {
   "cell_type": "code",
   "execution_count": 44,
   "metadata": {},
   "outputs": [],
   "source": [
    "from cobra import Metabolite\n",
    "m1 = model2.metabolites.get_by_id( 'atp_c' ) #ATP\n",
    "m2 = model2.metabolites.get_by_id( 'coa_c' ) #CoA\n",
    "m3 = model2.metabolites.get_by_id( 'octe9_c' ) #Oleoyl\n",
    "m4 = model2.metabolites.get_by_id( 'amp_c' ) #AMP\n",
    "m5 = model2.metabolites.get_by_id( 'octe9coa_c' ) #Octadecenoyl_CoA__n_C181CoA_\n",
    "m6 = model2.metabolites.get_by_id( 'ppi_c' ) #Diphosphate\n",
    "\n",
    "from cobra import Reaction\n",
    "#add FACOAL181i reaction:\n",
    "reaction1 = Reaction( 'FACOAL181i' )\n",
    "reaction1.name = 'C181 fatty acid activation'\n",
    "reaction1.subsystem = 'Fatty Acid Metabolism'\n",
    "reaction1.lower_bound = 0\n",
    "reaction1.upper_bound = 1000\n",
    "reaction1.add_metabolites({m1: - 1.0, m2: -1.0, m3: -1.0, m4: 1.0, m5: 1.0, m6: 1.0})\n",
    "model2.add_reaction(reaction1)"
   ]
  },
  {
   "cell_type": "code",
   "execution_count": 45,
   "metadata": {},
   "outputs": [],
   "source": [
    "from cobra import Metabolite\n",
    "m1 = model2.metabolites.get_by_id( 'atp_c' ) #ATP\n",
    "m2 = model2.metabolites.get_by_id( 'coa_c' ) #CoA\n",
    "m3 = model2.metabolites.get_by_id( 'octa_c' ) #octanoate__n_C80_\n",
    "m4 = model2.metabolites.get_by_id( 'amp_c' ) #AMP\n",
    "m5 = model2.metabolites.get_by_id( 'occoa_c' ) #Octanoyl_CoA__n_C80CoA_\n",
    "m6 = model2.metabolites.get_by_id( 'ppi_c' ) #Diphosphate\n",
    "\n",
    "from cobra import Reaction\n",
    "#add FACOAL80i reaction:\n",
    "reaction1 = Reaction( 'FACOAL80i' )\n",
    "reaction1.name = 'fatty acid CoA ligase octanoate'\n",
    "reaction1.subsystem = 'Fatty Acid Metabolism'\n",
    "reaction1.lower_bound = 0\n",
    "reaction1.upper_bound = 1000\n",
    "reaction1.add_metabolites({m1: - 1.0, m2: -1.0, m3: -1.0, m4: 1.0, m5: 1.0, m6: 1.0})\n",
    "model2.add_reaction(reaction1)"
   ]
  },
  {
   "cell_type": "code",
   "execution_count": 46,
   "metadata": {},
   "outputs": [],
   "source": [
    "from cobra import Metabolite\n",
    "m1 = Metabolite(\n",
    "    'bglyg4n_c',\n",
    "    formula='C24H40O20',\n",
    "    name='branching_glycogen__4_units_',\n",
    "    compartment='c') #branching_glycogen__4_units_\n",
    "m2 = model2.metabolites.get_by_id( 'pi_c' ) #Orthophosphate\n",
    "m3 = model2.metabolites.get_by_id( 'g1p_c' ) #D-Glucose 1-phosphate\n",
    "\n",
    "from cobra import Reaction\n",
    "#add GLCP4 reaction:\n",
    "reaction1 = Reaction( 'GLCP4' )\n",
    "reaction1.name = 'glycogen phosphorylase 4 units'\n",
    "reaction1.subsystem = 'Glycogen and sucrose metabolism'\n",
    "reaction1.lower_bound = 0\n",
    "reaction1.upper_bound = 1000\n",
    "reaction1.add_metabolites({m1: - 1.0, m2: -4.0, m3: 4.0})\n",
    "model2.add_reaction(reaction1)"
   ]
  },
  {
   "cell_type": "code",
   "execution_count": 47,
   "metadata": {},
   "outputs": [],
   "source": [
    "from cobra import Metabolite\n",
    "m1 = Metabolite(\n",
    "    'glyg4n_c',\n",
    "    formula='C24H40O20',\n",
    "    name='glycogen__4_units__linear_glucan',\n",
    "    compartment='c') #glycogen__4_units__linear_glucan\n",
    "m2 = model2.metabolites.get_by_id( 'pi_c' ) #Orthophosphate\n",
    "m3 = model2.metabolites.get_by_id( 'g1p_c' ) #D-Glucose 1-phosphate\n",
    "\n",
    "from cobra import Reaction\n",
    "#add GLCP3 reaction:\n",
    "reaction1 = Reaction( 'GLCP3' )\n",
    "reaction1.name = 'glycogen phosphorylase 4 units'\n",
    "reaction1.subsystem = 'Glycogen and sucrose metabolism'\n",
    "reaction1.lower_bound = 0\n",
    "reaction1.upper_bound = 1000\n",
    "reaction1.add_metabolites({m1: - 1.0, m2: -4.0, m3: 4.0})\n",
    "model2.add_reaction(reaction1)"
   ]
  },
  {
   "cell_type": "code",
   "execution_count": 48,
   "metadata": {},
   "outputs": [
    {
     "name": "stdout",
     "output_type": "stream",
     "text": [
      "894 reactions\n",
      "805 metabolites\n",
      "828 genes\n"
     ]
    }
   ],
   "source": [
    "print(f'{len(model2.reactions)} reactions')\n",
    "print(f'{len(model2.metabolites)} metabolites')\n",
    "print(f'{len(model2.genes)} genes')"
   ]
  },
  {
   "cell_type": "code",
   "execution_count": 49,
   "metadata": {},
   "outputs": [],
   "source": [
    "cobra.io.save_json_model(model2, \"iJB792-new-reactions.json\")"
   ]
  },
  {
   "cell_type": "code",
   "execution_count": 50,
   "metadata": {},
   "outputs": [
    {
     "name": "stdout",
     "output_type": "stream",
     "text": [
      "C:\\Users\\santosm7\\Documents\n",
      "\n",
      "894 reactions\n",
      "805 metabolites\n",
      "828 genes\n"
     ]
    }
   ],
   "source": [
    "import cobra\n",
    "from cobra import Reaction, Metabolite, Model\n",
    "from cobra.util.solver import linear_reaction_coefficients\n",
    "import cobra.test\n",
    "from cobra.medium import minimal_medium\n",
    "import os\n",
    "import numpy as np\n",
    "from os.path import join\n",
    "import matplotlib.pyplot as plt\n",
    "\n",
    "# **************MODEL LOADING SECTION*****************\n",
    "# Loading the model\n",
    "# Remember to edit the data_dir path to where the model is located (NOT including the name of the model itself in it\n",
    "data_dir = r\"C:\\Users\\santosm7\\Documents\"\n",
    "# Check data_dir is as expected\n",
    "print(data_dir + \"\\n\")\n",
    "# Load model; so join combines the path and model name for cobra's load method to function properly\n",
    "import cobra\n",
    "from cobra.io import load_json_model, save_json_model, load_matlab_model, save_matlab_model, read_sbml_model, write_sbml_model\n",
    "model3 = cobra.io.load_json_model(join(data_dir, \"iJB792-new-reactions.json\"))\n",
    "print(f'{len(model3.reactions)} reactions')\n",
    "print(f'{len(model3.metabolites)} metabolites')\n",
    "print(f'{len(model3.genes)} genes')"
   ]
  },
  {
   "cell_type": "code",
   "execution_count": 51,
   "metadata": {},
   "outputs": [
    {
     "name": "stdout",
     "output_type": "stream",
     "text": [
      "<Solution 0.054 at 0x1ee13fc7780>\n"
     ]
    }
   ],
   "source": [
    "#Simulations using flux balance analysis (FBA) can be solved using Model.optimize(). This will maximize or minimize (maximizing is the default) flux through the objective reactions.\n",
    "solution = model3.optimize()\n",
    "print(solution)"
   ]
  },
  {
   "cell_type": "code",
   "execution_count": 52,
   "metadata": {},
   "outputs": [],
   "source": [
    "#add genes Synpcc7942_1585, Synpcc7942_2337, Synpcc7942_0714, Synpcc7942_2134 and Synpcc7942_2360 to AMAA reaction\n",
    "model3.reactions.get_by_id('AMAA').gene_reaction_rule='(Synpcc7942_1585) or (Synpcc7942_2337) or (Synpcc7942_0714) or (Synpcc7942_2134) or (Synpcc7942_2360)'\n",
    "#add gene Synpcc7942_0568 to CSND reaction\n",
    "model3.reactions.get_by_id('CSND').gene_reaction_rule='( Synpcc7942_0568 )'\n",
    "#add gene Synpcc7942_1255 to CYSTL reaction\n",
    "model3.reactions.get_by_id('CYSTL').gene_reaction_rule='( Synpcc7942_1255 )'\n",
    "#add gene Synpcc7942_0469 to DPGM reaction\n",
    "model3.reactions.get_by_id('DPGM').gene_reaction_rule='( Synpcc7942_0469 )'\n",
    "#add gene Synpcc7942_0983 to DRPA reaction\n",
    "model3.reactions.get_by_id('DRPA').gene_reaction_rule='( Synpcc7942_0983 )'\n",
    "#add gene Synpcc7942_1573 to G1Dx reaction\n",
    "model3.reactions.get_by_id('G1Dx').gene_reaction_rule='( Synpcc7942_1573)'\n",
    "#add gene Synpcc7942_2096 to GUACYC reaction\n",
    "model3.reactions.get_by_id('GUACYC').gene_reaction_rule='( Synpcc7942_2096)'\n",
    "#add gene Synpcc7942_1649 to RDXRr reaction\n",
    "model3.reactions.get_by_id('RDXRr').gene_reaction_rule='( Synpcc7942_1649)'\n",
    "#add gene Synpcc7942_0015 to PROAKGOX1 reaction\n",
    "model3.reactions.get_by_id( 'PROAKGOX1').gene_reaction_rule='( Synpcc7942_0015 )'\n",
    "#add gene Synpcc7942_0918 to FACOAL100i, FACOAL120i, FACOAL140i, FACOAL160i, \n",
    "# FACOAL161i, FACOAL180i, FACOAL181i and FACOAL80i reactions\n",
    "model3.reactions.get_by_id('FACOAL100i').gene_reaction_rule='( Synpcc7942_0918 )'\n",
    "model3.reactions.get_by_id('FACOAL120i').gene_reaction_rule='( Synpcc7942_0918 )'\n",
    "model3.reactions.get_by_id('FACOAL140i').gene_reaction_rule='( Synpcc7942_0918 )'\n",
    "model3.reactions.get_by_id('FACOAL160i').gene_reaction_rule='( Synpcc7942_0918 )'\n",
    "model3.reactions.get_by_id('FACOAL161i').gene_reaction_rule='( Synpcc7942_0918 )'\n",
    "model3.reactions.get_by_id('FACOAL180i').gene_reaction_rule='( Synpcc7942_0918 )'\n",
    "model3.reactions.get_by_id('FACOAL181i').gene_reaction_rule='( Synpcc7942_0918 )'\n",
    "model3.reactions.get_by_id('FACOAL80i').gene_reaction_rule='( Synpcc7942_0918 )'\n",
    "#add gene Synpcc7942_0244 to GLCP3 reaction\n",
    "model3.reactions.get_by_id('GLCP3').gene_reaction_rule='( Synpcc7942_0244 )'\n",
    "#add gene Synpcc7942_0244 to GLCP4 reaction\n",
    "model3.reactions.get_by_id('GLCP4').gene_reaction_rule='( Synpcc7942_0244 )'"
   ]
  },
  {
   "cell_type": "code",
   "execution_count": 53,
   "metadata": {},
   "outputs": [
    {
     "name": "stdout",
     "output_type": "stream",
     "text": [
      "894 reactions\n",
      "805 metabolites\n",
      "838 genes\n"
     ]
    }
   ],
   "source": [
    "print(f'{len(model3.reactions)} reactions')\n",
    "print(f'{len(model3.metabolites)} metabolites')\n",
    "print(f'{len(model3.genes)} genes')"
   ]
  },
  {
   "cell_type": "code",
   "execution_count": 146,
   "metadata": {},
   "outputs": [],
   "source": [
    "#model3.reactions.get_by_id('GLCS3').gene_reaction_rule = ' '"
   ]
  },
  {
   "cell_type": "code",
   "execution_count": 54,
   "metadata": {},
   "outputs": [
    {
     "name": "stderr",
     "output_type": "stream",
     "text": [
      "c:\\Users\\santosm7\\Anaconda3\\envs\\solver\\lib\\site-packages\\cobra\\core\\model.py:730: UserWarning: need to pass in a list\n",
      "  warn(\"need to pass in a list\")\n"
     ]
    }
   ],
   "source": [
    "# remove 11 reactions from a model to correct the first fifth ones\n",
    "model3.remove_reactions('GLCS3')\n",
    "model3.remove_reactions('GLCDBRAN3')\n",
    "model3.remove_reactions('GLCBRAN3')\n",
    "model3.remove_reactions('EX_leu__L_e')\n",
    "model3.remove_reactions('BM_CARB')\n",
    "model3.remove_reactions('AACPS6')\n",
    "model3.remove_reactions('GLCP2')\n",
    "model3.remove_reactions('KAS14')\n",
    "model3.remove_reactions('SK_amylose_c')\n",
    "model3.remove_reactions('SK_14glucan_c')\n",
    "model3.remove_reactions('SK_glycogen_c')\n",
    "model3.remove_reactions('DM_for_c')"
   ]
  },
  {
   "cell_type": "code",
   "execution_count": 55,
   "metadata": {},
   "outputs": [
    {
     "name": "stdout",
     "output_type": "stream",
     "text": [
      "882 reactions\n",
      "805 metabolites\n",
      "838 genes\n"
     ]
    }
   ],
   "source": [
    "print(f'{len(model3.reactions)} reactions')\n",
    "print(f'{len(model3.metabolites)} metabolites')\n",
    "print(f'{len(model3.genes)} genes')"
   ]
  },
  {
   "cell_type": "code",
   "execution_count": 56,
   "metadata": {},
   "outputs": [],
   "source": [
    "# remove metabolite from a model\n",
    "model3.remove_metabolites([model3.metabolites.get_by_id(\"amylose_c\")])\n",
    "model3.remove_metabolites([model3.metabolites.get_by_id(\"14glucan_c\")])\n",
    "model3.remove_metabolites([model3.metabolites.get_by_id(\"glycogen_c\")])"
   ]
  },
  {
   "cell_type": "code",
   "execution_count": 57,
   "metadata": {},
   "outputs": [
    {
     "name": "stdout",
     "output_type": "stream",
     "text": [
      "his__L_e\n"
     ]
    }
   ],
   "source": [
    "# find all metabolites without a reaction\n",
    "for mtb in model3.metabolites:\n",
    "    if model3.metabolites.get_by_id(mtb.id).reactions == frozenset():\n",
    "        print(mtb)\n",
    "        model3.remove_metabolites(mtb)"
   ]
  },
  {
   "cell_type": "code",
   "execution_count": 58,
   "metadata": {},
   "outputs": [
    {
     "name": "stdout",
     "output_type": "stream",
     "text": [
      "\n",
      "Second run\n"
     ]
    }
   ],
   "source": [
    "# Some empty metabolites were not removed > run second time\n",
    "print('\\nSecond run')\n",
    "for mtb in model3.metabolites:\n",
    "    if model3.metabolites.get_by_id(mtb.id).reactions == frozenset():\n",
    "        print(mtb)\n",
    "        model3.remove_metabolites(mtb)"
   ]
  },
  {
   "cell_type": "code",
   "execution_count": 59,
   "metadata": {},
   "outputs": [
    {
     "name": "stdout",
     "output_type": "stream",
     "text": [
      "The original number of genes is: 838 \n",
      "\n",
      "Synpcc7942_2518\n",
      "Synpcc7942_1889\n",
      "Synpcc7942_1085\n",
      "Synpcc7942_0034\n",
      "Synpcc7942_0086\n",
      "Synpcc7942_1019\n",
      "\n",
      "The new number of genes is: 832\n"
     ]
    }
   ],
   "source": [
    "print('The original number of genes is:', len(model3.genes), '\\n')\n",
    "\n",
    "# Create a list of genes not associated to reactions\n",
    "gene_del_list = []\n",
    "\n",
    "for gene in model3.genes:\n",
    "    if model3.genes.get_by_id(gene.id).reactions == frozenset():\n",
    "        print(gene)\n",
    "        gene_del_list.append(gene.id)\n",
    "        \n",
    "# Remove genes\n",
    "cobra.manipulation.remove_genes(model3, gene_del_list)\n",
    "        \n",
    "print('\\nThe new number of genes is:', len(model3.genes))"
   ]
  },
  {
   "cell_type": "code",
   "execution_count": 60,
   "metadata": {},
   "outputs": [],
   "source": [
    "from cobra import Metabolite\n",
    "m1 = model3.metabolites.get_by_id( 'bglyg4n_c' ) #branching_glycogen__4_units_\n",
    "m2 = model3.metabolites.get_by_id( 'glyg4n_c' ) #glycogen__4_units__linear_glucan\n",
    "\n",
    "from cobra import Reaction\n",
    "#add GLDBRAN3 reaction:\n",
    "reaction1 = Reaction( 'GLDBRAN3' )\n",
    "reaction1.name = 'glycogen debranching enzyme'\n",
    "reaction1.subsystem = 'Glycogen and sucrose metabolism'\n",
    "reaction1.lower_bound = -1000\n",
    "reaction1.upper_bound = 1000\n",
    "reaction1.add_metabolites({m1: - 1.0, m2: 1.0})\n",
    "model3.add_reaction(reaction1)"
   ]
  },
  {
   "cell_type": "code",
   "execution_count": 61,
   "metadata": {},
   "outputs": [],
   "source": [
    "from cobra import Metabolite\n",
    "m1 = model3.metabolites.get_by_id( 'adpglc_c' ) #ADP-glucose\n",
    "m2 = model3.metabolites.get_by_id( 'adp_c' ) #ADP\n",
    "m3 = model3.metabolites.get_by_id( 'h_c' ) #H+\n",
    "m4 = model3.metabolites.get_by_id( 'glyg4n_c' ) #glycogen__4_units__linear_glucan\n",
    "\n",
    "from cobra import Reaction\n",
    "#add GLCS3 reaction:\n",
    "reaction1 = Reaction( 'GLCS3' )\n",
    "reaction1.name = 'glycogen synthase ADPGlc 4 units'\n",
    "reaction1.subsystem = 'Glycogen and sucrose metabolism'\n",
    "reaction1.lower_bound = -1000\n",
    "reaction1.upper_bound = 1000\n",
    "reaction1.add_metabolites({m1: - 4.0, m2: 4.0, m3: 4.0, m4: 1.0})\n",
    "model3.add_reaction(reaction1)"
   ]
  },
  {
   "cell_type": "code",
   "execution_count": 62,
   "metadata": {},
   "outputs": [],
   "source": [
    "from cobra import Metabolite\n",
    "m1 = model3.metabolites.get_by_id( 'glyg4n_c' ) #glycogen__4_units__linear_glucan\n",
    "m2 = model3.metabolites.get_by_id( 'bglyg4n_c' ) #branching_glycogen__4_units_\n",
    "\n",
    "from cobra import Reaction\n",
    "#add GLBRAN3 reaction:\n",
    "reaction1 = Reaction( 'GLBRAN3' )\n",
    "reaction1.name = '1 4 alpha glucan branching enzyme'\n",
    "reaction1.subsystem = 'Glycogen and sucrose metabolism'\n",
    "reaction1.lower_bound = -1000\n",
    "reaction1.upper_bound = 1000\n",
    "reaction1.add_metabolites({m1: - 1.0, m2: 1.0})\n",
    "model3.add_reaction(reaction1)"
   ]
  },
  {
   "cell_type": "code",
   "execution_count": 63,
   "metadata": {},
   "outputs": [],
   "source": [
    "from cobra import Metabolite\n",
    "m1 = model3.metabolites.get_by_id( 'leu__L_c' ) #L-Leucine\n",
    "\n",
    "from cobra import Reaction\n",
    "#add EX_leu__L_e reaction:\n",
    "reaction1 = Reaction( 'EX_leu__L_e' )\n",
    "reaction1.name = 'Modeling: exchange reaction (leu__L_e)'\n",
    "reaction1.subsystem = 'Extracellular exchange'\n",
    "reaction1.lower_bound = 0\n",
    "reaction1.upper_bound = 1000\n",
    "reaction1.add_metabolites({m1: - 1.0})\n",
    "model3.add_reaction(reaction1)"
   ]
  },
  {
   "cell_type": "code",
   "execution_count": 64,
   "metadata": {},
   "outputs": [],
   "source": [
    "from cobra import Metabolite\n",
    "m1 = model3.metabolites.get_by_id( 'bglyg4n_c' ) #branching_glycogen__4_units_\n",
    "m2 = model3.metabolites.get_by_id( 'glyg4n_c' ) #glycogen__4_units__linear_glucan\n",
    "m3 = model3.metabolites.get_by_id( 'bm_carbs_c' ) #Biomass metabolite: glycogen and carbohydrates\n",
    "\n",
    "from cobra import Reaction\n",
    "#add BM_CARB reaction:\n",
    "reaction1 = Reaction( 'BM_CARB' )\n",
    "reaction1.name = 'Biomass: carbohydrates (storage and misc.)'\n",
    "reaction1.subsystem = 'Biomass and maintenance functions'\n",
    "reaction1.lower_bound = 0\n",
    "reaction1.upper_bound = 1000\n",
    "reaction1.add_metabolites({m1: - 0.44382, m2: -1.0955, m3: 1.0})\n",
    "model3.add_reaction(reaction1)"
   ]
  },
  {
   "cell_type": "code",
   "execution_count": 65,
   "metadata": {},
   "outputs": [
    {
     "name": "stdout",
     "output_type": "stream",
     "text": [
      "887 reactions\n",
      "801 metabolites\n",
      "832 genes\n"
     ]
    }
   ],
   "source": [
    "print(f'{len(model3.reactions)} reactions')\n",
    "print(f'{len(model3.metabolites)} metabolites')\n",
    "print(f'{len(model3.genes)} genes')"
   ]
  },
  {
   "cell_type": "code",
   "execution_count": 66,
   "metadata": {},
   "outputs": [],
   "source": [
    "cobra.io.save_json_model(model3, \"iJB792-GLCS3.json\")"
   ]
  },
  {
   "cell_type": "code",
   "execution_count": 67,
   "metadata": {},
   "outputs": [
    {
     "name": "stdout",
     "output_type": "stream",
     "text": [
      "C:\\Users\\santosm7\\Documents\n",
      "\n",
      "887 reactions\n",
      "801 metabolites\n",
      "832 genes\n"
     ]
    }
   ],
   "source": [
    "import cobra\n",
    "from cobra import Reaction, Metabolite, Model\n",
    "from cobra.util.solver import linear_reaction_coefficients\n",
    "import cobra.test\n",
    "from cobra.medium import minimal_medium\n",
    "import os\n",
    "import numpy as np\n",
    "from os.path import join\n",
    "import matplotlib.pyplot as plt\n",
    "\n",
    "# **************MODEL LOADING SECTION*****************\n",
    "# Loading the model\n",
    "# Remember to edit the data_dir path to where the model is located (NOT including the name of the model itself in it\n",
    "data_dir = r\"C:\\Users\\santosm7\\Documents\"\n",
    "# Check data_dir is as expected\n",
    "print(data_dir + \"\\n\")\n",
    "# Load model; so join combines the path and model name for cobra's load method to function properly\n",
    "import cobra\n",
    "from cobra.io import load_json_model, save_json_model, load_matlab_model, save_matlab_model, read_sbml_model, write_sbml_model\n",
    "model4 = cobra.io.load_json_model(join(data_dir, \"iJB792-GLCS3.json\"))\n",
    "print(f'{len(model4.reactions)} reactions')\n",
    "print(f'{len(model4.metabolites)} metabolites')\n",
    "print(f'{len(model4.genes)} genes')"
   ]
  },
  {
   "cell_type": "code",
   "execution_count": 68,
   "metadata": {},
   "outputs": [],
   "source": [
    "#add gene Synpcc7942_2518 to GLCS3 reaction\n",
    "model4.reactions.get_by_id('GLCS3').gene_reaction_rule='( Synpcc7942_2518 )'\n",
    "#add genes Synpcc7942_0086 and Synpcc7942_1019 to GLDBRAN3 reaction\n",
    "model4.reactions.get_by_id('GLDBRAN3').gene_reaction_rule='( Synpcc7942_0086 and Synpcc7942_1019 )'\n",
    "#add genes Synpcc7942_1085 and Synpcc7942_1889 to GLBRAN3 reaction\n",
    "model4.reactions.get_by_id('GLBRAN3').gene_reaction_rule='( Synpcc7942_1085 or Synpcc7942_1889 )'"
   ]
  },
  {
   "cell_type": "code",
   "execution_count": 69,
   "metadata": {},
   "outputs": [
    {
     "name": "stdout",
     "output_type": "stream",
     "text": [
      "887 reactions\n",
      "801 metabolites\n",
      "837 genes\n"
     ]
    }
   ],
   "source": [
    "print(f'{len(model4.reactions)} reactions')\n",
    "print(f'{len(model4.metabolites)} metabolites')\n",
    "print(f'{len(model4.genes)} genes')"
   ]
  },
  {
   "cell_type": "code",
   "execution_count": 70,
   "metadata": {},
   "outputs": [
    {
     "name": "stdout",
     "output_type": "stream",
     "text": [
      "The original number of genes is: 837 \n",
      "\n",
      "\n",
      "The new number of genes is: 837\n"
     ]
    }
   ],
   "source": [
    "print('The original number of genes is:', len(model4.genes), '\\n')\n",
    "\n",
    "# Create a list of genes not associated to reactions\n",
    "gene_del_list2 = []\n",
    "\n",
    "for gene in model4.genes:\n",
    "    if model4.genes.get_by_id(gene.id).reactions == frozenset():\n",
    "        print(gene)\n",
    "        gene_del_list2.append(gene.id)\n",
    "        \n",
    "# Remove genes\n",
    "cobra.manipulation.remove_genes(model4, gene_del_list2)\n",
    "        \n",
    "print('\\nThe new number of genes is:', len(model4.genes))"
   ]
  },
  {
   "cell_type": "code",
   "execution_count": 71,
   "metadata": {},
   "outputs": [
    {
     "name": "stdout",
     "output_type": "stream",
     "text": [
      "<Solution 0.054 at 0x1ee147bc0b8>\n"
     ]
    }
   ],
   "source": [
    "#Simulations using flux balance analysis (FBA) can be solved using Model.optimize(). This will maximize or minimize (maximizing is the default) flux through the objective reactions.\n",
    "solution = model4.optimize()\n",
    "print(solution)"
   ]
  },
  {
   "cell_type": "code",
   "execution_count": 72,
   "metadata": {},
   "outputs": [],
   "source": [
    "cobra.io.save_json_model(model4, \"iMS837.json\")"
   ]
  },
  {
   "cell_type": "code",
   "execution_count": 73,
   "metadata": {},
   "outputs": [],
   "source": [
    "cobra.io.save_matlab_model(model4, \"iMS837.mat\")"
   ]
  }
 ],
 "metadata": {
  "kernelspec": {
   "display_name": "Python 3.6.13 ('solver': conda)",
   "language": "python",
   "name": "python3"
  },
  "language_info": {
   "codemirror_mode": {
    "name": "ipython",
    "version": 3
   },
   "file_extension": ".py",
   "mimetype": "text/x-python",
   "name": "python",
   "nbconvert_exporter": "python",
   "pygments_lexer": "ipython3",
   "version": "3.6.13"
  },
  "orig_nbformat": 4,
  "vscode": {
   "interpreter": {
    "hash": "9412aebd67153e61c895a86cc8e4b194ea6ea6ec8ee6c482a5ad7b4e6f1413e5"
   }
  }
 },
 "nbformat": 4,
 "nbformat_minor": 2
}
