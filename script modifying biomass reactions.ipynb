{
 "cells": [
  {
   "cell_type": "code",
   "execution_count": 1,
   "metadata": {},
   "outputs": [],
   "source": [
    "from cobra.io.dict import model_from_dict, model_to_dict\n",
    "from cobra.io.json import from_json, load_json_model, save_json_model, to_json\n",
    "from cobra.io.mat import load_matlab_model, save_matlab_model\n",
    "from cobra.io.sbml import read_sbml_model, write_sbml_model, validate_sbml_model\n",
    "from cobra.io.yaml import from_yaml, load_yaml_model, save_yaml_model, to_yaml\n",
    "from cobra.io.web import AbstractModelRepository, BiGGModels, BioModels, load_model"
   ]
  },
  {
   "cell_type": "code",
   "execution_count": 2,
   "metadata": {},
   "outputs": [
    {
     "name": "stdout",
     "output_type": "stream",
     "text": [
      "mini test files: \n",
      "\n"
     ]
    }
   ],
   "source": [
    "from pathlib import Path\n",
    "from cobra.io import load_json_model, save_json_model, load_matlab_model, save_matlab_model, read_sbml_model, write_sbml_model\n",
    "import logging\n",
    "\n",
    "data_dir = Path(\".\") / \"..\" / \"src\" / \"cobra\" / \"data\"\n",
    "data_dir = data_dir.resolve()\n",
    "\n",
    "print(\"mini test files: \")\n",
    "print(\", \".join(str(i) for i in data_dir.glob('mini*.*')))\n",
    "\n",
    "textbook_model = load_model(\"textbook\")\n",
    "ecoli_model = load_model(\"iJO1366\")\n",
    "logging.getLogger(\"cobra.io.sbml\").setLevel(logging.ERROR) # salmonella leads to lots of warnings without this line"
   ]
  },
  {
   "cell_type": "markdown",
   "metadata": {},
   "source": [
    "IMPORT MODEL IN .json format"
   ]
  },
  {
   "cell_type": "code",
   "execution_count": 3,
   "metadata": {},
   "outputs": [
    {
     "name": "stdout",
     "output_type": "stream",
     "text": [
      "C:\\Users\\santosm7\\Documents\n",
      "\n",
      "887 reactions\n",
      "801 metabolites\n",
      "837 genes\n"
     ]
    }
   ],
   "source": [
    "import cobra\n",
    "from cobra import Reaction, Metabolite, Model\n",
    "from cobra.util.solver import linear_reaction_coefficients\n",
    "import cobra.test\n",
    "from cobra.medium import minimal_medium\n",
    "import os\n",
    "import numpy as np\n",
    "from os.path import join\n",
    "import matplotlib.pyplot as plt\n",
    "\n",
    "# **************MODEL LOADING SECTION*****************\n",
    "# Loading the model\n",
    "# Remember to edit the data_dir path to where the model is located (NOT including the name of the model itself in it\n",
    "data_dir = r\"C:\\Users\\santosm7\\Documents\"\n",
    "# Check data_dir is as expected\n",
    "print(data_dir + \"\\n\")\n",
    "# Load model; so join combines the path and model name for cobra's load method to function properly\n",
    "import cobra\n",
    "from cobra.io import load_json_model, save_json_model, load_matlab_model, save_matlab_model, read_sbml_model, write_sbml_model\n",
    "model = cobra.io.load_json_model(join(data_dir, \"iMS837-original-BOF.json\"))\n",
    "print(f'{len(model.reactions)} reactions')\n",
    "print(f'{len(model.metabolites)} metabolites')\n",
    "print(f'{len(model.genes)} genes')"
   ]
  },
  {
   "cell_type": "code",
   "execution_count": 4,
   "metadata": {},
   "outputs": [
    {
     "name": "stderr",
     "output_type": "stream",
     "text": [
      "c:\\Users\\santosm7\\Anaconda3\\envs\\solver\\lib\\site-packages\\cobra\\core\\model.py:730: UserWarning: need to pass in a list\n",
      "  warn(\"need to pass in a list\")\n"
     ]
    }
   ],
   "source": [
    "model.remove_reactions('BOF')\n",
    "model.remove_reactions('BM_PIGMENTS')\n",
    "model.remove_reactions('BM_COFACTORS')\n",
    "model.remove_reactions('BM_MEM_LIPIDS')"
   ]
  },
  {
   "cell_type": "code",
   "execution_count": 5,
   "metadata": {},
   "outputs": [
    {
     "name": "stdout",
     "output_type": "stream",
     "text": [
      "883 reactions\n",
      "801 metabolites\n",
      "837 genes\n"
     ]
    }
   ],
   "source": [
    "print(f'{len(model.reactions)} reactions')\n",
    "print(f'{len(model.metabolites)} metabolites')\n",
    "print(f'{len(model.genes)} genes')"
   ]
  },
  {
   "cell_type": "code",
   "execution_count": 6,
   "metadata": {},
   "outputs": [],
   "source": [
    "cobra.io.save_json_model(model, \"iJB792-most-updated-biomass.json\")"
   ]
  },
  {
   "cell_type": "code",
   "execution_count": 7,
   "metadata": {},
   "outputs": [],
   "source": [
    "cobra.io.save_matlab_model(model, \"iJB792-most-updated-biomass.mat\")"
   ]
  },
  {
   "cell_type": "code",
   "execution_count": 8,
   "metadata": {},
   "outputs": [
    {
     "name": "stdout",
     "output_type": "stream",
     "text": [
      "C:\\Users\\santosm7\\Documents\n",
      "\n",
      "883 reactions\n",
      "801 metabolites\n",
      "837 genes\n"
     ]
    }
   ],
   "source": [
    "import cobra\n",
    "from cobra import Reaction, Metabolite, Model\n",
    "from cobra.util.solver import linear_reaction_coefficients\n",
    "import cobra.test\n",
    "from cobra.medium import minimal_medium\n",
    "import os\n",
    "import numpy as np\n",
    "from os.path import join\n",
    "import matplotlib.pyplot as plt\n",
    "\n",
    "# **************MODEL LOADING SECTION*****************\n",
    "# Loading the model\n",
    "# Remember to edit the data_dir path to where the model is located (NOT including the name of the model itself in it\n",
    "data_dir = r\"C:\\Users\\santosm7\\Documents\"\n",
    "# Check data_dir is as expected\n",
    "print(data_dir + \"\\n\")\n",
    "# Load model; so join combines the path and model name for cobra's load method to function properly\n",
    "import cobra\n",
    "from cobra.io import load_json_model, save_json_model, load_matlab_model, save_matlab_model, read_sbml_model, write_sbml_model\n",
    "model2 = cobra.io.load_json_model(join(data_dir, \"iJB792-most-updated-biomass.json\"))\n",
    "print(f'{len(model2.reactions)} reactions')\n",
    "print(f'{len(model2.metabolites)} metabolites')\n",
    "print(f'{len(model2.genes)} genes')"
   ]
  },
  {
   "cell_type": "code",
   "execution_count": 9,
   "metadata": {},
   "outputs": [],
   "source": [
    "from cobra import Metabolite\n",
    "m1 = model2.metabolites.get_by_id( 'bm_pro_c' ) \n",
    "m2 = model2.metabolites.get_by_id( 'bm_cw_c' )\n",
    "m3 = model2.metabolites.get_by_id( 'bm_pigm_c' ) \n",
    "m4 = model2.metabolites.get_by_id( 'h2o_c' ) #h2o\n",
    "m5 = model2.metabolites.get_by_id( 'bm_cofactors_c' ) \n",
    "m6 = model2.metabolites.get_by_id( 'bm_rna_c' ) \n",
    "m7 = model2.metabolites.get_by_id( 'bm_dna_c' ) \n",
    "m8 = model2.metabolites.get_by_id( 'bm_memlip_c' ) \n",
    "m9 = model2.metabolites.get_by_id( 'atp_c' ) #ATP\n",
    "m10 = model2.metabolites.get_by_id( 'pi_c' ) #Orthophosphate\n",
    "m11 = model2.metabolites.get_by_id( 'adp_c' ) #ADP\n",
    "m12 = model2.metabolites.get_by_id( 'h_c' ) #H+\n",
    "\n",
    "from cobra import Reaction\n",
    "#add BOF reaction:\n",
    "reaction1 = Reaction( 'BOF' )\n",
    "reaction1.name = 'Biomass objective function'\n",
    "reaction1.subsystem = 'Biomass and maintenance functions'\n",
    "reaction1.lower_bound = 0\n",
    "reaction1.upper_bound = 2\n",
    "reaction1.add_metabolites({m1: -0.5099, m2: -0.0793, m3: -0.0221, m4: -30.0, m5: -0.00119, m6: -0.1133, m7: -0.0073, m8: -0.1587, m9: -30.0, m10: 30.0, m11: 30.0, m12: 30.0})\n",
    "model2.add_reaction(reaction1)"
   ]
  },
  {
   "cell_type": "code",
   "execution_count": 10,
   "metadata": {},
   "outputs": [],
   "source": [
    "from cobra import Metabolite\n",
    "m1 = model2.metabolites.get_by_id( 'zeax_c' ) \n",
    "m2 = model2.metabolites.get_by_id( 'phycy_c' )\n",
    "m3 = model2.metabolites.get_by_id( 'caro_c' ) \n",
    "m4 = model2.metabolites.get_by_id( 'cholphya_c' ) \n",
    "m5 = model2.metabolites.get_by_id( 'hpdcn_c' ) \n",
    "m6 = model2.metabolites.get_by_id( 'bm_pigm_c' ) \n",
    "\n",
    "from cobra import Reaction\n",
    "#add BM_PIGMENTS reaction:\n",
    "reaction1 = Reaction( 'BM_PIGMENTS' )\n",
    "reaction1.name = 'Biomass objective function'\n",
    "reaction1.subsystem = 'Biomass and maintenance functions'\n",
    "reaction1.lower_bound = 0\n",
    "reaction1.upper_bound = 1000\n",
    "reaction1.add_metabolites({m1: -0.2028, m2: -0.2332, m3: -0.1014, m4: -0.507, m5: -0.507, m6: 1.0})\n",
    "model2.add_reaction(reaction1)"
   ]
  },
  {
   "cell_type": "code",
   "execution_count": 11,
   "metadata": {},
   "outputs": [],
   "source": [
    "from cobra import Metabolite\n",
    "m1 = model2.metabolites.get_by_id( 'coa_c' ) \n",
    "m2 = model2.metabolites.get_by_id( 'na1_c' )\n",
    "m3 = model2.metabolites.get_by_id( 'fe2_c' ) \n",
    "m4 = model2.metabolites.get_by_id( 'phyQ_c' ) \n",
    "m5 = model2.metabolites.get_by_id( 'thf_c' ) \n",
    "m6 = model2.metabolites.get_by_id( 'mlthf_c' )\n",
    "m7 = model2.metabolites.get_by_id( 'ptrc_c' )\n",
    "m8 = model2.metabolites.get_by_id( 'nadh_c' )\n",
    "m9 = model2.metabolites.get_by_id( 'pq_um' )\n",
    "m10 = model2.metabolites.get_by_id( 'adocbl_c' )\n",
    "m11 = model2.metabolites.get_by_id( 'fad_c' )\n",
    "m12 = model2.metabolites.get_by_id( 'k_c' )\n",
    "m13 = model2.metabolites.get_by_id( 'fe3_c' )\n",
    "m14 = model2.metabolites.get_by_id( 'nad_c' )\n",
    "m15 = model2.metabolites.get_by_id( 'nadph_c' )\n",
    "m16 = model2.metabolites.get_by_id( 'nadp_c' )\n",
    "m17 = model2.metabolites.get_by_id( '5mthf_c' )\n",
    "m18 = model2.metabolites.get_by_id( 'udcpdp_c' )\n",
    "m19 = model2.metabolites.get_by_id( 'thmpp_c' )\n",
    "m20= model2.metabolites.get_by_id( 'sheme_c' )\n",
    "m21= model2.metabolites.get_by_id( 'btamp_c' )\n",
    "m22= model2.metabolites.get_by_id( 'lipopb_c' )\n",
    "m23= model2.metabolites.get_by_id( 'bm_cofactors_c' )\n",
    "\n",
    "from cobra import Reaction\n",
    "#add BM_COFACTORS reaction:\n",
    "reaction1 = Reaction( 'BM_COFACTORS' )\n",
    "reaction1.name = 'Biomass objective function'\n",
    "reaction1.subsystem = 'Biomass and maintenance functions'\n",
    "reaction1.lower_bound = 0\n",
    "reaction1.upper_bound = 1000\n",
    "reaction1.add_metabolites({m1: -0.016, m2: -0.0001, m3: -0.6518, m4: -0.0169, m5: -0.0214, m6: -0.0214, m7: -0.0344, m8: -0.0043, m9: -0.015, m10: -0.0043, \n",
    "m11: -0.0214, m12: -0.0013, m13: -0.6518, m14: -0.1708, m15: -0.032, m16: -0.0107, m17: -0.0213, m18: -0.0096, m19: -0.0213, m20: -0.0213, m21: -0.022, m22: -0.022, m23: 1.0})\n",
    "model2.add_reaction(reaction1)"
   ]
  },
  {
   "cell_type": "code",
   "execution_count": 12,
   "metadata": {},
   "outputs": [],
   "source": [
    "from cobra import Metabolite\n",
    "m1 = model2.metabolites.get_by_id( 'mgdg1619Z160_c' ) \n",
    "m2 = model2.metabolites.get_by_id( 'dgdg1619Z160_c' )\n",
    "m3 = model2.metabolites.get_by_id( 'dgdg161_c' ) \n",
    "m4 = model2.metabolites.get_by_id( 'mgdg161_c' ) \n",
    "m5 = model2.metabolites.get_by_id( 'dgdg1819Z1619Z_c' ) \n",
    "m6 = model2.metabolites.get_by_id( 'mgdg1819Z1619Z_c' )\n",
    "m7 = model2.metabolites.get_by_id( 'pg1819Z160_c' )\n",
    "m8 = model2.metabolites.get_by_id( 'mgdg1819Z160_c' )\n",
    "m9 = model2.metabolites.get_by_id( 'dgdg1819Z160Z_c' )\n",
    "m10 = model2.metabolites.get_by_id( 'bm_memlip_c' )\n",
    "\n",
    "from cobra import Reaction\n",
    "#add BM_MEM_LIPIDS reaction:\n",
    "reaction1 = Reaction( 'BM_MEM_LIPIDS' )\n",
    "reaction1.name = 'Biomass objective function'\n",
    "reaction1.subsystem = 'Biomass and maintenance functions'\n",
    "reaction1.lower_bound = 0\n",
    "reaction1.upper_bound = 1000\n",
    "reaction1.add_metabolites({m1: -0.26732, m2: -0.063325, m3: -0.04039, m4: -0.19923, m5: -0.021025, m6: -0.10399, m7: -0.27262, m8: -0.17207, m9: -0.043961 , m10: 1.0})\n",
    "model2.add_reaction(reaction1)"
   ]
  },
  {
   "cell_type": "code",
   "execution_count": 13,
   "metadata": {},
   "outputs": [],
   "source": [
    "model2.objective = \"BOF\""
   ]
  },
  {
   "cell_type": "code",
   "execution_count": 14,
   "metadata": {},
   "outputs": [
    {
     "name": "stdout",
     "output_type": "stream",
     "text": [
      "887 reactions\n",
      "801 metabolites\n",
      "837 genes\n"
     ]
    }
   ],
   "source": [
    "print(f'{len(model2.reactions)} reactions')\n",
    "print(f'{len(model2.metabolites)} metabolites')\n",
    "print(f'{len(model2.genes)} genes')"
   ]
  },
  {
   "cell_type": "code",
   "execution_count": 15,
   "metadata": {},
   "outputs": [
    {
     "data": {
      "text/html": [
       "\n",
       "        <table>\n",
       "            <tr>\n",
       "                <td><strong>Name</strong></td>\n",
       "                <td>iJB785</td>\n",
       "            </tr><tr>\n",
       "                <td><strong>Memory address</strong></td>\n",
       "                <td>0x01e293e80cf8</td>\n",
       "            </tr><tr>\n",
       "                <td><strong>Number of metabolites</strong></td>\n",
       "                <td>801</td>\n",
       "            </tr><tr>\n",
       "                <td><strong>Number of reactions</strong></td>\n",
       "                <td>887</td>\n",
       "            </tr><tr>\n",
       "                <td><strong>Number of groups</strong></td>\n",
       "                <td>0</td>\n",
       "            </tr><tr>\n",
       "                <td><strong>Objective expression</strong></td>\n",
       "                <td>1.0*BOF - 1.0*BOF_reverse_2629d</td>\n",
       "            </tr><tr>\n",
       "                <td><strong>Compartments</strong></td>\n",
       "                <td>c, u, x, m, p, e, a</td>\n",
       "            </tr>\n",
       "          </table>"
      ],
      "text/plain": [
       "<Model iJB785 at 0x1e293e80cf8>"
      ]
     },
     "execution_count": 15,
     "metadata": {},
     "output_type": "execute_result"
    }
   ],
   "source": [
    "model2"
   ]
  },
  {
   "cell_type": "code",
   "execution_count": 16,
   "metadata": {},
   "outputs": [],
   "source": [
    "cobra.io.save_matlab_model(model2, \"iMS837.mat\")"
   ]
  },
  {
   "cell_type": "code",
   "execution_count": 17,
   "metadata": {},
   "outputs": [],
   "source": [
    "cobra.io.save_json_model(model2, \"iMS837.json\")"
   ]
  },
  {
   "cell_type": "code",
   "execution_count": 18,
   "metadata": {},
   "outputs": [
    {
     "name": "stdout",
     "output_type": "stream",
     "text": [
      "<Solution 0.054 at 0x1e292a7a208>\n"
     ]
    }
   ],
   "source": [
    "#Simulations using flux balance analysis (FBA) can be solved using Model.optimize(). This will maximize or minimize (maximizing is the default) flux through the objective reactions.\n",
    "solution = model2.optimize()\n",
    "print(solution)"
   ]
  }
 ],
 "metadata": {
  "kernelspec": {
   "display_name": "Python 3.6.13 ('solver': conda)",
   "language": "python",
   "name": "python3"
  },
  "language_info": {
   "codemirror_mode": {
    "name": "ipython",
    "version": 3
   },
   "file_extension": ".py",
   "mimetype": "text/x-python",
   "name": "python",
   "nbconvert_exporter": "python",
   "pygments_lexer": "ipython3",
   "version": "3.6.13"
  },
  "orig_nbformat": 4,
  "vscode": {
   "interpreter": {
    "hash": "9412aebd67153e61c895a86cc8e4b194ea6ea6ec8ee6c482a5ad7b4e6f1413e5"
   }
  }
 },
 "nbformat": 4,
 "nbformat_minor": 2
}
