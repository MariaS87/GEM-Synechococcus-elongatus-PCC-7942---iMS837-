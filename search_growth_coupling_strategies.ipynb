{
 "cells": [
  {
   "cell_type": "markdown",
   "id": "58705930",
   "metadata": {},
   "source": [
    "# Strain-desing Workflow"
   ]
  },
  {
   "cell_type": "code",
   "execution_count": 27,
   "id": "912a17f8",
   "metadata": {
    "scrolled": false
   },
   "outputs": [],
   "source": [
    "## IMPORTS\n",
    "#Cobra dependencies\n",
    "import cobra\n",
    "from cobra import Reaction, Metabolite\n",
    "from cobra.io import read_sbml_model, save_matlab_model\n",
    "from cobra.flux_analysis import production_envelope, flux_variability_analysis\n",
    "from cobra.flux_analysis.variability import find_essential_genes\n",
    "from cobra.sampling import sample\n",
    "from cobra.sampling import OptGPSampler, ACHRSampler\n",
    "import gurobipy\n",
    "#Cameo dependencies\n",
    "import cameo\n",
    "from cameo.strain_design.deterministic.linear_programming import OptKnock\n",
    "from cameo import phenotypic_phase_plane\n",
    "from cameo.visualization.plotting.with_plotly import PlotlyPlotter\n",
    "from cameo.flux_analysis.simulation import lmoma, pfba\n",
    "#Data processing dependencies\n",
    "import pandas as pd\n",
    "import ast\n",
    "import plotly.express as px\n",
    "from itertools import combinations\n",
    "#Metabolic design helper functions\n",
    "from pyfastcore import set_medium, Fastcore\n",
    "#Our own helper functions\n",
    "from designFunctions import *"
   ]
  },
  {
   "cell_type": "markdown",
   "id": "beed9d0c",
   "metadata": {},
   "source": [
    "## Phase 1: Generate OptKnock Results"
   ]
  },
  {
   "cell_type": "code",
   "execution_count": 28,
   "id": "d7c45ee6",
   "metadata": {},
   "outputs": [],
   "source": [
    "#Set the parameters for exploration of all combinations:\n",
    "max_knock_out_range =  range(3,6,1)\n",
    "max_cl_range = range(12,8,-1)\n",
    "replicates = 3\n",
    "#Project-specific parameters\n",
    "dir_path = '.'\n",
    "project_name = 'synecococcus_LA_ko_results'\n",
    "experiment = '_'.join(project_name.split('_')[0:-2])\n",
    "framework_name = 'cameo' # mewpy or cameo\n",
    "minimum_growth_fraction = 0.1\n",
    "NEED_TO_SET_UP_MEDIA = False\n",
    "set_up_params = {'dir_path' : dir_path,\n",
    "                 'project' : project_name,\n",
    "                 'framework' : framework_name,\n",
    "                 'min_growth' : minimum_growth_fraction,\n",
    "                 'max_cl_range' : max_cl_range,\n",
    "                 'max_knock_out_range' : max_knock_out_range,\n",
    "                 'replicates' : replicates}\n",
    "#Parameters for flux sampling strategy generation\n",
    "sorting_param = 'Normalised_max_Flux' #TO CHOOSE BETWEEN: 'Normalised_max_Flux',               \n",
    "secondary_param = 'Presence'          #                   'Normalised_max_biomass' or 'Presence'\n",
    "#Flux Sampling Parameters:\n",
    "TOP_CANDIDATES = 10\n",
    "N_OF_DELETIONS = 5\n",
    "TOP_DELETION_STRAINS = 2\n",
    "N_OF_DELETION_STRAINS = 6\n",
    "#Selection Parameters:\n",
    "TOP_STRATEGIES = 5"
   ]
  },
  {
   "cell_type": "markdown",
   "id": "5a1e5ead",
   "metadata": {},
   "source": [
    "### 1.1 Model & media specification"
   ]
  },
  {
   "cell_type": "code",
   "execution_count": 29,
   "id": "fe189329",
   "metadata": {
    "scrolled": false
   },
   "outputs": [
    {
     "data": {
      "text/html": [
       "<h3>Objective</h3><p>1.0 BOF_acetate_mixotrophy = 0.06155664569032385</p><h4>Uptake</h4><table border=\"1\" class=\"dataframe\">\n",
       "  <thead>\n",
       "    <tr style=\"text-align: right;\">\n",
       "      <th>Metabolite</th>\n",
       "      <th>Reaction</th>\n",
       "      <th>Flux</th>\n",
       "      <th>C-Number</th>\n",
       "      <th>C-Flux</th>\n",
       "    </tr>\n",
       "  </thead>\n",
       "  <tbody>\n",
       "    <tr>\n",
       "      <td>ac_e</td>\n",
       "      <td>EX_ac_e</td>\n",
       "      <td>0.1802</td>\n",
       "      <td>2</td>\n",
       "      <td>17.59%</td>\n",
       "    </tr>\n",
       "    <tr>\n",
       "      <td>co2_e</td>\n",
       "      <td>EX_co2_e</td>\n",
       "      <td>0.9083</td>\n",
       "      <td>1</td>\n",
       "      <td>44.34%</td>\n",
       "    </tr>\n",
       "    <tr>\n",
       "      <td>cobalt2_e</td>\n",
       "      <td>EX_cobalt2_e</td>\n",
       "      <td>0.002271</td>\n",
       "      <td>0</td>\n",
       "      <td>0.00%</td>\n",
       "    </tr>\n",
       "    <tr>\n",
       "      <td>fe3_e</td>\n",
       "      <td>EX_fe3_e</td>\n",
       "      <td>0.009585</td>\n",
       "      <td>0</td>\n",
       "      <td>0.00%</td>\n",
       "    </tr>\n",
       "    <tr>\n",
       "      <td>h_e</td>\n",
       "      <td>EX_h_e</td>\n",
       "      <td>0.4743</td>\n",
       "      <td>0</td>\n",
       "      <td>0.00%</td>\n",
       "    </tr>\n",
       "    <tr>\n",
       "      <td>hco3_e</td>\n",
       "      <td>EX_hco3_e</td>\n",
       "      <td>0.7798</td>\n",
       "      <td>1</td>\n",
       "      <td>38.07%</td>\n",
       "    </tr>\n",
       "    <tr>\n",
       "      <td>k_e</td>\n",
       "      <td>EX_k_e</td>\n",
       "      <td>0.003423</td>\n",
       "      <td>0</td>\n",
       "      <td>0.00%</td>\n",
       "    </tr>\n",
       "    <tr>\n",
       "      <td>mg2_e</td>\n",
       "      <td>EX_mg2_e</td>\n",
       "      <td>0.005934</td>\n",
       "      <td>0</td>\n",
       "      <td>0.00%</td>\n",
       "    </tr>\n",
       "    <tr>\n",
       "      <td>na1_e</td>\n",
       "      <td>EX_na1_e</td>\n",
       "      <td>0.005821</td>\n",
       "      <td>0</td>\n",
       "      <td>0.00%</td>\n",
       "    </tr>\n",
       "    <tr>\n",
       "      <td>nh4_e</td>\n",
       "      <td>EX_nh4_e</td>\n",
       "      <td>0.5291</td>\n",
       "      <td>0</td>\n",
       "      <td>0.00%</td>\n",
       "    </tr>\n",
       "    <tr>\n",
       "      <td>photon650_e</td>\n",
       "      <td>EX_photon650_e</td>\n",
       "      <td>0.0004278</td>\n",
       "      <td>0</td>\n",
       "      <td>0.00%</td>\n",
       "    </tr>\n",
       "    <tr>\n",
       "      <td>photon670_e</td>\n",
       "      <td>EX_photon670_e</td>\n",
       "      <td>6.449</td>\n",
       "      <td>0</td>\n",
       "      <td>0.00%</td>\n",
       "    </tr>\n",
       "    <tr>\n",
       "      <td>photon690_e</td>\n",
       "      <td>EX_photon690_e</td>\n",
       "      <td>12.07</td>\n",
       "      <td>0</td>\n",
       "      <td>0.00%</td>\n",
       "    </tr>\n",
       "    <tr>\n",
       "      <td>pi_e</td>\n",
       "      <td>EX_pi_e</td>\n",
       "      <td>0.05351</td>\n",
       "      <td>0</td>\n",
       "      <td>0.00%</td>\n",
       "    </tr>\n",
       "    <tr>\n",
       "      <td>so4_e</td>\n",
       "      <td>EX_so4_e</td>\n",
       "      <td>0.009632</td>\n",
       "      <td>0</td>\n",
       "      <td>0.00%</td>\n",
       "    </tr>\n",
       "  </tbody>\n",
       "</table><h4>Secretion</h4><table border=\"1\" class=\"dataframe\">\n",
       "  <thead>\n",
       "    <tr style=\"text-align: right;\">\n",
       "      <th>Metabolite</th>\n",
       "      <th>Reaction</th>\n",
       "      <th>Flux</th>\n",
       "      <th>C-Number</th>\n",
       "      <th>C-Flux</th>\n",
       "    </tr>\n",
       "  </thead>\n",
       "  <tbody>\n",
       "    <tr>\n",
       "      <td>co_c</td>\n",
       "      <td>DM_co_c</td>\n",
       "      <td>-0.0003007</td>\n",
       "      <td>1</td>\n",
       "      <td>100.00%</td>\n",
       "    </tr>\n",
       "    <tr>\n",
       "      <td>pho_loss_c</td>\n",
       "      <td>DM_pho_loss_c</td>\n",
       "      <td>-0.3224</td>\n",
       "      <td>0</td>\n",
       "      <td>0.00%</td>\n",
       "    </tr>\n",
       "    <tr>\n",
       "      <td>o2_e</td>\n",
       "      <td>EX_o2_e</td>\n",
       "      <td>-1.775</td>\n",
       "      <td>0</td>\n",
       "      <td>0.00%</td>\n",
       "    </tr>\n",
       "  </tbody>\n",
       "</table>"
      ],
      "text/plain": [
       "<cobra.summary.model_summary.ModelSummary at 0x7f9ae5b30370>"
      ]
     },
     "execution_count": 29,
     "metadata": {},
     "output_type": "execute_result"
    }
   ],
   "source": [
    "#Specify the model and the required parameters\n",
    "model_path = 'cyanobacteria_models/paper/iMS837'\n",
    "model_filename = 'syneco_acetate_mixotrophic_conditions.json'\n",
    "model=cobra.io.load_json_model('/'.join([project_name, model_path, model_filename]))\n",
    "target_biomass = 'BOF_acetate_mixotrophy'\n",
    "target_metabolites = ['octe_9_12_15_e']\n",
    "target_reaction = 'DM_ALA'\n",
    "carbon_source = 'EX_ac_e'\n",
    "#minimize flux ranges to reduce the solution space\n",
    "model.summary()"
   ]
  },
  {
   "cell_type": "markdown",
   "id": "ebd18b7b",
   "metadata": {},
   "source": [
    "### 1.2 Model reduction"
   ]
  },
  {
   "cell_type": "code",
   "execution_count": 30,
   "id": "110b7860",
   "metadata": {
    "scrolled": false
   },
   "outputs": [
    {
     "name": "stdout",
     "output_type": "stream",
     "text": [
      "Read LP format model from file /tmp/tmpxex6fwvh.lp\n",
      "Reading time = 0.00 seconds\n",
      ": 835 rows, 1504 columns, 6914 nonzeros\n",
      "Read LP format model from file /tmp/tmpxjoibuyy.lp\n",
      "Reading time = 0.00 seconds\n",
      ": 835 rows, 1504 columns, 6914 nonzeros\n",
      "Read LP format model from file /tmp/tmpt9bm1a35.lp\n",
      "Reading time = 0.00 seconds\n",
      ": 835 rows, 1504 columns, 6914 nonzeros\n",
      "Removing a total of 140 blocked reactions...\n"
     ]
    },
    {
     "data": {
      "text/html": [
       "<h3>Objective</h3><p>1.0 BOF_acetate_mixotrophy = 0.06155664569032035</p><h4>Uptake</h4><table border=\"1\" class=\"dataframe\">\n",
       "  <thead>\n",
       "    <tr style=\"text-align: right;\">\n",
       "      <th>Metabolite</th>\n",
       "      <th>Reaction</th>\n",
       "      <th>Flux</th>\n",
       "      <th>C-Number</th>\n",
       "      <th>C-Flux</th>\n",
       "    </tr>\n",
       "  </thead>\n",
       "  <tbody>\n",
       "    <tr>\n",
       "      <td>ac_e</td>\n",
       "      <td>EX_ac_e</td>\n",
       "      <td>0.1802</td>\n",
       "      <td>2</td>\n",
       "      <td>17.59%</td>\n",
       "    </tr>\n",
       "    <tr>\n",
       "      <td>co2_e</td>\n",
       "      <td>EX_co2_e</td>\n",
       "      <td>0.9083</td>\n",
       "      <td>1</td>\n",
       "      <td>44.34%</td>\n",
       "    </tr>\n",
       "    <tr>\n",
       "      <td>cobalt2_e</td>\n",
       "      <td>EX_cobalt2_e</td>\n",
       "      <td>0.002271</td>\n",
       "      <td>0</td>\n",
       "      <td>0.00%</td>\n",
       "    </tr>\n",
       "    <tr>\n",
       "      <td>fe3_e</td>\n",
       "      <td>EX_fe3_e</td>\n",
       "      <td>0.009585</td>\n",
       "      <td>0</td>\n",
       "      <td>0.00%</td>\n",
       "    </tr>\n",
       "    <tr>\n",
       "      <td>h_e</td>\n",
       "      <td>EX_h_e</td>\n",
       "      <td>0.4743</td>\n",
       "      <td>0</td>\n",
       "      <td>0.00%</td>\n",
       "    </tr>\n",
       "    <tr>\n",
       "      <td>hco3_e</td>\n",
       "      <td>EX_hco3_e</td>\n",
       "      <td>0.7798</td>\n",
       "      <td>1</td>\n",
       "      <td>38.07%</td>\n",
       "    </tr>\n",
       "    <tr>\n",
       "      <td>k_e</td>\n",
       "      <td>EX_k_e</td>\n",
       "      <td>0.003423</td>\n",
       "      <td>0</td>\n",
       "      <td>0.00%</td>\n",
       "    </tr>\n",
       "    <tr>\n",
       "      <td>mg2_e</td>\n",
       "      <td>EX_mg2_e</td>\n",
       "      <td>0.005934</td>\n",
       "      <td>0</td>\n",
       "      <td>0.00%</td>\n",
       "    </tr>\n",
       "    <tr>\n",
       "      <td>na1_e</td>\n",
       "      <td>EX_na1_e</td>\n",
       "      <td>0.005821</td>\n",
       "      <td>0</td>\n",
       "      <td>0.00%</td>\n",
       "    </tr>\n",
       "    <tr>\n",
       "      <td>nh4_e</td>\n",
       "      <td>EX_nh4_e</td>\n",
       "      <td>0.5291</td>\n",
       "      <td>0</td>\n",
       "      <td>0.00%</td>\n",
       "    </tr>\n",
       "    <tr>\n",
       "      <td>photon650_e</td>\n",
       "      <td>EX_photon650_e</td>\n",
       "      <td>0.0004278</td>\n",
       "      <td>0</td>\n",
       "      <td>0.00%</td>\n",
       "    </tr>\n",
       "    <tr>\n",
       "      <td>photon670_e</td>\n",
       "      <td>EX_photon670_e</td>\n",
       "      <td>6.449</td>\n",
       "      <td>0</td>\n",
       "      <td>0.00%</td>\n",
       "    </tr>\n",
       "    <tr>\n",
       "      <td>photon690_e</td>\n",
       "      <td>EX_photon690_e</td>\n",
       "      <td>12.07</td>\n",
       "      <td>0</td>\n",
       "      <td>0.00%</td>\n",
       "    </tr>\n",
       "    <tr>\n",
       "      <td>pi_e</td>\n",
       "      <td>EX_pi_e</td>\n",
       "      <td>0.05351</td>\n",
       "      <td>0</td>\n",
       "      <td>0.00%</td>\n",
       "    </tr>\n",
       "    <tr>\n",
       "      <td>so4_e</td>\n",
       "      <td>EX_so4_e</td>\n",
       "      <td>0.009632</td>\n",
       "      <td>0</td>\n",
       "      <td>0.00%</td>\n",
       "    </tr>\n",
       "  </tbody>\n",
       "</table><h4>Secretion</h4><table border=\"1\" class=\"dataframe\">\n",
       "  <thead>\n",
       "    <tr style=\"text-align: right;\">\n",
       "      <th>Metabolite</th>\n",
       "      <th>Reaction</th>\n",
       "      <th>Flux</th>\n",
       "      <th>C-Number</th>\n",
       "      <th>C-Flux</th>\n",
       "    </tr>\n",
       "  </thead>\n",
       "  <tbody>\n",
       "    <tr>\n",
       "      <td>co_c</td>\n",
       "      <td>DM_co_c</td>\n",
       "      <td>-0.0003007</td>\n",
       "      <td>1</td>\n",
       "      <td>100.00%</td>\n",
       "    </tr>\n",
       "    <tr>\n",
       "      <td>pho_loss_c</td>\n",
       "      <td>DM_pho_loss_c</td>\n",
       "      <td>-0.3224</td>\n",
       "      <td>0</td>\n",
       "      <td>0.00%</td>\n",
       "    </tr>\n",
       "    <tr>\n",
       "      <td>o2_e</td>\n",
       "      <td>EX_o2_e</td>\n",
       "      <td>-1.775</td>\n",
       "      <td>0</td>\n",
       "      <td>0.00%</td>\n",
       "    </tr>\n",
       "  </tbody>\n",
       "</table>"
      ],
      "text/plain": [
       "<cobra.summary.model_summary.ModelSummary at 0x7f9adee71a60>"
      ]
     },
     "execution_count": 30,
     "metadata": {},
     "output_type": "execute_result"
    }
   ],
   "source": [
    "#Preprocess the model with user data\n",
    "configured_model = model.copy()\n",
    "configured_model.objective = target_biomass\n",
    "#Specify media if not previously define in a preparation script\n",
    "if NEED_TO_SET_UP_MEDIA:\n",
    "    media_definition = {    'EX_ca2_e' : 10,\n",
    "                            'EX_cl_e' : 10,\n",
    "                            'EX_co2_e' : 100,\n",
    "                            'EX_cobalt2_e' : 10,\n",
    "                            'EX_cu2_e' : 10,\n",
    "                            'EX_fe2_e' : 10,\n",
    "                            'EX_fe3_e' : 0,\n",
    "                            'EX_h_e' : 100,\n",
    "                            'EX_h2o_e' : 100,\n",
    "                            'EX_k_e' : 10,\n",
    "                            'EX_mg2_e' : 10,\n",
    "                            'EX_mn2_e' : 10,\n",
    "                            'EX_mobd_e' : 10,\n",
    "                            'EX_na1_e' : 10,\n",
    "                            'EX_tungs_e' : 1000,\n",
    "                            'EX_zn2_e' : 10,\n",
    "                            'EX_ni2_e' : 10,\n",
    "                            'EX_sel_e' : 1000,\n",
    "                            'EX_slnt_e' : 1000,\n",
    "                            'EX_so4_e' : 10,\n",
    "                            'EX_nh4_e' : 10,\n",
    "                            'EX_pi_e' : 10,\n",
    "                            'EX_cbl1_e' : 0,\n",
    "                            'EX_o2_e' : 30,\n",
    "                            carbon_source : 3.78}\n",
    "    \n",
    "    set_medium(configured_model, media_definition, inplace=True)\n",
    "\n",
    "configured_model = purge_non_objective_biomass(configured_model, target_biomass, n_of_biomass_reactions=3)\n",
    "blocked_reactions = set([r.id for r in configured_model.reactions])-set(get_rxn_with_fva_flux(configured_model))\n",
    "#remove blocked reactions\n",
    "print('Removing a total of %d blocked reactions...' % len(blocked_reactions))\n",
    "configured_model.remove_reactions(blocked_reactions)\n",
    "#save model to .mat format if it were neccessary to run gcFront after\n",
    "save_matlab_model(configured_model, '/'.join([dir_path, project_name, \"configured_model.mat\"]))\n",
    "configured_model.summary()"
   ]
  },
  {
   "cell_type": "markdown",
   "id": "1ad0d6c9",
   "metadata": {},
   "source": [
    "### 1.3 Generate OptKnock strategies along th parameter space"
   ]
  },
  {
   "cell_type": "code",
   "execution_count": null,
   "id": "85b6d6c1",
   "metadata": {
    "scrolled": true
   },
   "outputs": [],
   "source": [
    "#Generate OptKnock results for the specified parameters:\n",
    "generate_strategies(set_up_params, configured_model, target_biomass, target_reaction, carbon_source, blocked_reactions)"
   ]
  },
  {
   "cell_type": "markdown",
   "id": "ca0afbad",
   "metadata": {},
   "source": [
    "## Phase 2: Strategy comparision & selection"
   ]
  },
  {
   "cell_type": "code",
   "execution_count": null,
   "id": "37e577eb",
   "metadata": {
    "scrolled": true
   },
   "outputs": [],
   "source": [
    "analysis_type = ['gene_candidates','strategies_eval']\n",
    "\n",
    "raw_df, results_df = analyse_results(set_up_params,configured_model,target_reaction,sorting_param,analysis_type=analysis_type)"
   ]
  },
  {
   "cell_type": "code",
   "execution_count": 33,
   "id": "d58ded3f",
   "metadata": {
    "scrolled": false
   },
   "outputs": [
    {
     "data": {
      "application/vnd.plotly.v1+json": {
       "config": {
        "plotlyServerURL": "https://plot.ly"
       },
       "data": [
        {
         "alignmentgroup": "True",
         "hovertemplate": "Reaction=%{x}<br>Normalised_max_Flux=%{y}<br>Presence=%{marker.color}<extra></extra>",
         "legendgroup": "",
         "marker": {
          "color": [
           0.08974358974358974,
           0.44871794871794873,
           0.24358974358974358,
           3.0256410256410255,
           1.6282051282051282,
           0.4230769230769231,
           0.9871794871794872,
           1.0897435897435896,
           0.1794871794871795,
           0.44871794871794873,
           0.11538461538461539,
           0.10256410256410256,
           1.3974358974358974,
           0.07692307692307693,
           0.05128205128205128,
           0.05128205128205128,
           0.41025641025641024,
           0.19230769230769232,
           0.28205128205128205,
           0.3076923076923077,
           0.21794871794871795,
           0.05128205128205128,
           0.1794871794871795,
           0.10256410256410256,
           0.19230769230769232,
           0.19230769230769232,
           0.10256410256410256,
           0.0641025641025641,
           0.44871794871794873,
           0.0641025641025641,
           0.15384615384615385,
           0.24358974358974358,
           0.02564102564102564,
           0.01282051282051282,
           0.0641025641025641,
           0.4358974358974359,
           0.02564102564102564,
           0.01282051282051282,
           0.3076923076923077,
           0.07692307692307693,
           0.24358974358974358,
           0.28205128205128205,
           0.07692307692307693,
           0.38461538461538464,
           0.02564102564102564,
           0.05128205128205128,
           0.1794871794871795,
           0.07692307692307693,
           0.01282051282051282,
           0.02564102564102564,
           0.23076923076923078,
           0.0641025641025641,
           0.038461538461538464,
           0.038461538461538464,
           0.01282051282051282,
           0.01282051282051282,
           0.0641025641025641,
           0.02564102564102564,
           0.15384615384615385,
           0.0641025641025641,
           0.0641025641025641,
           0.05128205128205128,
           0.02564102564102564,
           0.01282051282051282,
           0.01282051282051282,
           0.02564102564102564,
           0.02564102564102564,
           0.01282051282051282,
           0.02564102564102564,
           0.01282051282051282,
           0.01282051282051282,
           0.01282051282051282,
           0.02564102564102564,
           0.01282051282051282,
           0.02564102564102564,
           0.01282051282051282,
           0.02564102564102564,
           0.01282051282051282
          ],
          "coloraxis": "coloraxis",
          "pattern": {
           "shape": ""
          }
         },
         "name": "",
         "offsetgroup": "",
         "orientation": "v",
         "showlegend": false,
         "textposition": "auto",
         "type": "bar",
         "x": [
          "LALGP",
          "GND",
          "TALA",
          "RNDR4",
          "DCTPD",
          "PGCD",
          "FDH6",
          "GART",
          "PEPC",
          "PSERT",
          "ANHMK",
          "GLCS3",
          "NDPK6",
          "GTHS",
          "ACODA",
          "GGCLUT2",
          "AGDC",
          "DMPPS_syn",
          "FNOR",
          "PGL",
          "PPA",
          "ANS",
          "NADTRHD",
          "ACM6PH",
          "FBP",
          "VPAMTr",
          "CAT",
          "ACGS",
          "G6PDH2r",
          "ORNTAC",
          "ACGAMK",
          "FBA",
          "LDH_D",
          "ACKr",
          "TRDR",
          "PSP_L",
          "SPTr",
          "MDDCP2pp",
          "GLUSfx",
          "ME2",
          "AMPTASECG",
          "VALTA",
          "PDH",
          "ALAD_L",
          "ALAGLUE",
          "PPKr",
          "SBP",
          "IPDPS",
          "G6PDA",
          "GAPD",
          "PYK",
          "IPDDI",
          "GTHPi",
          "OPAH",
          "GTHRDH",
          "MLTGY4pp",
          "TRDRf",
          "ADPGDP",
          "FBA3",
          "AGTi",
          "HEX7",
          "GLYCK",
          "GLUCYS",
          "TRPS2",
          "MDDEP4pp",
          "GLYDHDA",
          "GLYCOX2",
          "PPS",
          "TRPS3",
          "DCTPD2",
          "ASPO5",
          "ASPO6",
          "PFK",
          "GLYCOR_nadp",
          "TRPS1",
          "NTPP8",
          "FUM",
          "NAD_H2"
         ],
         "xaxis": "x",
         "y": [
          1,
          1,
          1,
          1,
          1,
          0.9999999999904197,
          0.9999999999904197,
          0.9999999999904197,
          0.9999999999904197,
          0.9999990835448674,
          0.9999990835448674,
          0.9999990835244035,
          0.9999990835244035,
          0.9999990835244035,
          0.9999990835244035,
          0.9999989572710318,
          0.9999989572710318,
          0.9999989572428719,
          0.9999989572385043,
          0.9999989572385043,
          0.999997852761152,
          0.9999978371373685,
          0.999997837135155,
          0.9999972193877565,
          0.9999970544865012,
          0.999997010637947,
          0.999997010637947,
          0.999997010637947,
          0.999997006214107,
          0.999997006214107,
          0.9999967917871495,
          0.9999967916980138,
          0.9999967916980138,
          0.9999965880395892,
          0.999996302569255,
          0.999996302569255,
          0.9999963025486968,
          0.9999963025486968,
          0.9999959135945319,
          0.9999959135488742,
          0.9999959135488742,
          0.9999953141241514,
          0.9999953087202496,
          0.9999952621975264,
          0.9999950534381777,
          0.9999950534143266,
          0.9999950280815608,
          0.9999950280815608,
          0.9999949737014608,
          0.9999949736701801,
          0.9999948606157485,
          0.9999947934641108,
          0.9999947673250262,
          0.9999947672717936,
          0.9999947672717936,
          0.999994474807017,
          0.9999943454138976,
          0.9999941135691777,
          0.9999941135691777,
          0.9999939237854459,
          0.9999939237854459,
          0.9999937479592685,
          0.9999937245402654,
          0.9999930708458734,
          0.9999929934587773,
          0.9999928722774629,
          0.9999922242789443,
          0.9999919323771893,
          0.9999916880032532,
          0.9999912786498658,
          0.9999912786225361,
          0.9999910858132757,
          0.9999904321081513,
          0.9999904320528846,
          0.9999904320528472,
          0.999988377134849,
          0.9932543022876322,
          0.8209411231472069
         ],
         "yaxis": "y"
        }
       ],
       "layout": {
        "barmode": "relative",
        "coloraxis": {
         "colorbar": {
          "title": {
           "text": "Presence"
          }
         },
         "colorscale": [
          [
           0,
           "rgb(255,0,0)"
          ],
          [
           1,
           "rgb(0,0,255)"
          ]
         ]
        },
        "legend": {
         "tracegroupgap": 0
        },
        "margin": {
         "t": 60
        },
        "template": {
         "data": {
          "bar": [
           {
            "error_x": {
             "color": "#2a3f5f"
            },
            "error_y": {
             "color": "#2a3f5f"
            },
            "marker": {
             "line": {
              "color": "#E5ECF6",
              "width": 0.5
             },
             "pattern": {
              "fillmode": "overlay",
              "size": 10,
              "solidity": 0.2
             }
            },
            "type": "bar"
           }
          ],
          "barpolar": [
           {
            "marker": {
             "line": {
              "color": "#E5ECF6",
              "width": 0.5
             },
             "pattern": {
              "fillmode": "overlay",
              "size": 10,
              "solidity": 0.2
             }
            },
            "type": "barpolar"
           }
          ],
          "carpet": [
           {
            "aaxis": {
             "endlinecolor": "#2a3f5f",
             "gridcolor": "white",
             "linecolor": "white",
             "minorgridcolor": "white",
             "startlinecolor": "#2a3f5f"
            },
            "baxis": {
             "endlinecolor": "#2a3f5f",
             "gridcolor": "white",
             "linecolor": "white",
             "minorgridcolor": "white",
             "startlinecolor": "#2a3f5f"
            },
            "type": "carpet"
           }
          ],
          "choropleth": [
           {
            "colorbar": {
             "outlinewidth": 0,
             "ticks": ""
            },
            "type": "choropleth"
           }
          ],
          "contour": [
           {
            "colorbar": {
             "outlinewidth": 0,
             "ticks": ""
            },
            "colorscale": [
             [
              0,
              "#0d0887"
             ],
             [
              0.1111111111111111,
              "#46039f"
             ],
             [
              0.2222222222222222,
              "#7201a8"
             ],
             [
              0.3333333333333333,
              "#9c179e"
             ],
             [
              0.4444444444444444,
              "#bd3786"
             ],
             [
              0.5555555555555556,
              "#d8576b"
             ],
             [
              0.6666666666666666,
              "#ed7953"
             ],
             [
              0.7777777777777778,
              "#fb9f3a"
             ],
             [
              0.8888888888888888,
              "#fdca26"
             ],
             [
              1,
              "#f0f921"
             ]
            ],
            "type": "contour"
           }
          ],
          "contourcarpet": [
           {
            "colorbar": {
             "outlinewidth": 0,
             "ticks": ""
            },
            "type": "contourcarpet"
           }
          ],
          "heatmap": [
           {
            "colorbar": {
             "outlinewidth": 0,
             "ticks": ""
            },
            "colorscale": [
             [
              0,
              "#0d0887"
             ],
             [
              0.1111111111111111,
              "#46039f"
             ],
             [
              0.2222222222222222,
              "#7201a8"
             ],
             [
              0.3333333333333333,
              "#9c179e"
             ],
             [
              0.4444444444444444,
              "#bd3786"
             ],
             [
              0.5555555555555556,
              "#d8576b"
             ],
             [
              0.6666666666666666,
              "#ed7953"
             ],
             [
              0.7777777777777778,
              "#fb9f3a"
             ],
             [
              0.8888888888888888,
              "#fdca26"
             ],
             [
              1,
              "#f0f921"
             ]
            ],
            "type": "heatmap"
           }
          ],
          "heatmapgl": [
           {
            "colorbar": {
             "outlinewidth": 0,
             "ticks": ""
            },
            "colorscale": [
             [
              0,
              "#0d0887"
             ],
             [
              0.1111111111111111,
              "#46039f"
             ],
             [
              0.2222222222222222,
              "#7201a8"
             ],
             [
              0.3333333333333333,
              "#9c179e"
             ],
             [
              0.4444444444444444,
              "#bd3786"
             ],
             [
              0.5555555555555556,
              "#d8576b"
             ],
             [
              0.6666666666666666,
              "#ed7953"
             ],
             [
              0.7777777777777778,
              "#fb9f3a"
             ],
             [
              0.8888888888888888,
              "#fdca26"
             ],
             [
              1,
              "#f0f921"
             ]
            ],
            "type": "heatmapgl"
           }
          ],
          "histogram": [
           {
            "marker": {
             "pattern": {
              "fillmode": "overlay",
              "size": 10,
              "solidity": 0.2
             }
            },
            "type": "histogram"
           }
          ],
          "histogram2d": [
           {
            "colorbar": {
             "outlinewidth": 0,
             "ticks": ""
            },
            "colorscale": [
             [
              0,
              "#0d0887"
             ],
             [
              0.1111111111111111,
              "#46039f"
             ],
             [
              0.2222222222222222,
              "#7201a8"
             ],
             [
              0.3333333333333333,
              "#9c179e"
             ],
             [
              0.4444444444444444,
              "#bd3786"
             ],
             [
              0.5555555555555556,
              "#d8576b"
             ],
             [
              0.6666666666666666,
              "#ed7953"
             ],
             [
              0.7777777777777778,
              "#fb9f3a"
             ],
             [
              0.8888888888888888,
              "#fdca26"
             ],
             [
              1,
              "#f0f921"
             ]
            ],
            "type": "histogram2d"
           }
          ],
          "histogram2dcontour": [
           {
            "colorbar": {
             "outlinewidth": 0,
             "ticks": ""
            },
            "colorscale": [
             [
              0,
              "#0d0887"
             ],
             [
              0.1111111111111111,
              "#46039f"
             ],
             [
              0.2222222222222222,
              "#7201a8"
             ],
             [
              0.3333333333333333,
              "#9c179e"
             ],
             [
              0.4444444444444444,
              "#bd3786"
             ],
             [
              0.5555555555555556,
              "#d8576b"
             ],
             [
              0.6666666666666666,
              "#ed7953"
             ],
             [
              0.7777777777777778,
              "#fb9f3a"
             ],
             [
              0.8888888888888888,
              "#fdca26"
             ],
             [
              1,
              "#f0f921"
             ]
            ],
            "type": "histogram2dcontour"
           }
          ],
          "mesh3d": [
           {
            "colorbar": {
             "outlinewidth": 0,
             "ticks": ""
            },
            "type": "mesh3d"
           }
          ],
          "parcoords": [
           {
            "line": {
             "colorbar": {
              "outlinewidth": 0,
              "ticks": ""
             }
            },
            "type": "parcoords"
           }
          ],
          "pie": [
           {
            "automargin": true,
            "type": "pie"
           }
          ],
          "scatter": [
           {
            "marker": {
             "colorbar": {
              "outlinewidth": 0,
              "ticks": ""
             }
            },
            "type": "scatter"
           }
          ],
          "scatter3d": [
           {
            "line": {
             "colorbar": {
              "outlinewidth": 0,
              "ticks": ""
             }
            },
            "marker": {
             "colorbar": {
              "outlinewidth": 0,
              "ticks": ""
             }
            },
            "type": "scatter3d"
           }
          ],
          "scattercarpet": [
           {
            "marker": {
             "colorbar": {
              "outlinewidth": 0,
              "ticks": ""
             }
            },
            "type": "scattercarpet"
           }
          ],
          "scattergeo": [
           {
            "marker": {
             "colorbar": {
              "outlinewidth": 0,
              "ticks": ""
             }
            },
            "type": "scattergeo"
           }
          ],
          "scattergl": [
           {
            "marker": {
             "colorbar": {
              "outlinewidth": 0,
              "ticks": ""
             }
            },
            "type": "scattergl"
           }
          ],
          "scattermapbox": [
           {
            "marker": {
             "colorbar": {
              "outlinewidth": 0,
              "ticks": ""
             }
            },
            "type": "scattermapbox"
           }
          ],
          "scatterpolar": [
           {
            "marker": {
             "colorbar": {
              "outlinewidth": 0,
              "ticks": ""
             }
            },
            "type": "scatterpolar"
           }
          ],
          "scatterpolargl": [
           {
            "marker": {
             "colorbar": {
              "outlinewidth": 0,
              "ticks": ""
             }
            },
            "type": "scatterpolargl"
           }
          ],
          "scatterternary": [
           {
            "marker": {
             "colorbar": {
              "outlinewidth": 0,
              "ticks": ""
             }
            },
            "type": "scatterternary"
           }
          ],
          "surface": [
           {
            "colorbar": {
             "outlinewidth": 0,
             "ticks": ""
            },
            "colorscale": [
             [
              0,
              "#0d0887"
             ],
             [
              0.1111111111111111,
              "#46039f"
             ],
             [
              0.2222222222222222,
              "#7201a8"
             ],
             [
              0.3333333333333333,
              "#9c179e"
             ],
             [
              0.4444444444444444,
              "#bd3786"
             ],
             [
              0.5555555555555556,
              "#d8576b"
             ],
             [
              0.6666666666666666,
              "#ed7953"
             ],
             [
              0.7777777777777778,
              "#fb9f3a"
             ],
             [
              0.8888888888888888,
              "#fdca26"
             ],
             [
              1,
              "#f0f921"
             ]
            ],
            "type": "surface"
           }
          ],
          "table": [
           {
            "cells": {
             "fill": {
              "color": "#EBF0F8"
             },
             "line": {
              "color": "white"
             }
            },
            "header": {
             "fill": {
              "color": "#C8D4E3"
             },
             "line": {
              "color": "white"
             }
            },
            "type": "table"
           }
          ]
         },
         "layout": {
          "annotationdefaults": {
           "arrowcolor": "#2a3f5f",
           "arrowhead": 0,
           "arrowwidth": 1
          },
          "autotypenumbers": "strict",
          "coloraxis": {
           "colorbar": {
            "outlinewidth": 0,
            "ticks": ""
           }
          },
          "colorscale": {
           "diverging": [
            [
             0,
             "#8e0152"
            ],
            [
             0.1,
             "#c51b7d"
            ],
            [
             0.2,
             "#de77ae"
            ],
            [
             0.3,
             "#f1b6da"
            ],
            [
             0.4,
             "#fde0ef"
            ],
            [
             0.5,
             "#f7f7f7"
            ],
            [
             0.6,
             "#e6f5d0"
            ],
            [
             0.7,
             "#b8e186"
            ],
            [
             0.8,
             "#7fbc41"
            ],
            [
             0.9,
             "#4d9221"
            ],
            [
             1,
             "#276419"
            ]
           ],
           "sequential": [
            [
             0,
             "#0d0887"
            ],
            [
             0.1111111111111111,
             "#46039f"
            ],
            [
             0.2222222222222222,
             "#7201a8"
            ],
            [
             0.3333333333333333,
             "#9c179e"
            ],
            [
             0.4444444444444444,
             "#bd3786"
            ],
            [
             0.5555555555555556,
             "#d8576b"
            ],
            [
             0.6666666666666666,
             "#ed7953"
            ],
            [
             0.7777777777777778,
             "#fb9f3a"
            ],
            [
             0.8888888888888888,
             "#fdca26"
            ],
            [
             1,
             "#f0f921"
            ]
           ],
           "sequentialminus": [
            [
             0,
             "#0d0887"
            ],
            [
             0.1111111111111111,
             "#46039f"
            ],
            [
             0.2222222222222222,
             "#7201a8"
            ],
            [
             0.3333333333333333,
             "#9c179e"
            ],
            [
             0.4444444444444444,
             "#bd3786"
            ],
            [
             0.5555555555555556,
             "#d8576b"
            ],
            [
             0.6666666666666666,
             "#ed7953"
            ],
            [
             0.7777777777777778,
             "#fb9f3a"
            ],
            [
             0.8888888888888888,
             "#fdca26"
            ],
            [
             1,
             "#f0f921"
            ]
           ]
          },
          "colorway": [
           "#636efa",
           "#EF553B",
           "#00cc96",
           "#ab63fa",
           "#FFA15A",
           "#19d3f3",
           "#FF6692",
           "#B6E880",
           "#FF97FF",
           "#FECB52"
          ],
          "font": {
           "color": "#2a3f5f"
          },
          "geo": {
           "bgcolor": "white",
           "lakecolor": "white",
           "landcolor": "#E5ECF6",
           "showlakes": true,
           "showland": true,
           "subunitcolor": "white"
          },
          "hoverlabel": {
           "align": "left"
          },
          "hovermode": "closest",
          "mapbox": {
           "style": "light"
          },
          "paper_bgcolor": "white",
          "plot_bgcolor": "#E5ECF6",
          "polar": {
           "angularaxis": {
            "gridcolor": "white",
            "linecolor": "white",
            "ticks": ""
           },
           "bgcolor": "#E5ECF6",
           "radialaxis": {
            "gridcolor": "white",
            "linecolor": "white",
            "ticks": ""
           }
          },
          "scene": {
           "xaxis": {
            "backgroundcolor": "#E5ECF6",
            "gridcolor": "white",
            "gridwidth": 2,
            "linecolor": "white",
            "showbackground": true,
            "ticks": "",
            "zerolinecolor": "white"
           },
           "yaxis": {
            "backgroundcolor": "#E5ECF6",
            "gridcolor": "white",
            "gridwidth": 2,
            "linecolor": "white",
            "showbackground": true,
            "ticks": "",
            "zerolinecolor": "white"
           },
           "zaxis": {
            "backgroundcolor": "#E5ECF6",
            "gridcolor": "white",
            "gridwidth": 2,
            "linecolor": "white",
            "showbackground": true,
            "ticks": "",
            "zerolinecolor": "white"
           }
          },
          "shapedefaults": {
           "line": {
            "color": "#2a3f5f"
           }
          },
          "ternary": {
           "aaxis": {
            "gridcolor": "white",
            "linecolor": "white",
            "ticks": ""
           },
           "baxis": {
            "gridcolor": "white",
            "linecolor": "white",
            "ticks": ""
           },
           "bgcolor": "#E5ECF6",
           "caxis": {
            "gridcolor": "white",
            "linecolor": "white",
            "ticks": ""
           }
          },
          "title": {
           "x": 0.05
          },
          "xaxis": {
           "automargin": true,
           "gridcolor": "white",
           "linecolor": "white",
           "ticks": "",
           "title": {
            "standoff": 15
           },
           "zerolinecolor": "white",
           "zerolinewidth": 2
          },
          "yaxis": {
           "automargin": true,
           "gridcolor": "white",
           "linecolor": "white",
           "ticks": "",
           "title": {
            "standoff": 15
           },
           "zerolinecolor": "white",
           "zerolinewidth": 2
          }
         }
        },
        "xaxis": {
         "anchor": "y",
         "domain": [
          0,
          1
         ],
         "title": {
          "text": "Reaction"
         }
        },
        "yaxis": {
         "anchor": "x",
         "domain": [
          0,
          1
         ],
         "title": {
          "text": "Normalised_max_Flux"
         }
        }
       }
      },
      "text/html": [
       "<div>                            <div id=\"becc59e5-8bde-48f7-a380-6676289db7bc\" class=\"plotly-graph-div\" style=\"height:525px; width:100%;\"></div>            <script type=\"text/javascript\">                require([\"plotly\"], function(Plotly) {                    window.PLOTLYENV=window.PLOTLYENV || {};                                    if (document.getElementById(\"becc59e5-8bde-48f7-a380-6676289db7bc\")) {                    Plotly.newPlot(                        \"becc59e5-8bde-48f7-a380-6676289db7bc\",                        [{\"alignmentgroup\":\"True\",\"hovertemplate\":\"Reaction=%{x}<br>Normalised_max_Flux=%{y}<br>Presence=%{marker.color}<extra></extra>\",\"legendgroup\":\"\",\"marker\":{\"color\":[0.08974358974358974,0.44871794871794873,0.24358974358974358,3.0256410256410255,1.6282051282051282,0.4230769230769231,0.9871794871794872,1.0897435897435896,0.1794871794871795,0.44871794871794873,0.11538461538461539,0.10256410256410256,1.3974358974358974,0.07692307692307693,0.05128205128205128,0.05128205128205128,0.41025641025641024,0.19230769230769232,0.28205128205128205,0.3076923076923077,0.21794871794871795,0.05128205128205128,0.1794871794871795,0.10256410256410256,0.19230769230769232,0.19230769230769232,0.10256410256410256,0.0641025641025641,0.44871794871794873,0.0641025641025641,0.15384615384615385,0.24358974358974358,0.02564102564102564,0.01282051282051282,0.0641025641025641,0.4358974358974359,0.02564102564102564,0.01282051282051282,0.3076923076923077,0.07692307692307693,0.24358974358974358,0.28205128205128205,0.07692307692307693,0.38461538461538464,0.02564102564102564,0.05128205128205128,0.1794871794871795,0.07692307692307693,0.01282051282051282,0.02564102564102564,0.23076923076923078,0.0641025641025641,0.038461538461538464,0.038461538461538464,0.01282051282051282,0.01282051282051282,0.0641025641025641,0.02564102564102564,0.15384615384615385,0.0641025641025641,0.0641025641025641,0.05128205128205128,0.02564102564102564,0.01282051282051282,0.01282051282051282,0.02564102564102564,0.02564102564102564,0.01282051282051282,0.02564102564102564,0.01282051282051282,0.01282051282051282,0.01282051282051282,0.02564102564102564,0.01282051282051282,0.02564102564102564,0.01282051282051282,0.02564102564102564,0.01282051282051282],\"coloraxis\":\"coloraxis\",\"pattern\":{\"shape\":\"\"}},\"name\":\"\",\"offsetgroup\":\"\",\"orientation\":\"v\",\"showlegend\":false,\"textposition\":\"auto\",\"x\":[\"LALGP\",\"GND\",\"TALA\",\"RNDR4\",\"DCTPD\",\"PGCD\",\"FDH6\",\"GART\",\"PEPC\",\"PSERT\",\"ANHMK\",\"GLCS3\",\"NDPK6\",\"GTHS\",\"ACODA\",\"GGCLUT2\",\"AGDC\",\"DMPPS_syn\",\"FNOR\",\"PGL\",\"PPA\",\"ANS\",\"NADTRHD\",\"ACM6PH\",\"FBP\",\"VPAMTr\",\"CAT\",\"ACGS\",\"G6PDH2r\",\"ORNTAC\",\"ACGAMK\",\"FBA\",\"LDH_D\",\"ACKr\",\"TRDR\",\"PSP_L\",\"SPTr\",\"MDDCP2pp\",\"GLUSfx\",\"ME2\",\"AMPTASECG\",\"VALTA\",\"PDH\",\"ALAD_L\",\"ALAGLUE\",\"PPKr\",\"SBP\",\"IPDPS\",\"G6PDA\",\"GAPD\",\"PYK\",\"IPDDI\",\"GTHPi\",\"OPAH\",\"GTHRDH\",\"MLTGY4pp\",\"TRDRf\",\"ADPGDP\",\"FBA3\",\"AGTi\",\"HEX7\",\"GLYCK\",\"GLUCYS\",\"TRPS2\",\"MDDEP4pp\",\"GLYDHDA\",\"GLYCOX2\",\"PPS\",\"TRPS3\",\"DCTPD2\",\"ASPO5\",\"ASPO6\",\"PFK\",\"GLYCOR_nadp\",\"TRPS1\",\"NTPP8\",\"FUM\",\"NAD_H2\"],\"xaxis\":\"x\",\"y\":[1.0,1.0,1.0,1.0,1.0,0.9999999999904197,0.9999999999904197,0.9999999999904197,0.9999999999904197,0.9999990835448674,0.9999990835448674,0.9999990835244035,0.9999990835244035,0.9999990835244035,0.9999990835244035,0.9999989572710318,0.9999989572710318,0.9999989572428719,0.9999989572385043,0.9999989572385043,0.999997852761152,0.9999978371373685,0.999997837135155,0.9999972193877565,0.9999970544865012,0.999997010637947,0.999997010637947,0.999997010637947,0.999997006214107,0.999997006214107,0.9999967917871495,0.9999967916980138,0.9999967916980138,0.9999965880395892,0.999996302569255,0.999996302569255,0.9999963025486968,0.9999963025486968,0.9999959135945319,0.9999959135488742,0.9999959135488742,0.9999953141241514,0.9999953087202496,0.9999952621975264,0.9999950534381777,0.9999950534143266,0.9999950280815608,0.9999950280815608,0.9999949737014608,0.9999949736701801,0.9999948606157485,0.9999947934641108,0.9999947673250262,0.9999947672717936,0.9999947672717936,0.999994474807017,0.9999943454138976,0.9999941135691777,0.9999941135691777,0.9999939237854459,0.9999939237854459,0.9999937479592685,0.9999937245402654,0.9999930708458734,0.9999929934587773,0.9999928722774629,0.9999922242789443,0.9999919323771893,0.9999916880032532,0.9999912786498658,0.9999912786225361,0.9999910858132757,0.9999904321081513,0.9999904320528846,0.9999904320528472,0.999988377134849,0.9932543022876322,0.8209411231472069],\"yaxis\":\"y\",\"type\":\"bar\"}],                        {\"template\":{\"data\":{\"bar\":[{\"error_x\":{\"color\":\"#2a3f5f\"},\"error_y\":{\"color\":\"#2a3f5f\"},\"marker\":{\"line\":{\"color\":\"#E5ECF6\",\"width\":0.5},\"pattern\":{\"fillmode\":\"overlay\",\"size\":10,\"solidity\":0.2}},\"type\":\"bar\"}],\"barpolar\":[{\"marker\":{\"line\":{\"color\":\"#E5ECF6\",\"width\":0.5},\"pattern\":{\"fillmode\":\"overlay\",\"size\":10,\"solidity\":0.2}},\"type\":\"barpolar\"}],\"carpet\":[{\"aaxis\":{\"endlinecolor\":\"#2a3f5f\",\"gridcolor\":\"white\",\"linecolor\":\"white\",\"minorgridcolor\":\"white\",\"startlinecolor\":\"#2a3f5f\"},\"baxis\":{\"endlinecolor\":\"#2a3f5f\",\"gridcolor\":\"white\",\"linecolor\":\"white\",\"minorgridcolor\":\"white\",\"startlinecolor\":\"#2a3f5f\"},\"type\":\"carpet\"}],\"choropleth\":[{\"colorbar\":{\"outlinewidth\":0,\"ticks\":\"\"},\"type\":\"choropleth\"}],\"contour\":[{\"colorbar\":{\"outlinewidth\":0,\"ticks\":\"\"},\"colorscale\":[[0.0,\"#0d0887\"],[0.1111111111111111,\"#46039f\"],[0.2222222222222222,\"#7201a8\"],[0.3333333333333333,\"#9c179e\"],[0.4444444444444444,\"#bd3786\"],[0.5555555555555556,\"#d8576b\"],[0.6666666666666666,\"#ed7953\"],[0.7777777777777778,\"#fb9f3a\"],[0.8888888888888888,\"#fdca26\"],[1.0,\"#f0f921\"]],\"type\":\"contour\"}],\"contourcarpet\":[{\"colorbar\":{\"outlinewidth\":0,\"ticks\":\"\"},\"type\":\"contourcarpet\"}],\"heatmap\":[{\"colorbar\":{\"outlinewidth\":0,\"ticks\":\"\"},\"colorscale\":[[0.0,\"#0d0887\"],[0.1111111111111111,\"#46039f\"],[0.2222222222222222,\"#7201a8\"],[0.3333333333333333,\"#9c179e\"],[0.4444444444444444,\"#bd3786\"],[0.5555555555555556,\"#d8576b\"],[0.6666666666666666,\"#ed7953\"],[0.7777777777777778,\"#fb9f3a\"],[0.8888888888888888,\"#fdca26\"],[1.0,\"#f0f921\"]],\"type\":\"heatmap\"}],\"heatmapgl\":[{\"colorbar\":{\"outlinewidth\":0,\"ticks\":\"\"},\"colorscale\":[[0.0,\"#0d0887\"],[0.1111111111111111,\"#46039f\"],[0.2222222222222222,\"#7201a8\"],[0.3333333333333333,\"#9c179e\"],[0.4444444444444444,\"#bd3786\"],[0.5555555555555556,\"#d8576b\"],[0.6666666666666666,\"#ed7953\"],[0.7777777777777778,\"#fb9f3a\"],[0.8888888888888888,\"#fdca26\"],[1.0,\"#f0f921\"]],\"type\":\"heatmapgl\"}],\"histogram\":[{\"marker\":{\"pattern\":{\"fillmode\":\"overlay\",\"size\":10,\"solidity\":0.2}},\"type\":\"histogram\"}],\"histogram2d\":[{\"colorbar\":{\"outlinewidth\":0,\"ticks\":\"\"},\"colorscale\":[[0.0,\"#0d0887\"],[0.1111111111111111,\"#46039f\"],[0.2222222222222222,\"#7201a8\"],[0.3333333333333333,\"#9c179e\"],[0.4444444444444444,\"#bd3786\"],[0.5555555555555556,\"#d8576b\"],[0.6666666666666666,\"#ed7953\"],[0.7777777777777778,\"#fb9f3a\"],[0.8888888888888888,\"#fdca26\"],[1.0,\"#f0f921\"]],\"type\":\"histogram2d\"}],\"histogram2dcontour\":[{\"colorbar\":{\"outlinewidth\":0,\"ticks\":\"\"},\"colorscale\":[[0.0,\"#0d0887\"],[0.1111111111111111,\"#46039f\"],[0.2222222222222222,\"#7201a8\"],[0.3333333333333333,\"#9c179e\"],[0.4444444444444444,\"#bd3786\"],[0.5555555555555556,\"#d8576b\"],[0.6666666666666666,\"#ed7953\"],[0.7777777777777778,\"#fb9f3a\"],[0.8888888888888888,\"#fdca26\"],[1.0,\"#f0f921\"]],\"type\":\"histogram2dcontour\"}],\"mesh3d\":[{\"colorbar\":{\"outlinewidth\":0,\"ticks\":\"\"},\"type\":\"mesh3d\"}],\"parcoords\":[{\"line\":{\"colorbar\":{\"outlinewidth\":0,\"ticks\":\"\"}},\"type\":\"parcoords\"}],\"pie\":[{\"automargin\":true,\"type\":\"pie\"}],\"scatter\":[{\"marker\":{\"colorbar\":{\"outlinewidth\":0,\"ticks\":\"\"}},\"type\":\"scatter\"}],\"scatter3d\":[{\"line\":{\"colorbar\":{\"outlinewidth\":0,\"ticks\":\"\"}},\"marker\":{\"colorbar\":{\"outlinewidth\":0,\"ticks\":\"\"}},\"type\":\"scatter3d\"}],\"scattercarpet\":[{\"marker\":{\"colorbar\":{\"outlinewidth\":0,\"ticks\":\"\"}},\"type\":\"scattercarpet\"}],\"scattergeo\":[{\"marker\":{\"colorbar\":{\"outlinewidth\":0,\"ticks\":\"\"}},\"type\":\"scattergeo\"}],\"scattergl\":[{\"marker\":{\"colorbar\":{\"outlinewidth\":0,\"ticks\":\"\"}},\"type\":\"scattergl\"}],\"scattermapbox\":[{\"marker\":{\"colorbar\":{\"outlinewidth\":0,\"ticks\":\"\"}},\"type\":\"scattermapbox\"}],\"scatterpolar\":[{\"marker\":{\"colorbar\":{\"outlinewidth\":0,\"ticks\":\"\"}},\"type\":\"scatterpolar\"}],\"scatterpolargl\":[{\"marker\":{\"colorbar\":{\"outlinewidth\":0,\"ticks\":\"\"}},\"type\":\"scatterpolargl\"}],\"scatterternary\":[{\"marker\":{\"colorbar\":{\"outlinewidth\":0,\"ticks\":\"\"}},\"type\":\"scatterternary\"}],\"surface\":[{\"colorbar\":{\"outlinewidth\":0,\"ticks\":\"\"},\"colorscale\":[[0.0,\"#0d0887\"],[0.1111111111111111,\"#46039f\"],[0.2222222222222222,\"#7201a8\"],[0.3333333333333333,\"#9c179e\"],[0.4444444444444444,\"#bd3786\"],[0.5555555555555556,\"#d8576b\"],[0.6666666666666666,\"#ed7953\"],[0.7777777777777778,\"#fb9f3a\"],[0.8888888888888888,\"#fdca26\"],[1.0,\"#f0f921\"]],\"type\":\"surface\"}],\"table\":[{\"cells\":{\"fill\":{\"color\":\"#EBF0F8\"},\"line\":{\"color\":\"white\"}},\"header\":{\"fill\":{\"color\":\"#C8D4E3\"},\"line\":{\"color\":\"white\"}},\"type\":\"table\"}]},\"layout\":{\"annotationdefaults\":{\"arrowcolor\":\"#2a3f5f\",\"arrowhead\":0,\"arrowwidth\":1},\"autotypenumbers\":\"strict\",\"coloraxis\":{\"colorbar\":{\"outlinewidth\":0,\"ticks\":\"\"}},\"colorscale\":{\"diverging\":[[0,\"#8e0152\"],[0.1,\"#c51b7d\"],[0.2,\"#de77ae\"],[0.3,\"#f1b6da\"],[0.4,\"#fde0ef\"],[0.5,\"#f7f7f7\"],[0.6,\"#e6f5d0\"],[0.7,\"#b8e186\"],[0.8,\"#7fbc41\"],[0.9,\"#4d9221\"],[1,\"#276419\"]],\"sequential\":[[0.0,\"#0d0887\"],[0.1111111111111111,\"#46039f\"],[0.2222222222222222,\"#7201a8\"],[0.3333333333333333,\"#9c179e\"],[0.4444444444444444,\"#bd3786\"],[0.5555555555555556,\"#d8576b\"],[0.6666666666666666,\"#ed7953\"],[0.7777777777777778,\"#fb9f3a\"],[0.8888888888888888,\"#fdca26\"],[1.0,\"#f0f921\"]],\"sequentialminus\":[[0.0,\"#0d0887\"],[0.1111111111111111,\"#46039f\"],[0.2222222222222222,\"#7201a8\"],[0.3333333333333333,\"#9c179e\"],[0.4444444444444444,\"#bd3786\"],[0.5555555555555556,\"#d8576b\"],[0.6666666666666666,\"#ed7953\"],[0.7777777777777778,\"#fb9f3a\"],[0.8888888888888888,\"#fdca26\"],[1.0,\"#f0f921\"]]},\"colorway\":[\"#636efa\",\"#EF553B\",\"#00cc96\",\"#ab63fa\",\"#FFA15A\",\"#19d3f3\",\"#FF6692\",\"#B6E880\",\"#FF97FF\",\"#FECB52\"],\"font\":{\"color\":\"#2a3f5f\"},\"geo\":{\"bgcolor\":\"white\",\"lakecolor\":\"white\",\"landcolor\":\"#E5ECF6\",\"showlakes\":true,\"showland\":true,\"subunitcolor\":\"white\"},\"hoverlabel\":{\"align\":\"left\"},\"hovermode\":\"closest\",\"mapbox\":{\"style\":\"light\"},\"paper_bgcolor\":\"white\",\"plot_bgcolor\":\"#E5ECF6\",\"polar\":{\"angularaxis\":{\"gridcolor\":\"white\",\"linecolor\":\"white\",\"ticks\":\"\"},\"bgcolor\":\"#E5ECF6\",\"radialaxis\":{\"gridcolor\":\"white\",\"linecolor\":\"white\",\"ticks\":\"\"}},\"scene\":{\"xaxis\":{\"backgroundcolor\":\"#E5ECF6\",\"gridcolor\":\"white\",\"gridwidth\":2,\"linecolor\":\"white\",\"showbackground\":true,\"ticks\":\"\",\"zerolinecolor\":\"white\"},\"yaxis\":{\"backgroundcolor\":\"#E5ECF6\",\"gridcolor\":\"white\",\"gridwidth\":2,\"linecolor\":\"white\",\"showbackground\":true,\"ticks\":\"\",\"zerolinecolor\":\"white\"},\"zaxis\":{\"backgroundcolor\":\"#E5ECF6\",\"gridcolor\":\"white\",\"gridwidth\":2,\"linecolor\":\"white\",\"showbackground\":true,\"ticks\":\"\",\"zerolinecolor\":\"white\"}},\"shapedefaults\":{\"line\":{\"color\":\"#2a3f5f\"}},\"ternary\":{\"aaxis\":{\"gridcolor\":\"white\",\"linecolor\":\"white\",\"ticks\":\"\"},\"baxis\":{\"gridcolor\":\"white\",\"linecolor\":\"white\",\"ticks\":\"\"},\"bgcolor\":\"#E5ECF6\",\"caxis\":{\"gridcolor\":\"white\",\"linecolor\":\"white\",\"ticks\":\"\"}},\"title\":{\"x\":0.05},\"xaxis\":{\"automargin\":true,\"gridcolor\":\"white\",\"linecolor\":\"white\",\"ticks\":\"\",\"title\":{\"standoff\":15},\"zerolinecolor\":\"white\",\"zerolinewidth\":2},\"yaxis\":{\"automargin\":true,\"gridcolor\":\"white\",\"linecolor\":\"white\",\"ticks\":\"\",\"title\":{\"standoff\":15},\"zerolinecolor\":\"white\",\"zerolinewidth\":2}}},\"xaxis\":{\"anchor\":\"y\",\"domain\":[0.0,1.0],\"title\":{\"text\":\"Reaction\"}},\"yaxis\":{\"anchor\":\"x\",\"domain\":[0.0,1.0],\"title\":{\"text\":\"Normalised_max_Flux\"}},\"coloraxis\":{\"colorbar\":{\"title\":{\"text\":\"Presence\"}},\"colorscale\":[[0.0,\"rgb(255,0,0)\"],[1.0,\"rgb(0,0,255)\"]]},\"legend\":{\"tracegroupgap\":0},\"margin\":{\"t\":60},\"barmode\":\"relative\"},                        {\"responsive\": true}                    ).then(function(){\n",
       "                            \n",
       "var gd = document.getElementById('becc59e5-8bde-48f7-a380-6676289db7bc');\n",
       "var x = new MutationObserver(function (mutations, observer) {{\n",
       "        var display = window.getComputedStyle(gd).display;\n",
       "        if (!display || display === 'none') {{\n",
       "            console.log([gd, 'removed!']);\n",
       "            Plotly.purge(gd);\n",
       "            observer.disconnect();\n",
       "        }}\n",
       "}});\n",
       "\n",
       "// Listen for the removal of the full notebook cells\n",
       "var notebookContainer = gd.closest('#notebook-container');\n",
       "if (notebookContainer) {{\n",
       "    x.observe(notebookContainer, {childList: true});\n",
       "}}\n",
       "\n",
       "// Listen for the clearing of the current output cell\n",
       "var outputEl = gd.closest('.output');\n",
       "if (outputEl) {{\n",
       "    x.observe(outputEl, {childList: true});\n",
       "}}\n",
       "\n",
       "                        })                };                });            </script>        </div>"
      ]
     },
     "metadata": {},
     "output_type": "display_data"
    }
   ],
   "source": [
    "#Make a figure:\n",
    "fig = px.bar(results_df, x=\"Reaction\", y=sorting_param, color=secondary_param, color_continuous_scale='Bluered_r')\n",
    "fig.show()\n",
    "#save it:\n",
    "fig.write_image('/'.join([dir_path, project_name, \"candidate_reactions_reduced_parameter_space.png\"]))"
   ]
  },
  {
   "cell_type": "code",
   "execution_count": 23,
   "id": "aaaf76cb",
   "metadata": {
    "scrolled": false
   },
   "outputs": [
    {
     "data": {
      "application/vnd.plotly.v1+json": {
       "config": {
        "plotlyServerURL": "https://plot.ly"
       },
       "data": [
        {
         "hovertemplate": "<b>%{hovertext}</b><br><br>C_limit=9<br>N_of_deletions=2<br>Flux=%{x}<br>Biomass=%{marker.color}<extra></extra>",
         "hovertext": [
          [
           "DCTPD",
           "RNDR4"
          ],
          [
           "PSP_L",
           "GND"
          ],
          [
           "PSP_L",
           "PGL"
          ],
          [
           "PSERT",
           "PGL"
          ],
          [
           "G6PDH2r",
           "PSP_L"
          ],
          [
           "PSERT",
           "G6PDH2r"
          ],
          [
           "G6PDH2r",
           "PGCD"
          ],
          [
           "PSERT",
           "GND"
          ],
          [
           "GND",
           "PGCD"
          ],
          [
           "PGL",
           "PGCD"
          ]
         ],
         "legendgroup": "",
         "marker": {
          "color": [
           0.0105633453418196,
           0.0275865747021006,
           0.0275865747048797,
           0.0275865747141893,
           0.0275865747026328,
           0.0275865747026284,
           0.0275865747054355,
           0.0275865747026105,
           0.0275865747017432,
           0.0275865747026246
          ],
          "coloraxis": "coloraxis",
          "symbol": "circle"
         },
         "mode": "markers",
         "name": "",
         "orientation": "v",
         "showlegend": false,
         "type": "scatter",
         "x": [
          0.2057417852848243,
          0.1689037321085965,
          0.1689017159147813,
          0.1689006008359717,
          0.1689006008610985,
          0.1689002479598325,
          0.1689002479537764,
          0.168900247959895,
          0.1689012109171352,
          0.1689002479598513
         ],
         "xaxis": "x13",
         "y": [
          0.0105633453418196,
          0.0275865747021006,
          0.0275865747048797,
          0.0275865747141893,
          0.0275865747026328,
          0.0275865747026284,
          0.0275865747054355,
          0.0275865747026105,
          0.0275865747017432,
          0.0275865747026246
         ],
         "yaxis": "y13"
        },
        {
         "hovertemplate": "<b>%{hovertext}</b><br><br>C_limit=9<br>N_of_deletions=3<br>Flux=%{x}<br>Biomass=%{marker.color}<extra></extra>",
         "hovertext": [
          [
           "NADTRHD",
           "RNDR4",
           "NDPK6"
          ],
          [
           "RNDR4",
           "NDPK6",
           "AGDC"
          ],
          [
           "PPA",
           "RNDR4",
           "NDPK6"
          ],
          [
           "DCTPD",
           "RNDR4",
           "AGDC"
          ],
          [
           "DCTPD",
           "G6PDH2r",
           "RNDR4"
          ],
          [
           "DCTPD",
           "NADTRHD",
           "RNDR4"
          ],
          [
           "TRDR",
           "RNDR4",
           "DCTPD"
          ],
          [
           "DCTPD",
           "RNDR4",
           "AMPTASECG"
          ],
          [
           "RNDR4",
           "NDPK6",
           "TRDRf"
          ],
          [
           "RNDR4",
           "NDPK6",
           "PGCD"
          ],
          [
           "FDH6",
           "PYK",
           "GART"
          ],
          [
           "FDH6",
           "VALTA",
           "GART"
          ],
          [
           "GND",
           "GART",
           "PGCD"
          ],
          [
           "FDH6",
           "CAT",
           "GART"
          ],
          [
           "PSERT",
           "GND",
           "GART"
          ],
          [
           "PSERT",
           "G6PDH2r",
           "GART"
          ],
          [
           "DCTPD",
           "RNDR4",
           "PEPC"
          ],
          [
           "DCTPD",
           "FNOR",
           "RNDR4"
          ]
         ],
         "legendgroup": "",
         "marker": {
          "color": [
           0.0105633453406387,
           0.0105633453431763,
           0.0105633453406387,
           0.0105633453431763,
           0.0105633453431763,
           0.0105633453418196,
           0.0105633453431763,
           0.0105633453431763,
           0.0105633453418196,
           0.0105633453418196,
           0.0105633453418196,
           0.0105633453431763,
           0.0274312824626615,
           0.0105633453406387,
           0.0274312824673034,
           0.0274312824626226,
           0.0105633453418196,
           0.0105633453431763
          ],
          "coloraxis": "coloraxis",
          "symbol": "circle"
         },
         "mode": "markers",
         "name": "",
         "orientation": "v",
         "showlegend": false,
         "type": "scatter",
         "x": [
          0.205740790335179,
          0.2057401351314285,
          0.2057404227908388,
          0.205740351132347,
          0.2057412338608,
          0.2057403627313602,
          0.205740135131575,
          0.2057399999999736,
          0.2057412279280656,
          0.2057404227894657,
          0.2057405969601984,
          0.2057405070075386,
          0.1692384835884912,
          0.2057416893327474,
          0.1692377735882789,
          0.1692368160637909,
          0.2057412935675262,
          0.2057411001964859
         ],
         "xaxis": "x14",
         "y": [
          0.0105633453406387,
          0.0105633453431763,
          0.0105633453406387,
          0.0105633453431763,
          0.0105633453431763,
          0.0105633453418196,
          0.0105633453431763,
          0.0105633453431763,
          0.0105633453418196,
          0.0105633453418196,
          0.0105633453418196,
          0.0105633453431763,
          0.0274312824626615,
          0.0105633453406387,
          0.0274312824673034,
          0.0274312824626226,
          0.0105633453418196,
          0.0105633453431763
         ],
         "yaxis": "y14"
        },
        {
         "hovertemplate": "<b>%{hovertext}</b><br><br>C_limit=9<br>N_of_deletions=4<br>Flux=%{x}<br>Biomass=%{marker.color}<extra></extra>",
         "hovertext": [
          [
           "PPA",
           "GART",
           "FDH6",
           "PGCD"
          ],
          [
           "GART",
           "FDH6",
           "PGCD",
           "GLUSfx"
          ],
          [
           "TRDR",
           "PSP_L",
           "FDH6",
           "GART"
          ],
          [
           "FDH6",
           "AMPTASECG",
           "PGCD",
           "GART"
          ],
          [
           "FBA",
           "GART",
           "PEPC",
           "FDH6"
          ],
          [
           "NADTRHD",
           "FDH6",
           "AGDC",
           "GART"
          ],
          [
           "PSERT",
           "GART",
           "FDH6",
           "FBA"
          ],
          [
           "FBA3",
           "NADTRHD",
           "FDH6",
           "GART"
          ],
          [
           "PSERT",
           "FDH6",
           "VPAMTr",
           "GART"
          ],
          [
           "GART",
           "PEPC",
           "FDH6",
           "PGCD"
          ],
          [
           "PPA",
           "GART",
           "FDH6",
           "PGL"
          ],
          [
           "PSERT",
           "FDH6",
           "ACGAMK",
           "GART"
          ],
          [
           "HEX7",
           "GART",
           "PEPC",
           "FDH6"
          ],
          [
           "GLCS3",
           "GART",
           "FDH6",
           "SBP"
          ],
          [
           "GART",
           "FDH6",
           "AGDC",
           "PYK"
          ],
          [
           "GLCS3",
           "FDH6",
           "ACGAMK",
           "GART"
          ],
          [
           "GART",
           "FDH6",
           "AMPTASECG",
           "PGCD"
          ],
          [
           "NADTRHD",
           "GART",
           "FDH6",
           "SBP"
          ],
          [
           "GART",
           "TALA",
           "FDH6",
           "GND"
          ],
          [
           "FDH6",
           "GART",
           "PEPC",
           "TRDRf"
          ],
          [
           "DCTPD",
           "PSP_L",
           "RNDR4",
           "DCTPD2"
          ],
          [
           "AMPTASECG",
           "RNDR4",
           "PEPC",
           "DCTPD"
          ],
          [
           "DCTPD",
           "FNOR",
           "RNDR4",
           "PGL"
          ],
          [
           "DCTPD",
           "PPA",
           "TALA",
           "RNDR4"
          ],
          [
           "DCTPD",
           "GND",
           "RNDR4",
           "ACGAMK"
          ],
          [
           "DCTPD",
           "RNDR4",
           "CAT",
           "ME2"
          ],
          [
           "DCTPD",
           "TALA",
           "RNDR4",
           "AGTi"
          ],
          [
           "DCTPD",
           "FBP",
           "PSP_L",
           "RNDR4"
          ],
          [
           "GND",
           "RNDR4",
           "NDPK6",
           "AGDC"
          ],
          [
           "RNDR4",
           "NDPK6",
           "PYK",
           "LALGP"
          ],
          [
           "RNDR4",
           "NDPK6",
           "SBP",
           "TRPS2"
          ],
          [
           "DCTPD",
           "RNDR4",
           "SBP",
           "GLUSfx"
          ],
          [
           "DCTPD",
           "NADTRHD",
           "RNDR4",
           "PEPC"
          ],
          [
           "FNOR",
           "RNDR4",
           "NDPK6",
           "PDH"
          ],
          [
           "DCTPD",
           "RNDR4",
           "ACODA",
           "PGCD"
          ],
          [
           "PSERT",
           "RNDR4",
           "VPAMTr",
           "NDPK6"
          ],
          [
           "PPA",
           "RNDR4",
           "NDPK6",
           "VPAMTr"
          ],
          [
           "DMPPS_syn",
           "RNDR4",
           "ACGS",
           "DCTPD"
          ],
          [
           "DMPPS_syn",
           "GART",
           "FDH6",
           "GLUSfx"
          ],
          [
           "DMPPS_syn",
           "RNDR4",
           "NDPK6",
           "ORNTAC"
          ],
          [
           "FNOR",
           "TALA",
           "RNDR4",
           "NDPK6"
          ],
          [
           "FNOR",
           "RNDR4",
           "NDPK6",
           "AGDC"
          ],
          [
           "FNOR",
           "RNDR4",
           "FBA",
           "NDPK6"
          ]
         ],
         "legendgroup": "",
         "marker": {
          "color": [
           0.0105633453333915,
           0.0105633453431763,
           0.0105633453406387,
           0.0105633453406387,
           0.0105633453431763,
           0.0105633453431763,
           0.0105633453431763,
           0.0105633453431763,
           0.0105633453431763,
           0.0105633453431763,
           0.0105633453431763,
           0.0105633453431763,
           0.0105633453431763,
           0.0105633453418196,
           0.0105633453431763,
           0.0105633453312017,
           0.0105633453418196,
           0.0105633453431763,
           0.0105633453418196,
           0.0105633453431763,
           0.0105633453418196,
           0.0105633453418196,
           0.0105633453431763,
           0.0105633453418196,
           0.0105633453333915,
           0.0105633453431763,
           0.0105633453431763,
           0.0105633453431763,
           0.0105633453431763,
           0.0105633453431763,
           0.0105633453431763,
           0.0105633453418196,
           0.0105633453431763,
           0.0105633453431763,
           0.0105633453418196,
           0.0105633453406387,
           0.0105633453431763,
           0.0105633453431763,
           0.0105633453418196,
           0.0105633453431763,
           0.0105633453431763,
           0.0105633453418196,
           0.0105633453431763
          ],
          "coloraxis": "coloraxis",
          "symbol": "circle"
         },
         "mode": "markers",
         "name": "",
         "orientation": "v",
         "showlegend": false,
         "type": "scatter",
         "x": [
          0.2057412935874785,
          0.2057400000000955,
          0.205741630597889,
          0.2057403687385788,
          0.2057411633189388,
          0.2057399999995959,
          0.2057399999999087,
          0.2057400000018872,
          0.2057407628130362,
          0.2057423913141611,
          0.2057405621054764,
          0.2057411001981831,
          0.2057407362838905,
          0.205740736281112,
          0.2057401351315952,
          0.2057417312507485,
          0.2057411686321357,
          0.2057407754523776,
          0.2057411909852445,
          0.2057405832656764,
          0.2057405969647001,
          0.2057413576820721,
          0.2057411001969187,
          0.2057413147328686,
          0.205741314747871,
          0.2057403687312655,
          0.2057399999997175,
          0.2057411001964559,
          0.2057413233223444,
          0.2057409043099666,
          0.2057409656953924,
          0.205741134767816,
          0.2057399999999993,
          0.2057403687310166,
          0.2057418359859477,
          0.205741263051535,
          0.2057414033484043,
          0.2057411802275147,
          0.2057405969595982,
          0.205740736280788,
          0.2057412450317355,
          0.2057407314679318,
          0.2057400000000333
         ],
         "xaxis": "x15",
         "y": [
          0.0105633453333915,
          0.0105633453431763,
          0.0105633453406387,
          0.0105633453406387,
          0.0105633453431763,
          0.0105633453431763,
          0.0105633453431763,
          0.0105633453431763,
          0.0105633453431763,
          0.0105633453431763,
          0.0105633453431763,
          0.0105633453431763,
          0.0105633453431763,
          0.0105633453418196,
          0.0105633453431763,
          0.0105633453312017,
          0.0105633453418196,
          0.0105633453431763,
          0.0105633453418196,
          0.0105633453431763,
          0.0105633453418196,
          0.0105633453418196,
          0.0105633453431763,
          0.0105633453418196,
          0.0105633453333915,
          0.0105633453431763,
          0.0105633453431763,
          0.0105633453431763,
          0.0105633453431763,
          0.0105633453431763,
          0.0105633453431763,
          0.0105633453418196,
          0.0105633453431763,
          0.0105633453431763,
          0.0105633453418196,
          0.0105633453406387,
          0.0105633453431763,
          0.0105633453431763,
          0.0105633453418196,
          0.0105633453431763,
          0.0105633453431763,
          0.0105633453418196,
          0.0105633453431763
         ],
         "yaxis": "y15"
        },
        {
         "hovertemplate": "<b>%{hovertext}</b><br><br>C_limit=9<br>N_of_deletions=5<br>Flux=%{x}<br>Biomass=%{marker.color}<extra></extra>",
         "hovertext": [
          [
           "FDH6",
           "GART",
           "G6PDH2r",
           "AGTi",
           "FBP"
          ],
          [
           "FDH6",
           "GART",
           "LALGP",
           "HEX7",
           "GND"
          ],
          [
           "NADTRHD",
           "FDH6",
           "GART",
           "PYK",
           "TRDRf"
          ],
          [
           "FDH6",
           "PEPC",
           "GART",
           "PGCD",
           "AMPTASECG"
          ],
          [
           "FDH6",
           "GART",
           "IPDPS",
           "ME2",
           "FBA3"
          ],
          [
           "PSERT",
           "GART",
           "FDH6",
           "LALGP",
           "GND"
          ],
          [
           "FDH6",
           "GART",
           "TRDR",
           "VALTA",
           "G6PDH2r"
          ],
          [
           "NADTRHD",
           "FDH6",
           "GART",
           "FBA3",
           "ADPGDP"
          ],
          [
           "PSERT",
           "FDH6",
           "ACGAMK",
           "GART",
           "AMPTASECG"
          ],
          [
           "FDH6",
           "GART",
           "SBP",
           "LDH_D",
           "PSP_L"
          ],
          [
           "PSERT",
           "NDPK6",
           "ORNTAC",
           "DMPPS_syn",
           "RNDR4"
          ],
          [
           "TALA",
           "GART",
           "NDPK6",
           "AGTi",
           "RNDR4"
          ],
          [
           "NDPK6",
           "GLCS3",
           "ACODA",
           "GTHS",
           "RNDR4"
          ],
          [
           "NDPK6",
           "FBP",
           "GTHS",
           "FNOR",
           "RNDR4"
          ],
          [
           "NDPK6",
           "GLCS3",
           "GND",
           "FNOR",
           "RNDR4"
          ]
         ],
         "legendgroup": "",
         "marker": {
          "color": [
           0.0105633453431763,
           0.0105633453406387,
           0.0105633453418196,
           0.0105633453431763,
           0.0105633453418196,
           0.0105633453418196,
           0.0105633453431763,
           0.0105633453431763,
           0.0105633453418196,
           0.0105633453418196,
           0.0105633453418196,
           0.0105633453431763,
           0.0105633453431763,
           0.0105633453333915,
           0.0105633453418196
          ],
          "coloraxis": "coloraxis",
          "symbol": "circle"
         },
         "mode": "markers",
         "name": "",
         "orientation": "v",
         "showlegend": false,
         "type": "scatter",
         "x": [
          0.2057403124495558,
          0.2057403973040065,
          0.2057411686321596,
          0.2057413441228683,
          0.2057408697377581,
          0.2057412545307931,
          0.2057399999998611,
          0.2057411802277785,
          0.2057412226888308,
          0.2057412935705113,
          0.2057405572990462,
          0.2057403687311748,
          0.2057422027582514,
          0.2057417852991413,
          0.2057406797841068
         ],
         "xaxis": "x16",
         "y": [
          0.0105633453431763,
          0.0105633453406387,
          0.0105633453418196,
          0.0105633453431763,
          0.0105633453418196,
          0.0105633453418196,
          0.0105633453431763,
          0.0105633453431763,
          0.0105633453418196,
          0.0105633453418196,
          0.0105633453418196,
          0.0105633453431763,
          0.0105633453431763,
          0.0105633453333915,
          0.0105633453418196
         ],
         "yaxis": "y16"
        },
        {
         "hovertemplate": "<b>%{hovertext}</b><br><br>C_limit=10<br>N_of_deletions=3<br>Flux=%{x}<br>Biomass=%{marker.color}<extra></extra>",
         "hovertext": [
          [
           "RNDR4",
           "NDPK6",
           "ACGS"
          ],
          [
           "FNOR",
           "RNDR4",
           "NDPK6"
          ],
          [
           "FBA",
           "RNDR4",
           "NDPK6"
          ],
          [
           "DMPPS_syn",
           "FDH6",
           "GART"
          ],
          [
           "RNDR4",
           "NDPK6",
           "SBP"
          ],
          [
           "GART",
           "FDH6",
           "GLUSfx"
          ],
          [
           "RNDR4",
           "NDPK6",
           "GLUSfx"
          ],
          [
           "PSP_L",
           "RNDR4",
           "NDPK6"
          ],
          [
           "FDH6",
           "AGDC",
           "GART"
          ],
          [
           "RNDR4",
           "NDPK6",
           "PGL"
          ],
          [
           "DCTPD",
           "RNDR4",
           "AGDC"
          ],
          [
           "DCTPD",
           "G6PDH2r",
           "RNDR4"
          ],
          [
           "DCTPD",
           "RNDR4",
           "FBA"
          ],
          [
           "DCTPD",
           "RNDR4",
           "GLYCOR_nadp"
          ],
          [
           "DCTPD",
           "FNOR",
           "RNDR4"
          ],
          [
           "DCTPD",
           "TALA",
           "RNDR4"
          ],
          [
           "DCTPD",
           "PSP_L",
           "RNDR4"
          ],
          [
           "DCTPD",
           "RNDR4",
           "GLUSfx"
          ],
          [
           "DCTPD",
           "RNDR4",
           "FUM"
          ],
          [
           "DCTPD",
           "RNDR4",
           "ALAD_L"
          ],
          [
           "GART",
           "PEPC",
           "FDH6"
          ],
          [
           "DCTPD",
           "RNDR4",
           "PEPC"
          ],
          [
           "DCTPD",
           "RNDR4",
           "FBA"
          ],
          [
           "GTHPi",
           "FDH6",
           "GART"
          ],
          [
           "DCTPD",
           "RNDR4",
           "AMPTASECG"
          ],
          [
           "DCTPD",
           "PPA",
           "RNDR4"
          ],
          [
           "DCTPD",
           "RNDR4",
           "SBP"
          ],
          [
           "DCTPD",
           "RNDR4",
           "ALAGLUE"
          ],
          [
           "DCTPD",
           "FBP",
           "RNDR4"
          ],
          [
           "FDH6",
           "PPKr",
           "GART"
          ],
          [
           "PPA",
           "RNDR4",
           "NDPK6"
          ]
         ],
         "legendgroup": "",
         "marker": {
          "color": [
           0.0105633453431763,
           0.0105633453431763,
           0.0105633453431763,
           0.0105633453418196,
           0.0105633453431763,
           0.0105633453406387,
           0.0105633453418196,
           0.0105633453431763,
           0.0105633453406387,
           0.0105633453431763,
           0.0105633453431763,
           0.0105633453431763,
           0.0105633453312017,
           0.0105633453431763,
           0.0105633453431763,
           0.0105633453418196,
           0.0105633453431763,
           0.0105633453418196,
           0.0105633453406387,
           0.0105633453431763,
           0.0105633453431763,
           0.0105633453431763,
           0.0105633453431763,
           0.0105633453418196,
           0.0105633453418196,
           0.0105633453431763,
           0.0105633453431763,
           0.0105633453431763,
           0.0105633453431763,
           0.0105633453431763,
           0.0105633453418196
          ],
          "coloraxis": "coloraxis",
          "symbol": "circle"
         },
         "mode": "markers",
         "name": "",
         "orientation": "v",
         "showlegend": false,
         "type": "scatter",
         "x": [
          0.2057409248419642,
          0.205741293567169,
          0.2057411001927911,
          0.2057412338584628,
          0.205740542905829,
          0.2057410689145061,
          0.2057405969649495,
          0.205739999999936,
          0.2057404227913017,
          0.2057408591946977,
          0.205741314728215,
          0.2057417312291715,
          0.205740911657688,
          0.2057404227838127,
          0.2057413571874315,
          0.20574079152331,
          0.2057412622757518,
          0.2057409884594306,
          0.2043545153376939,
          0.2057414165493217,
          0.2057410253939264,
          0.2057407574374864,
          0.2057405832656772,
          0.2057407362863768,
          0.2057414564240951,
          0.2057410048710227,
          0.2057409459933979,
          0.2057413735986741,
          0.2057413147248546,
          0.2057413735937669,
          0.2057409248423268
         ],
         "xaxis": "x10",
         "y": [
          0.0105633453431763,
          0.0105633453431763,
          0.0105633453431763,
          0.0105633453418196,
          0.0105633453431763,
          0.0105633453406387,
          0.0105633453418196,
          0.0105633453431763,
          0.0105633453406387,
          0.0105633453431763,
          0.0105633453431763,
          0.0105633453431763,
          0.0105633453312017,
          0.0105633453431763,
          0.0105633453431763,
          0.0105633453418196,
          0.0105633453431763,
          0.0105633453418196,
          0.0105633453406387,
          0.0105633453431763,
          0.0105633453431763,
          0.0105633453431763,
          0.0105633453431763,
          0.0105633453418196,
          0.0105633453418196,
          0.0105633453431763,
          0.0105633453431763,
          0.0105633453431763,
          0.0105633453431763,
          0.0105633453431763,
          0.0105633453418196
         ],
         "yaxis": "y10"
        },
        {
         "hovertemplate": "<b>%{hovertext}</b><br><br>C_limit=10<br>N_of_deletions=4<br>Flux=%{x}<br>Biomass=%{marker.color}<extra></extra>",
         "hovertext": [
          [
           "DCTPD",
           "PPA",
           "GLCS3",
           "RNDR4"
          ],
          [
           "RNDR4",
           "NDPK6",
           "ANS",
           "FDH6"
          ],
          [
           "AMPTASECG",
           "RNDR4",
           "NDPK6",
           "PPKr"
          ],
          [
           "GLYCOX2",
           "G6PDH2r",
           "RNDR4",
           "NDPK6"
          ],
          [
           "ACGAMK",
           "RNDR4",
           "NDPK6",
           "VPAMTr"
          ],
          [
           "DCTPD",
           "TALA",
           "RNDR4",
           "GLUSfx"
          ],
          [
           "AMPTASECG",
           "RNDR4",
           "NDPK6",
           "AGDC"
          ],
          [
           "DCTPD",
           "GLCS3",
           "TALA",
           "RNDR4"
          ],
          [
           "FBA",
           "RNDR4",
           "NDPK6",
           "AGDC"
          ],
          [
           "FNOR",
           "RNDR4",
           "NDPK6",
           "PGL"
          ],
          [
           "DCTPD",
           "G6PDH2r",
           "RNDR4",
           "TRDRf"
          ],
          [
           "DCTPD",
           "ACKr",
           "RNDR4",
           "LALGP"
          ],
          [
           "FNOR",
           "RNDR4",
           "NDPK6",
           "PYK"
          ],
          [
           "FNOR",
           "RNDR4",
           "NDPK6",
           "PGL"
          ],
          [
           "DCTPD",
           "GLYCOX2",
           "RNDR4",
           "ACGAMK"
          ],
          [
           "AMPTASECG",
           "PSERT",
           "RNDR4",
           "NDPK6"
          ],
          [
           "GND",
           "RNDR4",
           "NDPK6",
           "GLUSfx"
          ],
          [
           "DCTPD",
           "FBP",
           "RNDR4",
           "VALTA"
          ],
          [
           "DCTPD",
           "FBP",
           "RNDR4",
           "TRDR"
          ],
          [
           "PSERT",
           "G6PDH2r",
           "VALTA",
           "ALAD_L"
          ],
          [
           "G6PDH2r",
           "VALTA",
           "ALAD_L",
           "PGCD"
          ],
          [
           "G6PDH2r",
           "PSP_L",
           "VALTA",
           "ALAD_L"
          ],
          [
           "GND",
           "VALTA",
           "ALAD_L",
           "PGCD"
          ],
          [
           "PSERT",
           "GND",
           "VALTA",
           "ALAD_L"
          ],
          [
           "PSP_L",
           "VALTA",
           "ALAD_L",
           "GND"
          ],
          [
           "PSP_L",
           "ALAD_L",
           "AGDC",
           "GND"
          ],
          [
           "GND",
           "G6PDH2r",
           "ALAD_L",
           "PGCD"
          ],
          [
           "G6PDH2r",
           "VPAMTr",
           "PSP_L",
           "ALAD_L"
          ],
          [
           "GND",
           "ALAD_L",
           "AGDC",
           "PGCD"
          ],
          [
           "DCTPD",
           "RNDR4",
           "ALAD_L",
           "ME2"
          ],
          [
           "AGTi",
           "RNDR4",
           "NDPK6",
           "PGL"
          ],
          [
           "RNDR4",
           "PEPC",
           "PYK",
           "NDPK6"
          ],
          [
           "DCTPD",
           "G6PDH2r",
           "RNDR4",
           "PYK"
          ],
          [
           "RNDR4",
           "NDPK6",
           "AGDC",
           "ME2"
          ],
          [
           "DCTPD",
           "PPA",
           "RNDR4",
           "AGDC"
          ],
          [
           "DCTPD",
           "RNDR4",
           "PGL",
           "PGCD"
          ],
          [
           "FBA3",
           "PSERT",
           "RNDR4",
           "NDPK6"
          ],
          [
           "G6PDH2r",
           "VALTA",
           "ALAD_L",
           "PGCD"
          ],
          [
           "PSP_L",
           "VALTA",
           "ALAD_L",
           "GND"
          ],
          [
           "PSERT",
           "G6PDH2r",
           "VALTA",
           "ALAD_L"
          ],
          [
           "G6PDH2r",
           "PSP_L",
           "VALTA",
           "ALAD_L"
          ],
          [
           "GAPD",
           "RNDR4",
           "NDPK6",
           "ACODA"
          ],
          [
           "RNDR4",
           "NDPK6",
           "SBP",
           "IPDPS"
          ],
          [
           "DCTPD",
           "FBP",
           "RNDR4",
           "PGCD"
          ]
         ],
         "legendgroup": "",
         "marker": {
          "color": [
           0.0105633453418196,
           0.0105633453431763,
           0.0105633453431763,
           0.0105633453431763,
           0.0105633453431763,
           0.0105633453418196,
           0.0105633453431763,
           0.0105633453431763,
           0.0105633453431763,
           0.0105633453406387,
           0.0105633453312017,
           0.0105633453431763,
           0.0105633453431763,
           0.0105633453431763,
           0.0105633453418196,
           0.0105633453418196,
           0.0105633453406387,
           0.0105633453406387,
           0.0105633453431763,
           0.0149660747723565,
           0.0149660747723492,
           0.0149660747723565,
           0.0149660747723656,
           0.014966074772356,
           0.0149660747723747,
           0.0180166847321643,
           0.0180166847321721,
           0.0180166847321582,
           0.0180166847321926,
           0.0105633453418196,
           0.0105633453431763,
           0.0105633453406387,
           0.0105633453406387,
           0.0105633453418196,
           0.0105633453418196,
           0.0105633453431763,
           0.0105633453431763,
           0.0149660747722225,
           0.0149660747739218,
           0.0149660747723565,
           0.0149660747752254,
           0.0105633453431763,
           0.0105633453312017,
           0.0105633453418196
          ],
          "coloraxis": "coloraxis",
          "symbol": "circle"
         },
         "mode": "markers",
         "name": "",
         "orientation": "v",
         "showlegend": false,
         "type": "scatter",
         "x": [
          0.2057409884566109,
          0.2057404227867551,
          0.2057399999999999,
          0.2057406797869581,
          0.2057399999999999,
          0.2057412935732663,
          0.2057399999997978,
          0.2057405832656801,
          0.2057401351314209,
          0.2057405832713616,
          0.2057400540784079,
          0.2057416893312382,
          0.2057405832654283,
          0.2057421767758885,
          0.205740791520688,
          0.2057414372192934,
          0.2057415505692993,
          0.2057405969661679,
          0.2057413147256701,
          0.1962126321990658,
          0.1962143365805749,
          0.1962149479455449,
          0.1962142225989222,
          0.196214233284712,
          0.1962139424930073,
          0.1896125745351772,
          0.1896111833268024,
          0.1896123008197126,
          0.1896113421007942,
          0.2057411001932342,
          0.2057399999999982,
          0.2057409656975577,
          0.2057404227969262,
          0.2057412819744214,
          0.2057416993873267,
          0.2057419834054653,
          0.2057410611524456,
          0.1962121097835723,
          0.1962141160345998,
          0.1962129555427741,
          0.1962149566462308,
          0.2057407574355959,
          0.2057413683817431,
          0.2057410596898871
         ],
         "xaxis": "x11",
         "y": [
          0.0105633453418196,
          0.0105633453431763,
          0.0105633453431763,
          0.0105633453431763,
          0.0105633453431763,
          0.0105633453418196,
          0.0105633453431763,
          0.0105633453431763,
          0.0105633453431763,
          0.0105633453406387,
          0.0105633453312017,
          0.0105633453431763,
          0.0105633453431763,
          0.0105633453431763,
          0.0105633453418196,
          0.0105633453418196,
          0.0105633453406387,
          0.0105633453406387,
          0.0105633453431763,
          0.0149660747723565,
          0.0149660747723492,
          0.0149660747723565,
          0.0149660747723656,
          0.014966074772356,
          0.0149660747723747,
          0.0180166847321643,
          0.0180166847321721,
          0.0180166847321582,
          0.0180166847321926,
          0.0105633453418196,
          0.0105633453431763,
          0.0105633453406387,
          0.0105633453406387,
          0.0105633453418196,
          0.0105633453418196,
          0.0105633453431763,
          0.0105633453431763,
          0.0149660747722225,
          0.0149660747739218,
          0.0149660747723565,
          0.0149660747752254,
          0.0105633453431763,
          0.0105633453312017,
          0.0105633453418196
         ],
         "yaxis": "y11"
        },
        {
         "hovertemplate": "<b>%{hovertext}</b><br><br>C_limit=10<br>N_of_deletions=5<br>Flux=%{x}<br>Biomass=%{marker.color}<extra></extra>",
         "hovertext": [
          [
           "TALA",
           "LALGP",
           "GND",
           "DCTPD",
           "RNDR4"
          ],
          [
           "NDPK6",
           "LALGP",
           "ME2",
           "RNDR4",
           "AMPTASECG"
          ],
          [
           "PSERT",
           "GART",
           "ALAD_L",
           "VALTA",
           "GND"
          ],
          [
           "GART",
           "ALAD_L",
           "PGCD",
           "VALTA",
           "GND"
          ],
          [
           "GART",
           "ALAD_L",
           "VALTA",
           "GND",
           "PSP_L"
          ],
          [
           "GART",
           "ALAD_L",
           "VALTA",
           "G6PDH2r",
           "PSP_L"
          ],
          [
           "PSERT",
           "GART",
           "ALAD_L",
           "VALTA",
           "G6PDH2r"
          ],
          [
           "GART",
           "ALAD_L",
           "PGCD",
           "VALTA",
           "G6PDH2r"
          ],
          [
           "LALGP",
           "VPAMTr",
           "GTHS",
           "DCTPD",
           "RNDR4"
          ],
          [
           "NDPK6",
           "PGCD",
           "GLUSfx",
           "PSP_L",
           "RNDR4"
          ],
          [
           "IPDDI",
           "GTHS",
           "DCTPD",
           "PSP_L",
           "RNDR4"
          ],
          [
           "NADTRHD",
           "VPAMTr",
           "AGDC",
           "DCTPD",
           "RNDR4"
          ],
          [
           "GLYDHDA",
           "SBP",
           "PYK",
           "DCTPD",
           "RNDR4"
          ],
          [
           "NDPK6",
           "AGDC",
           "FBA",
           "PSP_L",
           "RNDR4"
          ],
          [
           "TALA",
           "IPDPS",
           "ADPGDP",
           "DCTPD",
           "RNDR4"
          ]
         ],
         "legendgroup": "",
         "marker": {
          "color": [
           0.0105633453431763,
           0.0105633453431763,
           0.0149202510984627,
           0.0149202510880468,
           0.0149202510984643,
           0.0149202498254167,
           0.0149202510984536,
           0.014920251098473,
           0.0105633453431763,
           0.0105633453418196,
           0.0105633453431763,
           0.0105633453431763,
           0.0105633453431763,
           0.0105633453418196,
           0.0105633453431763
          ],
          "coloraxis": "coloraxis",
          "symbol": "circle"
         },
         "mode": "markers",
         "name": "",
         "orientation": "v",
         "showlegend": false,
         "type": "scatter",
         "x": [
          0.2057423913161322,
          0.2057415505599056,
          0.1963128272139966,
          0.1963123373930887,
          0.1963126401936193,
          0.1963119914350576,
          0.1963118852073858,
          0.1963126172119085,
          0.2057400000003672,
          0.2057407766512782,
          0.2057410336341921,
          0.2057409308366237,
          0.2057399999999231,
          0.2057409116434989,
          0.2057411255408875
         ],
         "xaxis": "x12",
         "y": [
          0.0105633453431763,
          0.0105633453431763,
          0.0149202510984627,
          0.0149202510880468,
          0.0149202510984643,
          0.0149202498254167,
          0.0149202510984536,
          0.014920251098473,
          0.0105633453431763,
          0.0105633453418196,
          0.0105633453431763,
          0.0105633453431763,
          0.0105633453431763,
          0.0105633453418196,
          0.0105633453431763
         ],
         "yaxis": "y12"
        },
        {
         "hovertemplate": "<b>%{hovertext}</b><br><br>C_limit=11<br>N_of_deletions=2<br>Flux=%{x}<br>Biomass=%{marker.color}<extra></extra>",
         "hovertext": [
          [
           "RNDR4",
           "NDPK6"
          ],
          [
           "FDH6",
           "GART"
          ],
          [
           "PSERT",
           "PGL"
          ],
          [
           "PGL",
           "PGCD"
          ],
          [
           "PSP_L",
           "GND"
          ],
          [
           "PSERT",
           "PGL"
          ],
          [
           "G6PDH2r",
           "PSP_L"
          ],
          [
           "PSERT",
           "G6PDH2r"
          ],
          [
           "PSERT",
           "GND"
          ]
         ],
         "legendgroup": "",
         "marker": {
          "color": [
           0.0105633453431763,
           0.0105633453431763,
           0.0275865747100388,
           0.0275865747026237,
           0.0275865728836807,
           0.0275865746990564,
           0.0275865747026492,
           0.0275865747026343,
           0.0275865747026593
          ],
          "coloraxis": "coloraxis",
          "symbol": "circle"
         },
         "mode": "markers",
         "name": "",
         "orientation": "v",
         "showlegend": false,
         "type": "scatter",
         "x": [
          0.2057401351308712,
          0.2057399999999056,
          0.1689020688048232,
          0.1689012109151906,
          0.1689015677526615,
          0.1689015638242056,
          0.1689002479597939,
          0.1689009191105553,
          0.1689002479597826
         ],
         "xaxis": "x5",
         "y": [
          0.0105633453431763,
          0.0105633453431763,
          0.0275865747100388,
          0.0275865747026237,
          0.0275865728836807,
          0.0275865746990564,
          0.0275865747026492,
          0.0275865747026343,
          0.0275865747026593
         ],
         "yaxis": "y5"
        },
        {
         "hovertemplate": "<b>%{hovertext}</b><br><br>C_limit=11<br>N_of_deletions=3<br>Flux=%{x}<br>Biomass=%{marker.color}<extra></extra>",
         "hovertext": [
          [
           "DCTPD",
           "RNDR4",
           "ANHMK"
          ],
          [
           "DCTPD",
           "FNOR",
           "RNDR4"
          ],
          [
           "FNOR",
           "RNDR4",
           "NDPK6"
          ],
          [
           "AMPTASECG",
           "RNDR4",
           "NDPK6"
          ],
          [
           "RNDR4",
           "NDPK6",
           "ACM6PH"
          ],
          [
           "DCTPD",
           "RNDR4",
           "ALAD_L"
          ],
          [
           "RNDR4",
           "NDPK6",
           "TRPS1"
          ],
          [
           "DCTPD",
           "RNDR4",
           "PGL"
          ],
          [
           "DCTPD",
           "RNDR4",
           "ACM6PH"
          ],
          [
           "DCTPD",
           "RNDR4",
           "ME2"
          ],
          [
           "DCTPD",
           "RNDR4",
           "FBA"
          ],
          [
           "RNDR4",
           "NDPK6",
           "ACM6PH"
          ],
          [
           "DCTPD",
           "RNDR4",
           "PGL"
          ],
          [
           "FDH6",
           "CAT",
           "GART"
          ],
          [
           "RNDR4",
           "NDPK6",
           "GLUSfx"
          ],
          [
           "DCTPD",
           "TALA",
           "RNDR4"
          ],
          [
           "FBA",
           "RNDR4",
           "NDPK6"
          ],
          [
           "FBA3",
           "RNDR4",
           "NDPK6"
          ],
          [
           "DCTPD",
           "PPA",
           "RNDR4"
          ],
          [
           "FDH6",
           "TRPS3",
           "GART"
          ],
          [
           "RNDR4",
           "NDPK6",
           "AGDC"
          ],
          [
           "RNDR4",
           "NDPK6",
           "PGL"
          ],
          [
           "MLTGY4pp",
           "RNDR4",
           "NDPK6"
          ],
          [
           "GTHPi",
           "RNDR4",
           "NDPK6"
          ],
          [
           "PEPC",
           "RNDR4",
           "NDPK6"
          ],
          [
           "RNDR4",
           "NDPK6",
           "ANHMK"
          ],
          [
           "PSP_L",
           "ACGAMK",
           "GND"
          ],
          [
           "PSERT",
           "GART",
           "FDH6"
          ],
          [
           "PSERT",
           "G6PDH2r",
           "ALAD_L"
          ],
          [
           "FDH6",
           "IPDDI",
           "GART"
          ],
          [
           "RNDR4",
           "NDPK6",
           "ORNTAC"
          ],
          [
           "RNDR4",
           "NDPK6",
           "PGL"
          ],
          [
           "PPA",
           "RNDR4",
           "NDPK6"
          ],
          [
           "FDH6",
           "VALTA",
           "GART"
          ],
          [
           "GLUCYS",
           "RNDR4",
           "NDPK6"
          ],
          [
           "RNDR4",
           "NDPK6",
           "PDH"
          ],
          [
           "ALAD_L",
           "RNDR4",
           "NDPK6"
          ],
          [
           "RNDR4",
           "NDPK6",
           "FDH6"
          ],
          [
           "DMPPS_syn",
           "RNDR4",
           "NDPK6"
          ]
         ],
         "legendgroup": "",
         "marker": {
          "color": [
           0.0105633453418196,
           0.0105633453418196,
           0.0105633453418196,
           0.0105633453418196,
           0.0105633453431763,
           0.0105633453418196,
           0.0105633453431763,
           0.0105633453431763,
           0.0105633453431763,
           0.0105633453431763,
           0.0105633453431763,
           0.0105633453431763,
           0.0105633453312017,
           0.0105633453418196,
           0.0105633453431763,
           0.0105633453431763,
           0.0105633453418196,
           0.0105633453333915,
           0.0105633453418196,
           0.0105633453431763,
           0.0105633453431763,
           0.0105633453431763,
           0.0105633453333915,
           0.0105633453418196,
           0.0105633453431763,
           0.0105633453431763,
           0.0275865745927483,
           0.0105633452973067,
           0.0180166847321519,
           0.0105633453431763,
           0.0105633453431763,
           0.0105633453431763,
           0.0105633453431763,
           0.0105633453431763,
           0.0105633453431763,
           0.0105633453418196,
           0.0105633453431763,
           0.0105633453431763,
           0.0105633453431763
          ],
          "coloraxis": "coloraxis",
          "symbol": "circle"
         },
         "mode": "markers",
         "name": "",
         "orientation": "v",
         "showlegend": false,
         "type": "scatter",
         "x": [
          0.205741100198231,
          0.2057415505650562,
          0.2057412935734043,
          0.2057408372628601,
          0.2057401351315952,
          0.2057405969647451,
          0.2057399999999806,
          0.2057405457025458,
          0.2057404144733937,
          0.2057406850157555,
          0.2057409685476382,
          0.2057399999998778,
          0.2057409248565638,
          0.2057405969594308,
          0.2057410631079951,
          0.2057401351315953,
          0.2057408745604952,
          0.2057407352487892,
          0.2057410108097035,
          0.2057406811860449,
          0.2057401351314283,
          0.2057401351315957,
          0.2057412545497154,
          0.2057413147330701,
          0.2057399999999999,
          0.2057399999999999,
          0.1689017714179412,
          0.2057421344103572,
          0.1896122774741046,
          0.2057408587665252,
          0.2057399999998867,
          0.2057401351315951,
          0.2057413941300894,
          0.2057405969534194,
          0.2057411001880398,
          0.2057411590647591,
          0.2057399999998335,
          0.2057405832655165,
          0.2057411590645524
         ],
         "xaxis": "x6",
         "y": [
          0.0105633453418196,
          0.0105633453418196,
          0.0105633453418196,
          0.0105633453418196,
          0.0105633453431763,
          0.0105633453418196,
          0.0105633453431763,
          0.0105633453431763,
          0.0105633453431763,
          0.0105633453431763,
          0.0105633453431763,
          0.0105633453431763,
          0.0105633453312017,
          0.0105633453418196,
          0.0105633453431763,
          0.0105633453431763,
          0.0105633453418196,
          0.0105633453333915,
          0.0105633453418196,
          0.0105633453431763,
          0.0105633453431763,
          0.0105633453431763,
          0.0105633453333915,
          0.0105633453418196,
          0.0105633453431763,
          0.0105633453431763,
          0.0275865745927483,
          0.0105633452973067,
          0.0180166847321519,
          0.0105633453431763,
          0.0105633453431763,
          0.0105633453431763,
          0.0105633453431763,
          0.0105633453431763,
          0.0105633453431763,
          0.0105633453418196,
          0.0105633453431763,
          0.0105633453431763,
          0.0105633453431763
         ],
         "yaxis": "y6"
        },
        {
         "hovertemplate": "<b>%{hovertext}</b><br><br>C_limit=11<br>N_of_deletions=4<br>Flux=%{x}<br>Biomass=%{marker.color}<extra></extra>",
         "hovertext": [
          [
           "PPA",
           "PSP_L",
           "PGL",
           "PYK"
          ],
          [
           "G6PDH2r",
           "NAD_H2",
           "PSP_L",
           "TALA"
          ],
          [
           "PSERT",
           "PFK",
           "IPDDI",
           "PGL"
          ],
          [
           "PSERT",
           "G6PDH2r",
           "PYK",
           "GLUSfx"
          ],
          [
           "ALAD_L",
           "RNDR4",
           "NDPK6",
           "GLUSfx"
          ],
          [
           "ACGAMK",
           "RNDR4",
           "NDPK6",
           "VPAMTr"
          ],
          [
           "FBA",
           "GND",
           "RNDR4",
           "NDPK6"
          ],
          [
           "FBA",
           "RNDR4",
           "NDPK6",
           "IPDDI"
          ],
          [
           "NTPP8",
           "RNDR4",
           "NDPK6",
           "ACM6PH"
          ],
          [
           "RNDR4",
           "NDPK6",
           "IPDPS",
           "GLUSfx"
          ],
          [
           "GLUCYS",
           "RNDR4",
           "NDPK6",
           "GLYCK"
          ],
          [
           "ALAD_L",
           "FNOR",
           "RNDR4",
           "NDPK6"
          ],
          [
           "PSP_L",
           "RNDR4",
           "NDPK6",
           "ACM6PH"
          ],
          [
           "FBA3",
           "ACGAMK",
           "RNDR4",
           "NDPK6"
          ],
          [
           "G6PDA",
           "RNDR4",
           "NDPK6",
           "PGCD"
          ],
          [
           "FBP",
           "RNDR4",
           "NDPK6",
           "PGCD"
          ],
          [
           "DCTPD",
           "PPA",
           "TALA",
           "RNDR4"
          ],
          [
           "RNDR4",
           "NDPK6",
           "PYK",
           "GLYCK"
          ],
          [
           "ACGAMK",
           "RNDR4",
           "NDPK6",
           "OPAH"
          ],
          [
           "DCTPD",
           "LDH_D",
           "RNDR4",
           "FBA"
          ],
          [
           "DCTPD",
           "PPA",
           "RNDR4",
           "GLUSfx"
          ],
          [
           "FBA3",
           "RNDR4",
           "DCTPD",
           "PGCD"
          ],
          [
           "RNDR4",
           "FBA",
           "PDH",
           "NDPK6"
          ],
          [
           "DCTPD",
           "TALA",
           "RNDR4",
           "ALAD_L"
          ],
          [
           "PSP_L",
           "FDH6",
           "AMPTASECG",
           "GART"
          ],
          [
           "GND",
           "FDH6",
           "AGDC",
           "GART"
          ],
          [
           "GART",
           "FDH6",
           "PYK",
           "GLUSfx"
          ],
          [
           "SPTr",
           "RNDR4",
           "AGDC",
           "DCTPD"
          ],
          [
           "DCTPD",
           "FBP",
           "RNDR4",
           "AGDC"
          ],
          [
           "DCTPD",
           "GLCS3",
           "RNDR4",
           "ANHMK"
          ],
          [
           "DCTPD",
           "FBP",
           "RNDR4",
           "ALAD_L"
          ],
          [
           "DCTPD",
           "RNDR4",
           "ALAGLUE",
           "ACODA"
          ],
          [
           "FBP",
           "FDH6",
           "TRPS3",
           "GART"
          ],
          [
           "VPAMTr",
           "FDH6",
           "CAT",
           "GART"
          ]
         ],
         "legendgroup": "",
         "marker": {
          "color": [
           0.0275865744952038,
           0.0275865747026163,
           0.027586574627815,
           0.027586574702622,
           0.0105633453431763,
           0.0105633453431763,
           0.0105633453431763,
           0.0105633453431763,
           0.0105633453431763,
           0.0105633453406387,
           0.0105633453418196,
           0.0105633453418196,
           0.0105633453431763,
           0.0105633453418196,
           0.0105633453418196,
           0.0105633453431763,
           0.0105633453418196,
           0.0105633453312017,
           0.0105633453418196,
           0.0105633453418196,
           0.0105633453431763,
           0.0105633453431763,
           0.0105633453418196,
           0.0105633453431763,
           0.0105633453431763,
           0.0105633453431763,
           0.0105633453431763,
           0.0105633453418196,
           0.0105633453418196,
           0.0105633453431763,
           0.0105633453406387,
           0.0105633453431763,
           0.0105633453431763,
           0.0105633453431763
          ],
          "coloraxis": "coloraxis",
          "symbol": "circle"
         },
         "mode": "markers",
         "name": "",
         "orientation": "v",
         "showlegend": false,
         "type": "scatter",
         "x": [
          0.1689012113640969,
          0.1689023898060577,
          0.168900601023009,
          0.1689012109152287,
          0.2057405832657089,
          0.2057400000000044,
          0.2057399999998141,
          0.2057408114879274,
          0.2057400000000621,
          0.2057407352350192,
          0.2057409656884683,
          0.2057411193982261,
          0.2057400000000115,
          0.2057403687369595,
          0.2057413571934513,
          0.2057405233501097,
          0.2057419495380769,
          0.205740135157617,
          0.2057405969593702,
          0.2057417312324095,
          0.2057411590676499,
          0.2057407314673812,
          0.205741426121018,
          0.2057408142842867,
          0.2057414483925642,
          0.2057400000000001,
          0.2057413339269264,
          0.2057407915229578,
          0.2057409266552143,
          0.2057413233178091,
          0.2057411888190961,
          0.2057404227889903,
          0.2057405579212794,
          0.2057410060509205
         ],
         "xaxis": "x7",
         "y": [
          0.0275865744952038,
          0.0275865747026163,
          0.027586574627815,
          0.027586574702622,
          0.0105633453431763,
          0.0105633453431763,
          0.0105633453431763,
          0.0105633453431763,
          0.0105633453431763,
          0.0105633453406387,
          0.0105633453418196,
          0.0105633453418196,
          0.0105633453431763,
          0.0105633453418196,
          0.0105633453418196,
          0.0105633453431763,
          0.0105633453418196,
          0.0105633453312017,
          0.0105633453418196,
          0.0105633453418196,
          0.0105633453431763,
          0.0105633453431763,
          0.0105633453418196,
          0.0105633453431763,
          0.0105633453431763,
          0.0105633453431763,
          0.0105633453431763,
          0.0105633453418196,
          0.0105633453418196,
          0.0105633453431763,
          0.0105633453406387,
          0.0105633453431763,
          0.0105633453431763,
          0.0105633453431763
         ],
         "yaxis": "y7"
        },
        {
         "hovertemplate": "<b>%{hovertext}</b><br><br>C_limit=11<br>N_of_deletions=5<br>Flux=%{x}<br>Biomass=%{marker.color}<extra></extra>",
         "hovertext": [
          [
           "FDH6",
           "GART",
           "PYK",
           "GND",
           "ASPO5"
          ],
          [
           "FDH6",
           "GART",
           "ANHMK",
           "PSP_L",
           "AMPTASECG"
          ],
          [
           "PSERT",
           "FDH6",
           "GART",
           "ANHMK",
           "GND"
          ],
          [
           "GART",
           "FDH6",
           "PYK",
           "ANHMK",
           "GLUSfx"
          ],
          [
           "ORNTAC",
           "G6PDH2r",
           "DCTPD",
           "FBP",
           "RNDR4"
          ],
          [
           "PYK",
           "G6PDH2r",
           "FBA",
           "DCTPD",
           "RNDR4"
          ],
          [
           "VPAMTr",
           "HEX7",
           "FBA",
           "DCTPD",
           "RNDR4"
          ],
          [
           "ALAD_L",
           "NDPK6",
           "TRDR",
           "GLUSfx",
           "RNDR4"
          ]
         ],
         "legendgroup": "",
         "marker": {
          "color": [
           0.0105633453418196,
           0.0105633453431763,
           0.0105633453406387,
           0.0105633453431763,
           0.0105633453406387,
           0.0105633453418196,
           0.0105633453431763,
           0.0105633453142999
          ],
          "coloraxis": "coloraxis",
          "symbol": "circle"
         },
         "mode": "markers",
         "name": "",
         "orientation": "v",
         "showlegend": false,
         "type": "scatter",
         "x": [
          0.2057405969590772,
          0.2057399999999998,
          0.2057422027624617,
          0.2057405551919017,
          0.2057417753674635,
          0.2057409656930525,
          0.2057405429051278,
          0.2057400000623901
         ],
         "xaxis": "x8",
         "y": [
          0.0105633453418196,
          0.0105633453431763,
          0.0105633453406387,
          0.0105633453431763,
          0.0105633453406387,
          0.0105633453418196,
          0.0105633453431763,
          0.0105633453142999
         ],
         "yaxis": "y8"
        },
        {
         "hovertemplate": "<b>%{hovertext}</b><br><br>C_limit=12<br>N_of_deletions=2<br>Flux=%{x}<br>Biomass=%{marker.color}<extra></extra>",
         "hovertext": [
          [
           "DCTPD",
           "RNDR4"
          ]
         ],
         "legendgroup": "",
         "marker": {
          "color": [
           0.0105633453431763
          ],
          "coloraxis": "coloraxis",
          "symbol": "circle"
         },
         "mode": "markers",
         "name": "",
         "orientation": "v",
         "showlegend": false,
         "type": "scatter",
         "x": [
          0.2057405832686251
         ],
         "xaxis": "x",
         "y": [
          0.0105633453431763
         ],
         "yaxis": "y"
        },
        {
         "hovertemplate": "<b>%{hovertext}</b><br><br>C_limit=12<br>N_of_deletions=3<br>Flux=%{x}<br>Biomass=%{marker.color}<extra></extra>",
         "hovertext": [
          [
           "RNDR4",
           "NDPK6",
           "PGL"
          ],
          [
           "RNDR4",
           "NDPK6",
           "TRPS1"
          ],
          [
           "RNDR4",
           "NDPK6",
           "IPDDI"
          ],
          [
           "DCTPD",
           "RNDR4",
           "PEPC"
          ],
          [
           "FBA",
           "RNDR4",
           "NDPK6"
          ],
          [
           "FBA3",
           "RNDR4",
           "NDPK6"
          ],
          [
           "RNDR4",
           "NDPK6",
           "GLUSfx"
          ],
          [
           "DCTPD",
           "NADTRHD",
           "RNDR4"
          ],
          [
           "RNDR4",
           "ANS",
           "NDPK6"
          ],
          [
           "DCTPD",
           "RNDR4",
           "PGL"
          ],
          [
           "DCTPD",
           "RNDR4",
           "PGCD"
          ],
          [
           "DCTPD",
           "FNOR",
           "RNDR4"
          ],
          [
           "DCTPD",
           "RNDR4",
           "GTHS"
          ],
          [
           "DCTPD",
           "NADTRHD",
           "RNDR4"
          ],
          [
           "DCTPD",
           "RNDR4",
           "PYK"
          ],
          [
           "DCTPD",
           "RNDR4",
           "PGL"
          ],
          [
           "DCTPD",
           "PSP_L",
           "RNDR4"
          ],
          [
           "FBA3",
           "RNDR4",
           "DCTPD"
          ],
          [
           "DCTPD",
           "RNDR4",
           "FBA"
          ],
          [
           "DMPPS_syn",
           "RNDR4",
           "DCTPD"
          ],
          [
           "DCTPD",
           "RNDR4",
           "PPKr"
          ],
          [
           "DCTPD",
           "RNDR4",
           "PGCD"
          ],
          [
           "DCTPD",
           "G6PDH2r",
           "RNDR4"
          ],
          [
           "DCTPD",
           "RNDR4",
           "PYK"
          ],
          [
           "DCTPD",
           "FBP",
           "RNDR4"
          ],
          [
           "DCTPD",
           "RNDR4",
           "ACM6PH"
          ],
          [
           "DCTPD",
           "VPAMTr",
           "RNDR4"
          ],
          [
           "DCTPD",
           "GLCS3",
           "RNDR4"
          ],
          [
           "DCTPD",
           "RNDR4",
           "GLUSfx"
          ]
         ],
         "legendgroup": "",
         "marker": {
          "color": [
           0.0105633453431763,
           0.0105633453431763,
           0.0105633453418196,
           0.0105633453431763,
           0.0105633453406387,
           0.0105633453418196,
           0.0105633453431763,
           0.0105633453431763,
           0.0105633453418196,
           0.0105633453431763,
           0.0105633453431763,
           0.0105633453431763,
           0.0105633453431763,
           0.0105633453418196,
           0.0105633453418196,
           0.0105633453406387,
           0.0105633453431763,
           0.0105633453431763,
           0.0105633453418196,
           0.0105633453431763,
           0.0105633453431763,
           0.0105633453418196,
           0.0105633453431763,
           0.0105633452973067,
           0.0105633453418196,
           0.0105633453406387,
           0.0105633453418196,
           0.0105633453431763,
           0.0105633453418196
          ],
          "coloraxis": "coloraxis",
          "symbol": "circle"
         },
         "mode": "markers",
         "name": "",
         "orientation": "v",
         "showlegend": false,
         "type": "scatter",
         "x": [
          0.2057415007746191,
          0.205740422783805,
          0.2057413201109879,
          0.2057410631162439,
          0.2057409974728475,
          0.205740681186502,
          0.2057409286070181,
          0.2057419463231469,
          0.2057419463236023,
          0.2057409573822912,
          0.2057400540553157,
          0.2057405038627702,
          0.2057401351314449,
          0.205740965695847,
          0.2057410108095303,
          0.2057405969662651,
          0.2057401351315952,
          0.2057400000001558,
          0.2057409656958293,
          0.2057405038630164,
          0.2057412756869471,
          0.20574087455508,
          0.2057411001911586,
          0.2057405429998648,
          0.2057402282276131,
          0.2057418192263199,
          0.2057409248422358,
          0.205741379540146,
          0.2057405832713292
         ],
         "xaxis": "x2",
         "y": [
          0.0105633453431763,
          0.0105633453431763,
          0.0105633453418196,
          0.0105633453431763,
          0.0105633453406387,
          0.0105633453418196,
          0.0105633453431763,
          0.0105633453431763,
          0.0105633453418196,
          0.0105633453431763,
          0.0105633453431763,
          0.0105633453431763,
          0.0105633453431763,
          0.0105633453418196,
          0.0105633453418196,
          0.0105633453406387,
          0.0105633453431763,
          0.0105633453431763,
          0.0105633453418196,
          0.0105633453431763,
          0.0105633453431763,
          0.0105633453418196,
          0.0105633453431763,
          0.0105633452973067,
          0.0105633453418196,
          0.0105633453406387,
          0.0105633453418196,
          0.0105633453431763,
          0.0105633453418196
         ],
         "yaxis": "y2"
        },
        {
         "hovertemplate": "<b>%{hovertext}</b><br><br>C_limit=12<br>N_of_deletions=4<br>Flux=%{x}<br>Biomass=%{marker.color}<extra></extra>",
         "hovertext": [
          [
           "SPTr",
           "MDDCP2pp",
           "RNDR4",
           "DCTPD"
          ],
          [
           "DMPPS_syn",
           "NADTRHD",
           "RNDR4",
           "DCTPD"
          ],
          [
           "DCTPD",
           "RNDR4",
           "AMPTASECG",
           "GLYCK"
          ],
          [
           "DCTPD",
           "G6PDH2r",
           "RNDR4",
           "CAT"
          ],
          [
           "GLYDHDA",
           "RNDR4",
           "DCTPD",
           "ACM6PH"
          ],
          [
           "DCTPD",
           "GAPD",
           "RNDR4",
           "GLUSfx"
          ],
          [
           "DCTPD",
           "RNDR4",
           "ACGAMK",
           "PGCD"
          ],
          [
           "DCTPD",
           "RNDR4",
           "PPKr",
           "OPAH"
          ],
          [
           "DCTPD",
           "RNDR4",
           "FBA",
           "AGDC"
          ],
          [
           "DCTPD",
           "FNOR",
           "G6PDH2r",
           "RNDR4"
          ],
          [
           "PPA",
           "RNDR4",
           "NDPK6",
           "PGCD"
          ],
          [
           "DCTPD",
           "G6PDH2r",
           "RNDR4",
           "TALA"
          ],
          [
           "DCTPD",
           "VPAMTr",
           "RNDR4",
           "AGDC"
          ],
          [
           "DMPPS_syn",
           "FNOR",
           "RNDR4",
           "DCTPD"
          ],
          [
           "PSP_L",
           "RNDR4",
           "NDPK6",
           "GTHS"
          ],
          [
           "VALTA",
           "RNDR4",
           "NDPK6",
           "AGDC"
          ],
          [
           "ACM6PH",
           "RNDR4",
           "DCTPD",
           "PGCD"
          ],
          [
           "AMPTASECG",
           "TALA",
           "RNDR4",
           "NDPK6"
          ],
          [
           "DCTPD",
           "PPA",
           "RNDR4",
           "PYK"
          ],
          [
           "DMPPS_syn",
           "RNDR4",
           "NDPK6",
           "AGDC"
          ],
          [
           "RNDR4",
           "GND",
           "ANS",
           "DCTPD"
          ],
          [
           "DCTPD",
           "RNDR4",
           "AMPTASECG",
           "AGDC"
          ],
          [
           "DCTPD",
           "NADTRHD",
           "TALA",
           "RNDR4"
          ],
          [
           "DCTPD",
           "FBP",
           "RNDR4",
           "CAT"
          ],
          [
           "DCTPD",
           "PSP_L",
           "RNDR4",
           "AGDC"
          ],
          [
           "DCTPD",
           "PSERT",
           "RNDR4",
           "GLUSfx"
          ],
          [
           "DCTPD",
           "PSERT",
           "RNDR4",
           "AGDC"
          ],
          [
           "DCTPD",
           "RNDR4",
           "SBP",
           "IPDPS"
          ],
          [
           "RNDR4",
           "FNOR",
           "ANS",
           "DCTPD"
          ],
          [
           "DMPPS_syn",
           "VPAMTr",
           "RNDR4",
           "DCTPD"
          ],
          [
           "RNDR4",
           "NDPK6",
           "GTHRDH",
           "OPAH"
          ],
          [
           "PEPC",
           "RNDR4",
           "NDPK6",
           "GLYCK"
          ],
          [
           "RNDR4",
           "NDPK6",
           "SBP",
           "PGL"
          ],
          [
           "FNOR",
           "G6PDH2r",
           "RNDR4",
           "NDPK6"
          ],
          [
           "RNDR4",
           "NDPK6",
           "SBP",
           "TRDRf"
          ],
          [
           "RNDR4",
           "NDPK6",
           "PDH",
           "PPS"
          ],
          [
           "FNOR",
           "GND",
           "RNDR4",
           "NDPK6"
          ],
          [
           "TALA",
           "RNDR4",
           "NDPK6",
           "ASPO6"
          ],
          [
           "NADTRHD",
           "RNDR4",
           "NDPK6",
           "PFK"
          ]
         ],
         "legendgroup": "",
         "marker": {
          "color": [
           0.0105633453418196,
           0.0105633453418196,
           0.0105633453431763,
           0.0105633453431763,
           0.0105633453431763,
           0.0105633453431763,
           0.0105633453431763,
           0.0105633453418196,
           0.0105633453431763,
           0.0105633453431763,
           0.0105633453431763,
           0.0105633453418196,
           0.0105633453431763,
           0.0105633453431763,
           0.0105633453431763,
           0.0105633453431763,
           0.0105633453418196,
           0.0105633453431763,
           0.0105633453431763,
           0.0105633453418196,
           0.0105633453333915,
           0.0105633453431763,
           0.0105633453431763,
           0.0105633453431763,
           0.0105633453431763,
           0.0105633453431763,
           0.0105633453431763,
           0.0105633453431763,
           0.0105633453431763,
           0.0105633453431763,
           0.0105633453431763,
           0.0105633453406387,
           0.0105633453431763,
           0.0105633453431763,
           0.0105633453431763,
           0.0105633453406387,
           0.0105633453406387,
           0.0105633453431763,
           0.0105633453418196
          ],
          "coloraxis": "coloraxis",
          "symbol": "circle"
         },
         "mode": "markers",
         "name": "",
         "orientation": "v",
         "showlegend": false,
         "type": "scatter",
         "x": [
          0.2057416305936593,
          0.2057411393711076,
          0.2057411050063215,
          0.205741073170412,
          0.2057409248414528,
          0.2057413571870155,
          0.2057413571931132,
          0.2057413083728045,
          0.2057408114910246,
          0.2057412029960111,
          0.2057401351320258,
          0.2057412231795707,
          0.2057409248411613,
          0.2057410048675566,
          0.2057405832657201,
          0.2057401351329252,
          0.205740950815652,
          0.20574,
          0.2057405579225573,
          0.2057421767767871,
          0.2057406373394891,
          0.2057404227867555,
          0.2057413147303985,
          0.2057405832711597,
          0.2057405969534258,
          0.205740422792475,
          0.2057402282249257,
          0.2057408201474501,
          0.2057405969531279,
          0.2057399999998107,
          0.2057413147221179,
          0.205740596966265,
          0.2057410188344912,
          0.2057399999994739,
          0.2057409248416321,
          0.2057407314641229,
          0.2057405572996775,
          0.2057405572900389,
          0.2057404227951834
         ],
         "xaxis": "x3",
         "y": [
          0.0105633453418196,
          0.0105633453418196,
          0.0105633453431763,
          0.0105633453431763,
          0.0105633453431763,
          0.0105633453431763,
          0.0105633453431763,
          0.0105633453418196,
          0.0105633453431763,
          0.0105633453431763,
          0.0105633453431763,
          0.0105633453418196,
          0.0105633453431763,
          0.0105633453431763,
          0.0105633453431763,
          0.0105633453431763,
          0.0105633453418196,
          0.0105633453431763,
          0.0105633453431763,
          0.0105633453418196,
          0.0105633453333915,
          0.0105633453431763,
          0.0105633453431763,
          0.0105633453431763,
          0.0105633453431763,
          0.0105633453431763,
          0.0105633453431763,
          0.0105633453431763,
          0.0105633453431763,
          0.0105633453431763,
          0.0105633453431763,
          0.0105633453406387,
          0.0105633453431763,
          0.0105633453431763,
          0.0105633453431763,
          0.0105633453406387,
          0.0105633453406387,
          0.0105633453431763,
          0.0105633453418196
         ],
         "yaxis": "y3"
        },
        {
         "hovertemplate": "<b>%{hovertext}</b><br><br>C_limit=12<br>N_of_deletions=5<br>Flux=%{x}<br>Biomass=%{marker.color}<extra></extra>",
         "hovertext": [
          [
           "FDH6",
           "GART",
           "ANHMK",
           "GGCLUT2",
           "PSP_L"
          ],
          [
           "FDH6",
           "GART",
           "ORNTAC",
           "AGDC",
           "PSP_L"
          ],
          [
           "GART",
           "FDH6",
           "PGCD",
           "AGDC",
           "AMPTASECG"
          ],
          [
           "GART",
           "FDH6",
           "AGDC",
           "G6PDH2r",
           "GLUSfx"
          ],
          [
           "GART",
           "FDH6",
           "GND",
           "GLUSfx",
           "PSP_L"
          ],
          [
           "FDH6",
           "GART",
           "PDH",
           "VPAMTr",
           "FBA3"
          ],
          [
           "FDH6",
           "GART",
           "FBA3",
           "ACGS",
           "ACGAMK"
          ],
          [
           "PSERT",
           "FDH6",
           "GART",
           "GGCLUT2",
           "AGDC"
          ],
          [
           "FDH6",
           "GART",
           "HEX7",
           "AGTi",
           "AMPTASECG"
          ],
          [
           "PSERT",
           "FDH6",
           "GART",
           "AGDC",
           "FBA3"
          ],
          [
           "TALA",
           "NDPK6",
           "PDH",
           "RNDR4",
           "PGL"
          ],
          [
           "FDH6",
           "GART",
           "IPDPS",
           "ANHMK",
           "FBP"
          ],
          [
           "FDH6",
           "GART",
           "CAT",
           "VPAMTr",
           "ACGS"
          ],
          [
           "FDH6",
           "GART",
           "GGCLUT2",
           "DMPPS_syn",
           "ACGS"
          ],
          [
           "PSERT",
           "FDH6",
           "GART",
           "SBP",
           "GND"
          ],
          [
           "FDH6",
           "GART",
           "SBP",
           "GTHPi",
           "DMPPS_syn"
          ],
          [
           "PSERT",
           "GART",
           "FDH6",
           "DMPPS_syn",
           "GLUSfx"
          ],
          [
           "FDH6",
           "GART",
           "ANHMK",
           "HEX7",
           "FUM"
          ],
          [
           "FDH6",
           "GART",
           "DMPPS_syn",
           "PPA",
           "GND"
          ],
          [
           "GART",
           "FDH6",
           "CAT",
           "PGCD",
           "VALTA"
          ],
          [
           "PSERT",
           "FDH6",
           "GART",
           "GGCLUT2",
           "MDDEP4pp"
          ]
         ],
         "legendgroup": "",
         "marker": {
          "color": [
           0.0105633453418196,
           0.0105633453431763,
           0.0105633453431763,
           0.0105633453418196,
           0.0105633453418196,
           0.0105633453418196,
           0.0105633453418196,
           0.0105633453418196,
           0.0105633453431763,
           0.0105633453431763,
           0.0105633453431763,
           0.0105633453418196,
           0.0105633453406387,
           0.0105633453418196,
           0.0105633453418196,
           0.0105633453431763,
           0.0105633453418196,
           0.0105633453418196,
           0.0105633453431763,
           0.0105633453418196,
           0.0105633453418196
          ],
          "coloraxis": "coloraxis",
          "symbol": "circle"
         },
         "mode": "markers",
         "name": "",
         "orientation": "v",
         "showlegend": false,
         "type": "scatter",
         "x": [
          0.2057405969592106,
          0.2057405038628514,
          0.2057405969534668,
          0.2057409656905451,
          0.2057409656902518,
          0.2057411686377962,
          0.2057409884567542,
          0.2057421767825808,
          0.2057411411812197,
          0.2057409884620381,
          0.2057411001928694,
          0.2057412189836086,
          0.2057417762776349,
          0.2057408697363291,
          0.2057413683615842,
          0.2057407352299859,
          0.2057413683638489,
          0.2043543880307362,
          0.205740671330712,
          0.2057414272328297,
          0.2057409497735862
         ],
         "xaxis": "x4",
         "y": [
          0.0105633453418196,
          0.0105633453431763,
          0.0105633453431763,
          0.0105633453418196,
          0.0105633453418196,
          0.0105633453418196,
          0.0105633453418196,
          0.0105633453418196,
          0.0105633453431763,
          0.0105633453431763,
          0.0105633453431763,
          0.0105633453418196,
          0.0105633453406387,
          0.0105633453418196,
          0.0105633453418196,
          0.0105633453431763,
          0.0105633453418196,
          0.0105633453418196,
          0.0105633453431763,
          0.0105633453418196,
          0.0105633453418196
         ],
         "yaxis": "y4"
        }
       ],
       "layout": {
        "annotations": [
         {
          "font": {},
          "showarrow": false,
          "text": "dels=2",
          "x": 0.11499999999999999,
          "xanchor": "center",
          "xref": "paper",
          "y": 1,
          "yanchor": "bottom",
          "yref": "paper"
         },
         {
          "font": {},
          "showarrow": false,
          "text": "dels=3",
          "x": 0.365,
          "xanchor": "center",
          "xref": "paper",
          "y": 1,
          "yanchor": "bottom",
          "yref": "paper"
         },
         {
          "font": {},
          "showarrow": false,
          "text": "dels=4",
          "x": 0.615,
          "xanchor": "center",
          "xref": "paper",
          "y": 1,
          "yanchor": "bottom",
          "yref": "paper"
         },
         {
          "font": {},
          "showarrow": false,
          "text": "dels=5",
          "x": 0.865,
          "xanchor": "center",
          "xref": "paper",
          "y": 1,
          "yanchor": "bottom",
          "yref": "paper"
         },
         {
          "font": {},
          "showarrow": false,
          "text": "C_limit=12",
          "textangle": 90,
          "x": 0.98,
          "xanchor": "left",
          "xref": "paper",
          "y": 0.11375,
          "yanchor": "middle",
          "yref": "paper"
         },
         {
          "font": {},
          "showarrow": false,
          "text": "C_limit=11",
          "textangle": 90,
          "x": 0.98,
          "xanchor": "left",
          "xref": "paper",
          "y": 0.37124999999999997,
          "yanchor": "middle",
          "yref": "paper"
         },
         {
          "font": {},
          "showarrow": false,
          "text": "C_limit=10",
          "textangle": 90,
          "x": 0.98,
          "xanchor": "left",
          "xref": "paper",
          "y": 0.62875,
          "yanchor": "middle",
          "yref": "paper"
         },
         {
          "font": {},
          "showarrow": false,
          "text": "C_limit=9",
          "textangle": 90,
          "x": 0.98,
          "xanchor": "left",
          "xref": "paper",
          "y": 0.88625,
          "yanchor": "middle",
          "yref": "paper"
         }
        ],
        "coloraxis": {
         "colorbar": {
          "title": {
           "text": "Biomass"
          }
         },
         "colorscale": [
          [
           0,
           "#0d0887"
          ],
          [
           0.1111111111111111,
           "#46039f"
          ],
          [
           0.2222222222222222,
           "#7201a8"
          ],
          [
           0.3333333333333333,
           "#9c179e"
          ],
          [
           0.4444444444444444,
           "#bd3786"
          ],
          [
           0.5555555555555556,
           "#d8576b"
          ],
          [
           0.6666666666666666,
           "#ed7953"
          ],
          [
           0.7777777777777778,
           "#fb9f3a"
          ],
          [
           0.8888888888888888,
           "#fdca26"
          ],
          [
           1,
           "#f0f921"
          ]
         ]
        },
        "legend": {
         "tracegroupgap": 0
        },
        "margin": {
         "t": 60
        },
        "template": {
         "data": {
          "bar": [
           {
            "error_x": {
             "color": "#2a3f5f"
            },
            "error_y": {
             "color": "#2a3f5f"
            },
            "marker": {
             "line": {
              "color": "#E5ECF6",
              "width": 0.5
             },
             "pattern": {
              "fillmode": "overlay",
              "size": 10,
              "solidity": 0.2
             }
            },
            "type": "bar"
           }
          ],
          "barpolar": [
           {
            "marker": {
             "line": {
              "color": "#E5ECF6",
              "width": 0.5
             },
             "pattern": {
              "fillmode": "overlay",
              "size": 10,
              "solidity": 0.2
             }
            },
            "type": "barpolar"
           }
          ],
          "carpet": [
           {
            "aaxis": {
             "endlinecolor": "#2a3f5f",
             "gridcolor": "white",
             "linecolor": "white",
             "minorgridcolor": "white",
             "startlinecolor": "#2a3f5f"
            },
            "baxis": {
             "endlinecolor": "#2a3f5f",
             "gridcolor": "white",
             "linecolor": "white",
             "minorgridcolor": "white",
             "startlinecolor": "#2a3f5f"
            },
            "type": "carpet"
           }
          ],
          "choropleth": [
           {
            "colorbar": {
             "outlinewidth": 0,
             "ticks": ""
            },
            "type": "choropleth"
           }
          ],
          "contour": [
           {
            "colorbar": {
             "outlinewidth": 0,
             "ticks": ""
            },
            "colorscale": [
             [
              0,
              "#0d0887"
             ],
             [
              0.1111111111111111,
              "#46039f"
             ],
             [
              0.2222222222222222,
              "#7201a8"
             ],
             [
              0.3333333333333333,
              "#9c179e"
             ],
             [
              0.4444444444444444,
              "#bd3786"
             ],
             [
              0.5555555555555556,
              "#d8576b"
             ],
             [
              0.6666666666666666,
              "#ed7953"
             ],
             [
              0.7777777777777778,
              "#fb9f3a"
             ],
             [
              0.8888888888888888,
              "#fdca26"
             ],
             [
              1,
              "#f0f921"
             ]
            ],
            "type": "contour"
           }
          ],
          "contourcarpet": [
           {
            "colorbar": {
             "outlinewidth": 0,
             "ticks": ""
            },
            "type": "contourcarpet"
           }
          ],
          "heatmap": [
           {
            "colorbar": {
             "outlinewidth": 0,
             "ticks": ""
            },
            "colorscale": [
             [
              0,
              "#0d0887"
             ],
             [
              0.1111111111111111,
              "#46039f"
             ],
             [
              0.2222222222222222,
              "#7201a8"
             ],
             [
              0.3333333333333333,
              "#9c179e"
             ],
             [
              0.4444444444444444,
              "#bd3786"
             ],
             [
              0.5555555555555556,
              "#d8576b"
             ],
             [
              0.6666666666666666,
              "#ed7953"
             ],
             [
              0.7777777777777778,
              "#fb9f3a"
             ],
             [
              0.8888888888888888,
              "#fdca26"
             ],
             [
              1,
              "#f0f921"
             ]
            ],
            "type": "heatmap"
           }
          ],
          "heatmapgl": [
           {
            "colorbar": {
             "outlinewidth": 0,
             "ticks": ""
            },
            "colorscale": [
             [
              0,
              "#0d0887"
             ],
             [
              0.1111111111111111,
              "#46039f"
             ],
             [
              0.2222222222222222,
              "#7201a8"
             ],
             [
              0.3333333333333333,
              "#9c179e"
             ],
             [
              0.4444444444444444,
              "#bd3786"
             ],
             [
              0.5555555555555556,
              "#d8576b"
             ],
             [
              0.6666666666666666,
              "#ed7953"
             ],
             [
              0.7777777777777778,
              "#fb9f3a"
             ],
             [
              0.8888888888888888,
              "#fdca26"
             ],
             [
              1,
              "#f0f921"
             ]
            ],
            "type": "heatmapgl"
           }
          ],
          "histogram": [
           {
            "marker": {
             "pattern": {
              "fillmode": "overlay",
              "size": 10,
              "solidity": 0.2
             }
            },
            "type": "histogram"
           }
          ],
          "histogram2d": [
           {
            "colorbar": {
             "outlinewidth": 0,
             "ticks": ""
            },
            "colorscale": [
             [
              0,
              "#0d0887"
             ],
             [
              0.1111111111111111,
              "#46039f"
             ],
             [
              0.2222222222222222,
              "#7201a8"
             ],
             [
              0.3333333333333333,
              "#9c179e"
             ],
             [
              0.4444444444444444,
              "#bd3786"
             ],
             [
              0.5555555555555556,
              "#d8576b"
             ],
             [
              0.6666666666666666,
              "#ed7953"
             ],
             [
              0.7777777777777778,
              "#fb9f3a"
             ],
             [
              0.8888888888888888,
              "#fdca26"
             ],
             [
              1,
              "#f0f921"
             ]
            ],
            "type": "histogram2d"
           }
          ],
          "histogram2dcontour": [
           {
            "colorbar": {
             "outlinewidth": 0,
             "ticks": ""
            },
            "colorscale": [
             [
              0,
              "#0d0887"
             ],
             [
              0.1111111111111111,
              "#46039f"
             ],
             [
              0.2222222222222222,
              "#7201a8"
             ],
             [
              0.3333333333333333,
              "#9c179e"
             ],
             [
              0.4444444444444444,
              "#bd3786"
             ],
             [
              0.5555555555555556,
              "#d8576b"
             ],
             [
              0.6666666666666666,
              "#ed7953"
             ],
             [
              0.7777777777777778,
              "#fb9f3a"
             ],
             [
              0.8888888888888888,
              "#fdca26"
             ],
             [
              1,
              "#f0f921"
             ]
            ],
            "type": "histogram2dcontour"
           }
          ],
          "mesh3d": [
           {
            "colorbar": {
             "outlinewidth": 0,
             "ticks": ""
            },
            "type": "mesh3d"
           }
          ],
          "parcoords": [
           {
            "line": {
             "colorbar": {
              "outlinewidth": 0,
              "ticks": ""
             }
            },
            "type": "parcoords"
           }
          ],
          "pie": [
           {
            "automargin": true,
            "type": "pie"
           }
          ],
          "scatter": [
           {
            "marker": {
             "colorbar": {
              "outlinewidth": 0,
              "ticks": ""
             }
            },
            "type": "scatter"
           }
          ],
          "scatter3d": [
           {
            "line": {
             "colorbar": {
              "outlinewidth": 0,
              "ticks": ""
             }
            },
            "marker": {
             "colorbar": {
              "outlinewidth": 0,
              "ticks": ""
             }
            },
            "type": "scatter3d"
           }
          ],
          "scattercarpet": [
           {
            "marker": {
             "colorbar": {
              "outlinewidth": 0,
              "ticks": ""
             }
            },
            "type": "scattercarpet"
           }
          ],
          "scattergeo": [
           {
            "marker": {
             "colorbar": {
              "outlinewidth": 0,
              "ticks": ""
             }
            },
            "type": "scattergeo"
           }
          ],
          "scattergl": [
           {
            "marker": {
             "colorbar": {
              "outlinewidth": 0,
              "ticks": ""
             }
            },
            "type": "scattergl"
           }
          ],
          "scattermapbox": [
           {
            "marker": {
             "colorbar": {
              "outlinewidth": 0,
              "ticks": ""
             }
            },
            "type": "scattermapbox"
           }
          ],
          "scatterpolar": [
           {
            "marker": {
             "colorbar": {
              "outlinewidth": 0,
              "ticks": ""
             }
            },
            "type": "scatterpolar"
           }
          ],
          "scatterpolargl": [
           {
            "marker": {
             "colorbar": {
              "outlinewidth": 0,
              "ticks": ""
             }
            },
            "type": "scatterpolargl"
           }
          ],
          "scatterternary": [
           {
            "marker": {
             "colorbar": {
              "outlinewidth": 0,
              "ticks": ""
             }
            },
            "type": "scatterternary"
           }
          ],
          "surface": [
           {
            "colorbar": {
             "outlinewidth": 0,
             "ticks": ""
            },
            "colorscale": [
             [
              0,
              "#0d0887"
             ],
             [
              0.1111111111111111,
              "#46039f"
             ],
             [
              0.2222222222222222,
              "#7201a8"
             ],
             [
              0.3333333333333333,
              "#9c179e"
             ],
             [
              0.4444444444444444,
              "#bd3786"
             ],
             [
              0.5555555555555556,
              "#d8576b"
             ],
             [
              0.6666666666666666,
              "#ed7953"
             ],
             [
              0.7777777777777778,
              "#fb9f3a"
             ],
             [
              0.8888888888888888,
              "#fdca26"
             ],
             [
              1,
              "#f0f921"
             ]
            ],
            "type": "surface"
           }
          ],
          "table": [
           {
            "cells": {
             "fill": {
              "color": "#EBF0F8"
             },
             "line": {
              "color": "white"
             }
            },
            "header": {
             "fill": {
              "color": "#C8D4E3"
             },
             "line": {
              "color": "white"
             }
            },
            "type": "table"
           }
          ]
         },
         "layout": {
          "annotationdefaults": {
           "arrowcolor": "#2a3f5f",
           "arrowhead": 0,
           "arrowwidth": 1
          },
          "autotypenumbers": "strict",
          "coloraxis": {
           "colorbar": {
            "outlinewidth": 0,
            "ticks": ""
           }
          },
          "colorscale": {
           "diverging": [
            [
             0,
             "#8e0152"
            ],
            [
             0.1,
             "#c51b7d"
            ],
            [
             0.2,
             "#de77ae"
            ],
            [
             0.3,
             "#f1b6da"
            ],
            [
             0.4,
             "#fde0ef"
            ],
            [
             0.5,
             "#f7f7f7"
            ],
            [
             0.6,
             "#e6f5d0"
            ],
            [
             0.7,
             "#b8e186"
            ],
            [
             0.8,
             "#7fbc41"
            ],
            [
             0.9,
             "#4d9221"
            ],
            [
             1,
             "#276419"
            ]
           ],
           "sequential": [
            [
             0,
             "#0d0887"
            ],
            [
             0.1111111111111111,
             "#46039f"
            ],
            [
             0.2222222222222222,
             "#7201a8"
            ],
            [
             0.3333333333333333,
             "#9c179e"
            ],
            [
             0.4444444444444444,
             "#bd3786"
            ],
            [
             0.5555555555555556,
             "#d8576b"
            ],
            [
             0.6666666666666666,
             "#ed7953"
            ],
            [
             0.7777777777777778,
             "#fb9f3a"
            ],
            [
             0.8888888888888888,
             "#fdca26"
            ],
            [
             1,
             "#f0f921"
            ]
           ],
           "sequentialminus": [
            [
             0,
             "#0d0887"
            ],
            [
             0.1111111111111111,
             "#46039f"
            ],
            [
             0.2222222222222222,
             "#7201a8"
            ],
            [
             0.3333333333333333,
             "#9c179e"
            ],
            [
             0.4444444444444444,
             "#bd3786"
            ],
            [
             0.5555555555555556,
             "#d8576b"
            ],
            [
             0.6666666666666666,
             "#ed7953"
            ],
            [
             0.7777777777777778,
             "#fb9f3a"
            ],
            [
             0.8888888888888888,
             "#fdca26"
            ],
            [
             1,
             "#f0f921"
            ]
           ]
          },
          "colorway": [
           "#636efa",
           "#EF553B",
           "#00cc96",
           "#ab63fa",
           "#FFA15A",
           "#19d3f3",
           "#FF6692",
           "#B6E880",
           "#FF97FF",
           "#FECB52"
          ],
          "font": {
           "color": "#2a3f5f"
          },
          "geo": {
           "bgcolor": "white",
           "lakecolor": "white",
           "landcolor": "#E5ECF6",
           "showlakes": true,
           "showland": true,
           "subunitcolor": "white"
          },
          "hoverlabel": {
           "align": "left"
          },
          "hovermode": "closest",
          "mapbox": {
           "style": "light"
          },
          "paper_bgcolor": "white",
          "plot_bgcolor": "#E5ECF6",
          "polar": {
           "angularaxis": {
            "gridcolor": "white",
            "linecolor": "white",
            "ticks": ""
           },
           "bgcolor": "#E5ECF6",
           "radialaxis": {
            "gridcolor": "white",
            "linecolor": "white",
            "ticks": ""
           }
          },
          "scene": {
           "xaxis": {
            "backgroundcolor": "#E5ECF6",
            "gridcolor": "white",
            "gridwidth": 2,
            "linecolor": "white",
            "showbackground": true,
            "ticks": "",
            "zerolinecolor": "white"
           },
           "yaxis": {
            "backgroundcolor": "#E5ECF6",
            "gridcolor": "white",
            "gridwidth": 2,
            "linecolor": "white",
            "showbackground": true,
            "ticks": "",
            "zerolinecolor": "white"
           },
           "zaxis": {
            "backgroundcolor": "#E5ECF6",
            "gridcolor": "white",
            "gridwidth": 2,
            "linecolor": "white",
            "showbackground": true,
            "ticks": "",
            "zerolinecolor": "white"
           }
          },
          "shapedefaults": {
           "line": {
            "color": "#2a3f5f"
           }
          },
          "ternary": {
           "aaxis": {
            "gridcolor": "white",
            "linecolor": "white",
            "ticks": ""
           },
           "baxis": {
            "gridcolor": "white",
            "linecolor": "white",
            "ticks": ""
           },
           "bgcolor": "#E5ECF6",
           "caxis": {
            "gridcolor": "white",
            "linecolor": "white",
            "ticks": ""
           }
          },
          "title": {
           "x": 0.05
          },
          "xaxis": {
           "automargin": true,
           "gridcolor": "white",
           "linecolor": "white",
           "ticks": "",
           "title": {
            "standoff": 15
           },
           "zerolinecolor": "white",
           "zerolinewidth": 2
          },
          "yaxis": {
           "automargin": true,
           "gridcolor": "white",
           "linecolor": "white",
           "ticks": "",
           "title": {
            "standoff": 15
           },
           "zerolinecolor": "white",
           "zerolinewidth": 2
          }
         }
        },
        "xaxis": {
         "anchor": "y",
         "domain": [
          0,
          0.22999999999999998
         ],
         "title": {
          "text": "Flux"
         }
        },
        "xaxis10": {
         "anchor": "y10",
         "domain": [
          0.24999999999999997,
          0.48
         ],
         "matches": "x",
         "showticklabels": false
        },
        "xaxis11": {
         "anchor": "y11",
         "domain": [
          0.49999999999999994,
          0.73
         ],
         "matches": "x",
         "showticklabels": false
        },
        "xaxis12": {
         "anchor": "y12",
         "domain": [
          0.75,
          0.98
         ],
         "matches": "x",
         "showticklabels": false
        },
        "xaxis13": {
         "anchor": "y13",
         "domain": [
          0,
          0.22999999999999998
         ],
         "matches": "x",
         "showticklabels": false
        },
        "xaxis14": {
         "anchor": "y14",
         "domain": [
          0.24999999999999997,
          0.48
         ],
         "matches": "x",
         "showticklabels": false
        },
        "xaxis15": {
         "anchor": "y15",
         "domain": [
          0.49999999999999994,
          0.73
         ],
         "matches": "x",
         "showticklabels": false
        },
        "xaxis16": {
         "anchor": "y16",
         "domain": [
          0.75,
          0.98
         ],
         "matches": "x",
         "showticklabels": false
        },
        "xaxis2": {
         "anchor": "y2",
         "domain": [
          0.24999999999999997,
          0.48
         ],
         "matches": "x",
         "title": {
          "text": "Flux"
         }
        },
        "xaxis3": {
         "anchor": "y3",
         "domain": [
          0.49999999999999994,
          0.73
         ],
         "matches": "x",
         "title": {
          "text": "Flux"
         }
        },
        "xaxis4": {
         "anchor": "y4",
         "domain": [
          0.75,
          0.98
         ],
         "matches": "x",
         "title": {
          "text": "Flux"
         }
        },
        "xaxis5": {
         "anchor": "y5",
         "domain": [
          0,
          0.22999999999999998
         ],
         "matches": "x",
         "showticklabels": false
        },
        "xaxis6": {
         "anchor": "y6",
         "domain": [
          0.24999999999999997,
          0.48
         ],
         "matches": "x",
         "showticklabels": false
        },
        "xaxis7": {
         "anchor": "y7",
         "domain": [
          0.49999999999999994,
          0.73
         ],
         "matches": "x",
         "showticklabels": false
        },
        "xaxis8": {
         "anchor": "y8",
         "domain": [
          0.75,
          0.98
         ],
         "matches": "x",
         "showticklabels": false
        },
        "xaxis9": {
         "anchor": "y9",
         "domain": [
          0,
          0.22999999999999998
         ],
         "matches": "x",
         "showticklabels": false
        },
        "yaxis": {
         "anchor": "x",
         "domain": [
          0,
          0.2275
         ],
         "title": {
          "text": "Biomass"
         }
        },
        "yaxis10": {
         "anchor": "x10",
         "domain": [
          0.515,
          0.7425
         ],
         "matches": "y",
         "showticklabels": false
        },
        "yaxis11": {
         "anchor": "x11",
         "domain": [
          0.515,
          0.7425
         ],
         "matches": "y",
         "showticklabels": false
        },
        "yaxis12": {
         "anchor": "x12",
         "domain": [
          0.515,
          0.7425
         ],
         "matches": "y",
         "showticklabels": false
        },
        "yaxis13": {
         "anchor": "x13",
         "domain": [
          0.7725,
          1
         ],
         "matches": "y",
         "title": {
          "text": "Biomass"
         }
        },
        "yaxis14": {
         "anchor": "x14",
         "domain": [
          0.7725,
          1
         ],
         "matches": "y",
         "showticklabels": false
        },
        "yaxis15": {
         "anchor": "x15",
         "domain": [
          0.7725,
          1
         ],
         "matches": "y",
         "showticklabels": false
        },
        "yaxis16": {
         "anchor": "x16",
         "domain": [
          0.7725,
          1
         ],
         "matches": "y",
         "showticklabels": false
        },
        "yaxis2": {
         "anchor": "x2",
         "domain": [
          0,
          0.2275
         ],
         "matches": "y",
         "showticklabels": false
        },
        "yaxis3": {
         "anchor": "x3",
         "domain": [
          0,
          0.2275
         ],
         "matches": "y",
         "showticklabels": false
        },
        "yaxis4": {
         "anchor": "x4",
         "domain": [
          0,
          0.2275
         ],
         "matches": "y",
         "showticklabels": false
        },
        "yaxis5": {
         "anchor": "x5",
         "domain": [
          0.2575,
          0.485
         ],
         "matches": "y",
         "title": {
          "text": "Biomass"
         }
        },
        "yaxis6": {
         "anchor": "x6",
         "domain": [
          0.2575,
          0.485
         ],
         "matches": "y",
         "showticklabels": false
        },
        "yaxis7": {
         "anchor": "x7",
         "domain": [
          0.2575,
          0.485
         ],
         "matches": "y",
         "showticklabels": false
        },
        "yaxis8": {
         "anchor": "x8",
         "domain": [
          0.2575,
          0.485
         ],
         "matches": "y",
         "showticklabels": false
        },
        "yaxis9": {
         "anchor": "x9",
         "domain": [
          0.515,
          0.7425
         ],
         "matches": "y",
         "title": {
          "text": "Biomass"
         }
        }
       }
      },
      "text/html": [
       "<div>                            <div id=\"8c8e88b3-8ef0-468a-beb8-180c78e13577\" class=\"plotly-graph-div\" style=\"height:525px; width:100%;\"></div>            <script type=\"text/javascript\">                require([\"plotly\"], function(Plotly) {                    window.PLOTLYENV=window.PLOTLYENV || {};                                    if (document.getElementById(\"8c8e88b3-8ef0-468a-beb8-180c78e13577\")) {                    Plotly.newPlot(                        \"8c8e88b3-8ef0-468a-beb8-180c78e13577\",                        [{\"hovertemplate\":\"<b>%{hovertext}</b><br><br>C_limit=9<br>N_of_deletions=2<br>Flux=%{x}<br>Biomass=%{marker.color}<extra></extra>\",\"hovertext\":[[\"DCTPD\",\"RNDR4\"],[\"PSP_L\",\"GND\"],[\"PSP_L\",\"PGL\"],[\"PSERT\",\"PGL\"],[\"G6PDH2r\",\"PSP_L\"],[\"PSERT\",\"G6PDH2r\"],[\"G6PDH2r\",\"PGCD\"],[\"PSERT\",\"GND\"],[\"GND\",\"PGCD\"],[\"PGL\",\"PGCD\"]],\"legendgroup\":\"\",\"marker\":{\"color\":[0.0105633453418196,0.0275865747021006,0.0275865747048797,0.0275865747141893,0.0275865747026328,0.0275865747026284,0.0275865747054355,0.0275865747026105,0.0275865747017432,0.0275865747026246],\"coloraxis\":\"coloraxis\",\"symbol\":\"circle\"},\"mode\":\"markers\",\"name\":\"\",\"orientation\":\"v\",\"showlegend\":false,\"x\":[0.2057417852848243,0.1689037321085965,0.1689017159147813,0.1689006008359717,0.1689006008610985,0.1689002479598325,0.1689002479537764,0.168900247959895,0.1689012109171352,0.1689002479598513],\"xaxis\":\"x13\",\"y\":[0.0105633453418196,0.0275865747021006,0.0275865747048797,0.0275865747141893,0.0275865747026328,0.0275865747026284,0.0275865747054355,0.0275865747026105,0.0275865747017432,0.0275865747026246],\"yaxis\":\"y13\",\"type\":\"scatter\"},{\"hovertemplate\":\"<b>%{hovertext}</b><br><br>C_limit=9<br>N_of_deletions=3<br>Flux=%{x}<br>Biomass=%{marker.color}<extra></extra>\",\"hovertext\":[[\"NADTRHD\",\"RNDR4\",\"NDPK6\"],[\"RNDR4\",\"NDPK6\",\"AGDC\"],[\"PPA\",\"RNDR4\",\"NDPK6\"],[\"DCTPD\",\"RNDR4\",\"AGDC\"],[\"DCTPD\",\"G6PDH2r\",\"RNDR4\"],[\"DCTPD\",\"NADTRHD\",\"RNDR4\"],[\"TRDR\",\"RNDR4\",\"DCTPD\"],[\"DCTPD\",\"RNDR4\",\"AMPTASECG\"],[\"RNDR4\",\"NDPK6\",\"TRDRf\"],[\"RNDR4\",\"NDPK6\",\"PGCD\"],[\"FDH6\",\"PYK\",\"GART\"],[\"FDH6\",\"VALTA\",\"GART\"],[\"GND\",\"GART\",\"PGCD\"],[\"FDH6\",\"CAT\",\"GART\"],[\"PSERT\",\"GND\",\"GART\"],[\"PSERT\",\"G6PDH2r\",\"GART\"],[\"DCTPD\",\"RNDR4\",\"PEPC\"],[\"DCTPD\",\"FNOR\",\"RNDR4\"]],\"legendgroup\":\"\",\"marker\":{\"color\":[0.0105633453406387,0.0105633453431763,0.0105633453406387,0.0105633453431763,0.0105633453431763,0.0105633453418196,0.0105633453431763,0.0105633453431763,0.0105633453418196,0.0105633453418196,0.0105633453418196,0.0105633453431763,0.0274312824626615,0.0105633453406387,0.0274312824673034,0.0274312824626226,0.0105633453418196,0.0105633453431763],\"coloraxis\":\"coloraxis\",\"symbol\":\"circle\"},\"mode\":\"markers\",\"name\":\"\",\"orientation\":\"v\",\"showlegend\":false,\"x\":[0.205740790335179,0.2057401351314285,0.2057404227908388,0.205740351132347,0.2057412338608,0.2057403627313602,0.205740135131575,0.2057399999999736,0.2057412279280656,0.2057404227894657,0.2057405969601984,0.2057405070075386,0.1692384835884912,0.2057416893327474,0.1692377735882789,0.1692368160637909,0.2057412935675262,0.2057411001964859],\"xaxis\":\"x14\",\"y\":[0.0105633453406387,0.0105633453431763,0.0105633453406387,0.0105633453431763,0.0105633453431763,0.0105633453418196,0.0105633453431763,0.0105633453431763,0.0105633453418196,0.0105633453418196,0.0105633453418196,0.0105633453431763,0.0274312824626615,0.0105633453406387,0.0274312824673034,0.0274312824626226,0.0105633453418196,0.0105633453431763],\"yaxis\":\"y14\",\"type\":\"scatter\"},{\"hovertemplate\":\"<b>%{hovertext}</b><br><br>C_limit=9<br>N_of_deletions=4<br>Flux=%{x}<br>Biomass=%{marker.color}<extra></extra>\",\"hovertext\":[[\"PPA\",\"GART\",\"FDH6\",\"PGCD\"],[\"GART\",\"FDH6\",\"PGCD\",\"GLUSfx\"],[\"TRDR\",\"PSP_L\",\"FDH6\",\"GART\"],[\"FDH6\",\"AMPTASECG\",\"PGCD\",\"GART\"],[\"FBA\",\"GART\",\"PEPC\",\"FDH6\"],[\"NADTRHD\",\"FDH6\",\"AGDC\",\"GART\"],[\"PSERT\",\"GART\",\"FDH6\",\"FBA\"],[\"FBA3\",\"NADTRHD\",\"FDH6\",\"GART\"],[\"PSERT\",\"FDH6\",\"VPAMTr\",\"GART\"],[\"GART\",\"PEPC\",\"FDH6\",\"PGCD\"],[\"PPA\",\"GART\",\"FDH6\",\"PGL\"],[\"PSERT\",\"FDH6\",\"ACGAMK\",\"GART\"],[\"HEX7\",\"GART\",\"PEPC\",\"FDH6\"],[\"GLCS3\",\"GART\",\"FDH6\",\"SBP\"],[\"GART\",\"FDH6\",\"AGDC\",\"PYK\"],[\"GLCS3\",\"FDH6\",\"ACGAMK\",\"GART\"],[\"GART\",\"FDH6\",\"AMPTASECG\",\"PGCD\"],[\"NADTRHD\",\"GART\",\"FDH6\",\"SBP\"],[\"GART\",\"TALA\",\"FDH6\",\"GND\"],[\"FDH6\",\"GART\",\"PEPC\",\"TRDRf\"],[\"DCTPD\",\"PSP_L\",\"RNDR4\",\"DCTPD2\"],[\"AMPTASECG\",\"RNDR4\",\"PEPC\",\"DCTPD\"],[\"DCTPD\",\"FNOR\",\"RNDR4\",\"PGL\"],[\"DCTPD\",\"PPA\",\"TALA\",\"RNDR4\"],[\"DCTPD\",\"GND\",\"RNDR4\",\"ACGAMK\"],[\"DCTPD\",\"RNDR4\",\"CAT\",\"ME2\"],[\"DCTPD\",\"TALA\",\"RNDR4\",\"AGTi\"],[\"DCTPD\",\"FBP\",\"PSP_L\",\"RNDR4\"],[\"GND\",\"RNDR4\",\"NDPK6\",\"AGDC\"],[\"RNDR4\",\"NDPK6\",\"PYK\",\"LALGP\"],[\"RNDR4\",\"NDPK6\",\"SBP\",\"TRPS2\"],[\"DCTPD\",\"RNDR4\",\"SBP\",\"GLUSfx\"],[\"DCTPD\",\"NADTRHD\",\"RNDR4\",\"PEPC\"],[\"FNOR\",\"RNDR4\",\"NDPK6\",\"PDH\"],[\"DCTPD\",\"RNDR4\",\"ACODA\",\"PGCD\"],[\"PSERT\",\"RNDR4\",\"VPAMTr\",\"NDPK6\"],[\"PPA\",\"RNDR4\",\"NDPK6\",\"VPAMTr\"],[\"DMPPS_syn\",\"RNDR4\",\"ACGS\",\"DCTPD\"],[\"DMPPS_syn\",\"GART\",\"FDH6\",\"GLUSfx\"],[\"DMPPS_syn\",\"RNDR4\",\"NDPK6\",\"ORNTAC\"],[\"FNOR\",\"TALA\",\"RNDR4\",\"NDPK6\"],[\"FNOR\",\"RNDR4\",\"NDPK6\",\"AGDC\"],[\"FNOR\",\"RNDR4\",\"FBA\",\"NDPK6\"]],\"legendgroup\":\"\",\"marker\":{\"color\":[0.0105633453333915,0.0105633453431763,0.0105633453406387,0.0105633453406387,0.0105633453431763,0.0105633453431763,0.0105633453431763,0.0105633453431763,0.0105633453431763,0.0105633453431763,0.0105633453431763,0.0105633453431763,0.0105633453431763,0.0105633453418196,0.0105633453431763,0.0105633453312017,0.0105633453418196,0.0105633453431763,0.0105633453418196,0.0105633453431763,0.0105633453418196,0.0105633453418196,0.0105633453431763,0.0105633453418196,0.0105633453333915,0.0105633453431763,0.0105633453431763,0.0105633453431763,0.0105633453431763,0.0105633453431763,0.0105633453431763,0.0105633453418196,0.0105633453431763,0.0105633453431763,0.0105633453418196,0.0105633453406387,0.0105633453431763,0.0105633453431763,0.0105633453418196,0.0105633453431763,0.0105633453431763,0.0105633453418196,0.0105633453431763],\"coloraxis\":\"coloraxis\",\"symbol\":\"circle\"},\"mode\":\"markers\",\"name\":\"\",\"orientation\":\"v\",\"showlegend\":false,\"x\":[0.2057412935874785,0.2057400000000955,0.205741630597889,0.2057403687385788,0.2057411633189388,0.2057399999995959,0.2057399999999087,0.2057400000018872,0.2057407628130362,0.2057423913141611,0.2057405621054764,0.2057411001981831,0.2057407362838905,0.205740736281112,0.2057401351315952,0.2057417312507485,0.2057411686321357,0.2057407754523776,0.2057411909852445,0.2057405832656764,0.2057405969647001,0.2057413576820721,0.2057411001969187,0.2057413147328686,0.205741314747871,0.2057403687312655,0.2057399999997175,0.2057411001964559,0.2057413233223444,0.2057409043099666,0.2057409656953924,0.205741134767816,0.2057399999999993,0.2057403687310166,0.2057418359859477,0.205741263051535,0.2057414033484043,0.2057411802275147,0.2057405969595982,0.205740736280788,0.2057412450317355,0.2057407314679318,0.2057400000000333],\"xaxis\":\"x15\",\"y\":[0.0105633453333915,0.0105633453431763,0.0105633453406387,0.0105633453406387,0.0105633453431763,0.0105633453431763,0.0105633453431763,0.0105633453431763,0.0105633453431763,0.0105633453431763,0.0105633453431763,0.0105633453431763,0.0105633453431763,0.0105633453418196,0.0105633453431763,0.0105633453312017,0.0105633453418196,0.0105633453431763,0.0105633453418196,0.0105633453431763,0.0105633453418196,0.0105633453418196,0.0105633453431763,0.0105633453418196,0.0105633453333915,0.0105633453431763,0.0105633453431763,0.0105633453431763,0.0105633453431763,0.0105633453431763,0.0105633453431763,0.0105633453418196,0.0105633453431763,0.0105633453431763,0.0105633453418196,0.0105633453406387,0.0105633453431763,0.0105633453431763,0.0105633453418196,0.0105633453431763,0.0105633453431763,0.0105633453418196,0.0105633453431763],\"yaxis\":\"y15\",\"type\":\"scatter\"},{\"hovertemplate\":\"<b>%{hovertext}</b><br><br>C_limit=9<br>N_of_deletions=5<br>Flux=%{x}<br>Biomass=%{marker.color}<extra></extra>\",\"hovertext\":[[\"FDH6\",\"GART\",\"G6PDH2r\",\"AGTi\",\"FBP\"],[\"FDH6\",\"GART\",\"LALGP\",\"HEX7\",\"GND\"],[\"NADTRHD\",\"FDH6\",\"GART\",\"PYK\",\"TRDRf\"],[\"FDH6\",\"PEPC\",\"GART\",\"PGCD\",\"AMPTASECG\"],[\"FDH6\",\"GART\",\"IPDPS\",\"ME2\",\"FBA3\"],[\"PSERT\",\"GART\",\"FDH6\",\"LALGP\",\"GND\"],[\"FDH6\",\"GART\",\"TRDR\",\"VALTA\",\"G6PDH2r\"],[\"NADTRHD\",\"FDH6\",\"GART\",\"FBA3\",\"ADPGDP\"],[\"PSERT\",\"FDH6\",\"ACGAMK\",\"GART\",\"AMPTASECG\"],[\"FDH6\",\"GART\",\"SBP\",\"LDH_D\",\"PSP_L\"],[\"PSERT\",\"NDPK6\",\"ORNTAC\",\"DMPPS_syn\",\"RNDR4\"],[\"TALA\",\"GART\",\"NDPK6\",\"AGTi\",\"RNDR4\"],[\"NDPK6\",\"GLCS3\",\"ACODA\",\"GTHS\",\"RNDR4\"],[\"NDPK6\",\"FBP\",\"GTHS\",\"FNOR\",\"RNDR4\"],[\"NDPK6\",\"GLCS3\",\"GND\",\"FNOR\",\"RNDR4\"]],\"legendgroup\":\"\",\"marker\":{\"color\":[0.0105633453431763,0.0105633453406387,0.0105633453418196,0.0105633453431763,0.0105633453418196,0.0105633453418196,0.0105633453431763,0.0105633453431763,0.0105633453418196,0.0105633453418196,0.0105633453418196,0.0105633453431763,0.0105633453431763,0.0105633453333915,0.0105633453418196],\"coloraxis\":\"coloraxis\",\"symbol\":\"circle\"},\"mode\":\"markers\",\"name\":\"\",\"orientation\":\"v\",\"showlegend\":false,\"x\":[0.2057403124495558,0.2057403973040065,0.2057411686321596,0.2057413441228683,0.2057408697377581,0.2057412545307931,0.2057399999998611,0.2057411802277785,0.2057412226888308,0.2057412935705113,0.2057405572990462,0.2057403687311748,0.2057422027582514,0.2057417852991413,0.2057406797841068],\"xaxis\":\"x16\",\"y\":[0.0105633453431763,0.0105633453406387,0.0105633453418196,0.0105633453431763,0.0105633453418196,0.0105633453418196,0.0105633453431763,0.0105633453431763,0.0105633453418196,0.0105633453418196,0.0105633453418196,0.0105633453431763,0.0105633453431763,0.0105633453333915,0.0105633453418196],\"yaxis\":\"y16\",\"type\":\"scatter\"},{\"hovertemplate\":\"<b>%{hovertext}</b><br><br>C_limit=10<br>N_of_deletions=3<br>Flux=%{x}<br>Biomass=%{marker.color}<extra></extra>\",\"hovertext\":[[\"RNDR4\",\"NDPK6\",\"ACGS\"],[\"FNOR\",\"RNDR4\",\"NDPK6\"],[\"FBA\",\"RNDR4\",\"NDPK6\"],[\"DMPPS_syn\",\"FDH6\",\"GART\"],[\"RNDR4\",\"NDPK6\",\"SBP\"],[\"GART\",\"FDH6\",\"GLUSfx\"],[\"RNDR4\",\"NDPK6\",\"GLUSfx\"],[\"PSP_L\",\"RNDR4\",\"NDPK6\"],[\"FDH6\",\"AGDC\",\"GART\"],[\"RNDR4\",\"NDPK6\",\"PGL\"],[\"DCTPD\",\"RNDR4\",\"AGDC\"],[\"DCTPD\",\"G6PDH2r\",\"RNDR4\"],[\"DCTPD\",\"RNDR4\",\"FBA\"],[\"DCTPD\",\"RNDR4\",\"GLYCOR_nadp\"],[\"DCTPD\",\"FNOR\",\"RNDR4\"],[\"DCTPD\",\"TALA\",\"RNDR4\"],[\"DCTPD\",\"PSP_L\",\"RNDR4\"],[\"DCTPD\",\"RNDR4\",\"GLUSfx\"],[\"DCTPD\",\"RNDR4\",\"FUM\"],[\"DCTPD\",\"RNDR4\",\"ALAD_L\"],[\"GART\",\"PEPC\",\"FDH6\"],[\"DCTPD\",\"RNDR4\",\"PEPC\"],[\"DCTPD\",\"RNDR4\",\"FBA\"],[\"GTHPi\",\"FDH6\",\"GART\"],[\"DCTPD\",\"RNDR4\",\"AMPTASECG\"],[\"DCTPD\",\"PPA\",\"RNDR4\"],[\"DCTPD\",\"RNDR4\",\"SBP\"],[\"DCTPD\",\"RNDR4\",\"ALAGLUE\"],[\"DCTPD\",\"FBP\",\"RNDR4\"],[\"FDH6\",\"PPKr\",\"GART\"],[\"PPA\",\"RNDR4\",\"NDPK6\"]],\"legendgroup\":\"\",\"marker\":{\"color\":[0.0105633453431763,0.0105633453431763,0.0105633453431763,0.0105633453418196,0.0105633453431763,0.0105633453406387,0.0105633453418196,0.0105633453431763,0.0105633453406387,0.0105633453431763,0.0105633453431763,0.0105633453431763,0.0105633453312017,0.0105633453431763,0.0105633453431763,0.0105633453418196,0.0105633453431763,0.0105633453418196,0.0105633453406387,0.0105633453431763,0.0105633453431763,0.0105633453431763,0.0105633453431763,0.0105633453418196,0.0105633453418196,0.0105633453431763,0.0105633453431763,0.0105633453431763,0.0105633453431763,0.0105633453431763,0.0105633453418196],\"coloraxis\":\"coloraxis\",\"symbol\":\"circle\"},\"mode\":\"markers\",\"name\":\"\",\"orientation\":\"v\",\"showlegend\":false,\"x\":[0.2057409248419642,0.205741293567169,0.2057411001927911,0.2057412338584628,0.205740542905829,0.2057410689145061,0.2057405969649495,0.205739999999936,0.2057404227913017,0.2057408591946977,0.205741314728215,0.2057417312291715,0.205740911657688,0.2057404227838127,0.2057413571874315,0.20574079152331,0.2057412622757518,0.2057409884594306,0.2043545153376939,0.2057414165493217,0.2057410253939264,0.2057407574374864,0.2057405832656772,0.2057407362863768,0.2057414564240951,0.2057410048710227,0.2057409459933979,0.2057413735986741,0.2057413147248546,0.2057413735937669,0.2057409248423268],\"xaxis\":\"x10\",\"y\":[0.0105633453431763,0.0105633453431763,0.0105633453431763,0.0105633453418196,0.0105633453431763,0.0105633453406387,0.0105633453418196,0.0105633453431763,0.0105633453406387,0.0105633453431763,0.0105633453431763,0.0105633453431763,0.0105633453312017,0.0105633453431763,0.0105633453431763,0.0105633453418196,0.0105633453431763,0.0105633453418196,0.0105633453406387,0.0105633453431763,0.0105633453431763,0.0105633453431763,0.0105633453431763,0.0105633453418196,0.0105633453418196,0.0105633453431763,0.0105633453431763,0.0105633453431763,0.0105633453431763,0.0105633453431763,0.0105633453418196],\"yaxis\":\"y10\",\"type\":\"scatter\"},{\"hovertemplate\":\"<b>%{hovertext}</b><br><br>C_limit=10<br>N_of_deletions=4<br>Flux=%{x}<br>Biomass=%{marker.color}<extra></extra>\",\"hovertext\":[[\"DCTPD\",\"PPA\",\"GLCS3\",\"RNDR4\"],[\"RNDR4\",\"NDPK6\",\"ANS\",\"FDH6\"],[\"AMPTASECG\",\"RNDR4\",\"NDPK6\",\"PPKr\"],[\"GLYCOX2\",\"G6PDH2r\",\"RNDR4\",\"NDPK6\"],[\"ACGAMK\",\"RNDR4\",\"NDPK6\",\"VPAMTr\"],[\"DCTPD\",\"TALA\",\"RNDR4\",\"GLUSfx\"],[\"AMPTASECG\",\"RNDR4\",\"NDPK6\",\"AGDC\"],[\"DCTPD\",\"GLCS3\",\"TALA\",\"RNDR4\"],[\"FBA\",\"RNDR4\",\"NDPK6\",\"AGDC\"],[\"FNOR\",\"RNDR4\",\"NDPK6\",\"PGL\"],[\"DCTPD\",\"G6PDH2r\",\"RNDR4\",\"TRDRf\"],[\"DCTPD\",\"ACKr\",\"RNDR4\",\"LALGP\"],[\"FNOR\",\"RNDR4\",\"NDPK6\",\"PYK\"],[\"FNOR\",\"RNDR4\",\"NDPK6\",\"PGL\"],[\"DCTPD\",\"GLYCOX2\",\"RNDR4\",\"ACGAMK\"],[\"AMPTASECG\",\"PSERT\",\"RNDR4\",\"NDPK6\"],[\"GND\",\"RNDR4\",\"NDPK6\",\"GLUSfx\"],[\"DCTPD\",\"FBP\",\"RNDR4\",\"VALTA\"],[\"DCTPD\",\"FBP\",\"RNDR4\",\"TRDR\"],[\"PSERT\",\"G6PDH2r\",\"VALTA\",\"ALAD_L\"],[\"G6PDH2r\",\"VALTA\",\"ALAD_L\",\"PGCD\"],[\"G6PDH2r\",\"PSP_L\",\"VALTA\",\"ALAD_L\"],[\"GND\",\"VALTA\",\"ALAD_L\",\"PGCD\"],[\"PSERT\",\"GND\",\"VALTA\",\"ALAD_L\"],[\"PSP_L\",\"VALTA\",\"ALAD_L\",\"GND\"],[\"PSP_L\",\"ALAD_L\",\"AGDC\",\"GND\"],[\"GND\",\"G6PDH2r\",\"ALAD_L\",\"PGCD\"],[\"G6PDH2r\",\"VPAMTr\",\"PSP_L\",\"ALAD_L\"],[\"GND\",\"ALAD_L\",\"AGDC\",\"PGCD\"],[\"DCTPD\",\"RNDR4\",\"ALAD_L\",\"ME2\"],[\"AGTi\",\"RNDR4\",\"NDPK6\",\"PGL\"],[\"RNDR4\",\"PEPC\",\"PYK\",\"NDPK6\"],[\"DCTPD\",\"G6PDH2r\",\"RNDR4\",\"PYK\"],[\"RNDR4\",\"NDPK6\",\"AGDC\",\"ME2\"],[\"DCTPD\",\"PPA\",\"RNDR4\",\"AGDC\"],[\"DCTPD\",\"RNDR4\",\"PGL\",\"PGCD\"],[\"FBA3\",\"PSERT\",\"RNDR4\",\"NDPK6\"],[\"G6PDH2r\",\"VALTA\",\"ALAD_L\",\"PGCD\"],[\"PSP_L\",\"VALTA\",\"ALAD_L\",\"GND\"],[\"PSERT\",\"G6PDH2r\",\"VALTA\",\"ALAD_L\"],[\"G6PDH2r\",\"PSP_L\",\"VALTA\",\"ALAD_L\"],[\"GAPD\",\"RNDR4\",\"NDPK6\",\"ACODA\"],[\"RNDR4\",\"NDPK6\",\"SBP\",\"IPDPS\"],[\"DCTPD\",\"FBP\",\"RNDR4\",\"PGCD\"]],\"legendgroup\":\"\",\"marker\":{\"color\":[0.0105633453418196,0.0105633453431763,0.0105633453431763,0.0105633453431763,0.0105633453431763,0.0105633453418196,0.0105633453431763,0.0105633453431763,0.0105633453431763,0.0105633453406387,0.0105633453312017,0.0105633453431763,0.0105633453431763,0.0105633453431763,0.0105633453418196,0.0105633453418196,0.0105633453406387,0.0105633453406387,0.0105633453431763,0.0149660747723565,0.0149660747723492,0.0149660747723565,0.0149660747723656,0.014966074772356,0.0149660747723747,0.0180166847321643,0.0180166847321721,0.0180166847321582,0.0180166847321926,0.0105633453418196,0.0105633453431763,0.0105633453406387,0.0105633453406387,0.0105633453418196,0.0105633453418196,0.0105633453431763,0.0105633453431763,0.0149660747722225,0.0149660747739218,0.0149660747723565,0.0149660747752254,0.0105633453431763,0.0105633453312017,0.0105633453418196],\"coloraxis\":\"coloraxis\",\"symbol\":\"circle\"},\"mode\":\"markers\",\"name\":\"\",\"orientation\":\"v\",\"showlegend\":false,\"x\":[0.2057409884566109,0.2057404227867551,0.2057399999999999,0.2057406797869581,0.2057399999999999,0.2057412935732663,0.2057399999997978,0.2057405832656801,0.2057401351314209,0.2057405832713616,0.2057400540784079,0.2057416893312382,0.2057405832654283,0.2057421767758885,0.205740791520688,0.2057414372192934,0.2057415505692993,0.2057405969661679,0.2057413147256701,0.1962126321990658,0.1962143365805749,0.1962149479455449,0.1962142225989222,0.196214233284712,0.1962139424930073,0.1896125745351772,0.1896111833268024,0.1896123008197126,0.1896113421007942,0.2057411001932342,0.2057399999999982,0.2057409656975577,0.2057404227969262,0.2057412819744214,0.2057416993873267,0.2057419834054653,0.2057410611524456,0.1962121097835723,0.1962141160345998,0.1962129555427741,0.1962149566462308,0.2057407574355959,0.2057413683817431,0.2057410596898871],\"xaxis\":\"x11\",\"y\":[0.0105633453418196,0.0105633453431763,0.0105633453431763,0.0105633453431763,0.0105633453431763,0.0105633453418196,0.0105633453431763,0.0105633453431763,0.0105633453431763,0.0105633453406387,0.0105633453312017,0.0105633453431763,0.0105633453431763,0.0105633453431763,0.0105633453418196,0.0105633453418196,0.0105633453406387,0.0105633453406387,0.0105633453431763,0.0149660747723565,0.0149660747723492,0.0149660747723565,0.0149660747723656,0.014966074772356,0.0149660747723747,0.0180166847321643,0.0180166847321721,0.0180166847321582,0.0180166847321926,0.0105633453418196,0.0105633453431763,0.0105633453406387,0.0105633453406387,0.0105633453418196,0.0105633453418196,0.0105633453431763,0.0105633453431763,0.0149660747722225,0.0149660747739218,0.0149660747723565,0.0149660747752254,0.0105633453431763,0.0105633453312017,0.0105633453418196],\"yaxis\":\"y11\",\"type\":\"scatter\"},{\"hovertemplate\":\"<b>%{hovertext}</b><br><br>C_limit=10<br>N_of_deletions=5<br>Flux=%{x}<br>Biomass=%{marker.color}<extra></extra>\",\"hovertext\":[[\"TALA\",\"LALGP\",\"GND\",\"DCTPD\",\"RNDR4\"],[\"NDPK6\",\"LALGP\",\"ME2\",\"RNDR4\",\"AMPTASECG\"],[\"PSERT\",\"GART\",\"ALAD_L\",\"VALTA\",\"GND\"],[\"GART\",\"ALAD_L\",\"PGCD\",\"VALTA\",\"GND\"],[\"GART\",\"ALAD_L\",\"VALTA\",\"GND\",\"PSP_L\"],[\"GART\",\"ALAD_L\",\"VALTA\",\"G6PDH2r\",\"PSP_L\"],[\"PSERT\",\"GART\",\"ALAD_L\",\"VALTA\",\"G6PDH2r\"],[\"GART\",\"ALAD_L\",\"PGCD\",\"VALTA\",\"G6PDH2r\"],[\"LALGP\",\"VPAMTr\",\"GTHS\",\"DCTPD\",\"RNDR4\"],[\"NDPK6\",\"PGCD\",\"GLUSfx\",\"PSP_L\",\"RNDR4\"],[\"IPDDI\",\"GTHS\",\"DCTPD\",\"PSP_L\",\"RNDR4\"],[\"NADTRHD\",\"VPAMTr\",\"AGDC\",\"DCTPD\",\"RNDR4\"],[\"GLYDHDA\",\"SBP\",\"PYK\",\"DCTPD\",\"RNDR4\"],[\"NDPK6\",\"AGDC\",\"FBA\",\"PSP_L\",\"RNDR4\"],[\"TALA\",\"IPDPS\",\"ADPGDP\",\"DCTPD\",\"RNDR4\"]],\"legendgroup\":\"\",\"marker\":{\"color\":[0.0105633453431763,0.0105633453431763,0.0149202510984627,0.0149202510880468,0.0149202510984643,0.0149202498254167,0.0149202510984536,0.014920251098473,0.0105633453431763,0.0105633453418196,0.0105633453431763,0.0105633453431763,0.0105633453431763,0.0105633453418196,0.0105633453431763],\"coloraxis\":\"coloraxis\",\"symbol\":\"circle\"},\"mode\":\"markers\",\"name\":\"\",\"orientation\":\"v\",\"showlegend\":false,\"x\":[0.2057423913161322,0.2057415505599056,0.1963128272139966,0.1963123373930887,0.1963126401936193,0.1963119914350576,0.1963118852073858,0.1963126172119085,0.2057400000003672,0.2057407766512782,0.2057410336341921,0.2057409308366237,0.2057399999999231,0.2057409116434989,0.2057411255408875],\"xaxis\":\"x12\",\"y\":[0.0105633453431763,0.0105633453431763,0.0149202510984627,0.0149202510880468,0.0149202510984643,0.0149202498254167,0.0149202510984536,0.014920251098473,0.0105633453431763,0.0105633453418196,0.0105633453431763,0.0105633453431763,0.0105633453431763,0.0105633453418196,0.0105633453431763],\"yaxis\":\"y12\",\"type\":\"scatter\"},{\"hovertemplate\":\"<b>%{hovertext}</b><br><br>C_limit=11<br>N_of_deletions=2<br>Flux=%{x}<br>Biomass=%{marker.color}<extra></extra>\",\"hovertext\":[[\"RNDR4\",\"NDPK6\"],[\"FDH6\",\"GART\"],[\"PSERT\",\"PGL\"],[\"PGL\",\"PGCD\"],[\"PSP_L\",\"GND\"],[\"PSERT\",\"PGL\"],[\"G6PDH2r\",\"PSP_L\"],[\"PSERT\",\"G6PDH2r\"],[\"PSERT\",\"GND\"]],\"legendgroup\":\"\",\"marker\":{\"color\":[0.0105633453431763,0.0105633453431763,0.0275865747100388,0.0275865747026237,0.0275865728836807,0.0275865746990564,0.0275865747026492,0.0275865747026343,0.0275865747026593],\"coloraxis\":\"coloraxis\",\"symbol\":\"circle\"},\"mode\":\"markers\",\"name\":\"\",\"orientation\":\"v\",\"showlegend\":false,\"x\":[0.2057401351308712,0.2057399999999056,0.1689020688048232,0.1689012109151906,0.1689015677526615,0.1689015638242056,0.1689002479597939,0.1689009191105553,0.1689002479597826],\"xaxis\":\"x5\",\"y\":[0.0105633453431763,0.0105633453431763,0.0275865747100388,0.0275865747026237,0.0275865728836807,0.0275865746990564,0.0275865747026492,0.0275865747026343,0.0275865747026593],\"yaxis\":\"y5\",\"type\":\"scatter\"},{\"hovertemplate\":\"<b>%{hovertext}</b><br><br>C_limit=11<br>N_of_deletions=3<br>Flux=%{x}<br>Biomass=%{marker.color}<extra></extra>\",\"hovertext\":[[\"DCTPD\",\"RNDR4\",\"ANHMK\"],[\"DCTPD\",\"FNOR\",\"RNDR4\"],[\"FNOR\",\"RNDR4\",\"NDPK6\"],[\"AMPTASECG\",\"RNDR4\",\"NDPK6\"],[\"RNDR4\",\"NDPK6\",\"ACM6PH\"],[\"DCTPD\",\"RNDR4\",\"ALAD_L\"],[\"RNDR4\",\"NDPK6\",\"TRPS1\"],[\"DCTPD\",\"RNDR4\",\"PGL\"],[\"DCTPD\",\"RNDR4\",\"ACM6PH\"],[\"DCTPD\",\"RNDR4\",\"ME2\"],[\"DCTPD\",\"RNDR4\",\"FBA\"],[\"RNDR4\",\"NDPK6\",\"ACM6PH\"],[\"DCTPD\",\"RNDR4\",\"PGL\"],[\"FDH6\",\"CAT\",\"GART\"],[\"RNDR4\",\"NDPK6\",\"GLUSfx\"],[\"DCTPD\",\"TALA\",\"RNDR4\"],[\"FBA\",\"RNDR4\",\"NDPK6\"],[\"FBA3\",\"RNDR4\",\"NDPK6\"],[\"DCTPD\",\"PPA\",\"RNDR4\"],[\"FDH6\",\"TRPS3\",\"GART\"],[\"RNDR4\",\"NDPK6\",\"AGDC\"],[\"RNDR4\",\"NDPK6\",\"PGL\"],[\"MLTGY4pp\",\"RNDR4\",\"NDPK6\"],[\"GTHPi\",\"RNDR4\",\"NDPK6\"],[\"PEPC\",\"RNDR4\",\"NDPK6\"],[\"RNDR4\",\"NDPK6\",\"ANHMK\"],[\"PSP_L\",\"ACGAMK\",\"GND\"],[\"PSERT\",\"GART\",\"FDH6\"],[\"PSERT\",\"G6PDH2r\",\"ALAD_L\"],[\"FDH6\",\"IPDDI\",\"GART\"],[\"RNDR4\",\"NDPK6\",\"ORNTAC\"],[\"RNDR4\",\"NDPK6\",\"PGL\"],[\"PPA\",\"RNDR4\",\"NDPK6\"],[\"FDH6\",\"VALTA\",\"GART\"],[\"GLUCYS\",\"RNDR4\",\"NDPK6\"],[\"RNDR4\",\"NDPK6\",\"PDH\"],[\"ALAD_L\",\"RNDR4\",\"NDPK6\"],[\"RNDR4\",\"NDPK6\",\"FDH6\"],[\"DMPPS_syn\",\"RNDR4\",\"NDPK6\"]],\"legendgroup\":\"\",\"marker\":{\"color\":[0.0105633453418196,0.0105633453418196,0.0105633453418196,0.0105633453418196,0.0105633453431763,0.0105633453418196,0.0105633453431763,0.0105633453431763,0.0105633453431763,0.0105633453431763,0.0105633453431763,0.0105633453431763,0.0105633453312017,0.0105633453418196,0.0105633453431763,0.0105633453431763,0.0105633453418196,0.0105633453333915,0.0105633453418196,0.0105633453431763,0.0105633453431763,0.0105633453431763,0.0105633453333915,0.0105633453418196,0.0105633453431763,0.0105633453431763,0.0275865745927483,0.0105633452973067,0.0180166847321519,0.0105633453431763,0.0105633453431763,0.0105633453431763,0.0105633453431763,0.0105633453431763,0.0105633453431763,0.0105633453418196,0.0105633453431763,0.0105633453431763,0.0105633453431763],\"coloraxis\":\"coloraxis\",\"symbol\":\"circle\"},\"mode\":\"markers\",\"name\":\"\",\"orientation\":\"v\",\"showlegend\":false,\"x\":[0.205741100198231,0.2057415505650562,0.2057412935734043,0.2057408372628601,0.2057401351315952,0.2057405969647451,0.2057399999999806,0.2057405457025458,0.2057404144733937,0.2057406850157555,0.2057409685476382,0.2057399999998778,0.2057409248565638,0.2057405969594308,0.2057410631079951,0.2057401351315953,0.2057408745604952,0.2057407352487892,0.2057410108097035,0.2057406811860449,0.2057401351314283,0.2057401351315957,0.2057412545497154,0.2057413147330701,0.2057399999999999,0.2057399999999999,0.1689017714179412,0.2057421344103572,0.1896122774741046,0.2057408587665252,0.2057399999998867,0.2057401351315951,0.2057413941300894,0.2057405969534194,0.2057411001880398,0.2057411590647591,0.2057399999998335,0.2057405832655165,0.2057411590645524],\"xaxis\":\"x6\",\"y\":[0.0105633453418196,0.0105633453418196,0.0105633453418196,0.0105633453418196,0.0105633453431763,0.0105633453418196,0.0105633453431763,0.0105633453431763,0.0105633453431763,0.0105633453431763,0.0105633453431763,0.0105633453431763,0.0105633453312017,0.0105633453418196,0.0105633453431763,0.0105633453431763,0.0105633453418196,0.0105633453333915,0.0105633453418196,0.0105633453431763,0.0105633453431763,0.0105633453431763,0.0105633453333915,0.0105633453418196,0.0105633453431763,0.0105633453431763,0.0275865745927483,0.0105633452973067,0.0180166847321519,0.0105633453431763,0.0105633453431763,0.0105633453431763,0.0105633453431763,0.0105633453431763,0.0105633453431763,0.0105633453418196,0.0105633453431763,0.0105633453431763,0.0105633453431763],\"yaxis\":\"y6\",\"type\":\"scatter\"},{\"hovertemplate\":\"<b>%{hovertext}</b><br><br>C_limit=11<br>N_of_deletions=4<br>Flux=%{x}<br>Biomass=%{marker.color}<extra></extra>\",\"hovertext\":[[\"PPA\",\"PSP_L\",\"PGL\",\"PYK\"],[\"G6PDH2r\",\"NAD_H2\",\"PSP_L\",\"TALA\"],[\"PSERT\",\"PFK\",\"IPDDI\",\"PGL\"],[\"PSERT\",\"G6PDH2r\",\"PYK\",\"GLUSfx\"],[\"ALAD_L\",\"RNDR4\",\"NDPK6\",\"GLUSfx\"],[\"ACGAMK\",\"RNDR4\",\"NDPK6\",\"VPAMTr\"],[\"FBA\",\"GND\",\"RNDR4\",\"NDPK6\"],[\"FBA\",\"RNDR4\",\"NDPK6\",\"IPDDI\"],[\"NTPP8\",\"RNDR4\",\"NDPK6\",\"ACM6PH\"],[\"RNDR4\",\"NDPK6\",\"IPDPS\",\"GLUSfx\"],[\"GLUCYS\",\"RNDR4\",\"NDPK6\",\"GLYCK\"],[\"ALAD_L\",\"FNOR\",\"RNDR4\",\"NDPK6\"],[\"PSP_L\",\"RNDR4\",\"NDPK6\",\"ACM6PH\"],[\"FBA3\",\"ACGAMK\",\"RNDR4\",\"NDPK6\"],[\"G6PDA\",\"RNDR4\",\"NDPK6\",\"PGCD\"],[\"FBP\",\"RNDR4\",\"NDPK6\",\"PGCD\"],[\"DCTPD\",\"PPA\",\"TALA\",\"RNDR4\"],[\"RNDR4\",\"NDPK6\",\"PYK\",\"GLYCK\"],[\"ACGAMK\",\"RNDR4\",\"NDPK6\",\"OPAH\"],[\"DCTPD\",\"LDH_D\",\"RNDR4\",\"FBA\"],[\"DCTPD\",\"PPA\",\"RNDR4\",\"GLUSfx\"],[\"FBA3\",\"RNDR4\",\"DCTPD\",\"PGCD\"],[\"RNDR4\",\"FBA\",\"PDH\",\"NDPK6\"],[\"DCTPD\",\"TALA\",\"RNDR4\",\"ALAD_L\"],[\"PSP_L\",\"FDH6\",\"AMPTASECG\",\"GART\"],[\"GND\",\"FDH6\",\"AGDC\",\"GART\"],[\"GART\",\"FDH6\",\"PYK\",\"GLUSfx\"],[\"SPTr\",\"RNDR4\",\"AGDC\",\"DCTPD\"],[\"DCTPD\",\"FBP\",\"RNDR4\",\"AGDC\"],[\"DCTPD\",\"GLCS3\",\"RNDR4\",\"ANHMK\"],[\"DCTPD\",\"FBP\",\"RNDR4\",\"ALAD_L\"],[\"DCTPD\",\"RNDR4\",\"ALAGLUE\",\"ACODA\"],[\"FBP\",\"FDH6\",\"TRPS3\",\"GART\"],[\"VPAMTr\",\"FDH6\",\"CAT\",\"GART\"]],\"legendgroup\":\"\",\"marker\":{\"color\":[0.0275865744952038,0.0275865747026163,0.027586574627815,0.027586574702622,0.0105633453431763,0.0105633453431763,0.0105633453431763,0.0105633453431763,0.0105633453431763,0.0105633453406387,0.0105633453418196,0.0105633453418196,0.0105633453431763,0.0105633453418196,0.0105633453418196,0.0105633453431763,0.0105633453418196,0.0105633453312017,0.0105633453418196,0.0105633453418196,0.0105633453431763,0.0105633453431763,0.0105633453418196,0.0105633453431763,0.0105633453431763,0.0105633453431763,0.0105633453431763,0.0105633453418196,0.0105633453418196,0.0105633453431763,0.0105633453406387,0.0105633453431763,0.0105633453431763,0.0105633453431763],\"coloraxis\":\"coloraxis\",\"symbol\":\"circle\"},\"mode\":\"markers\",\"name\":\"\",\"orientation\":\"v\",\"showlegend\":false,\"x\":[0.1689012113640969,0.1689023898060577,0.168900601023009,0.1689012109152287,0.2057405832657089,0.2057400000000044,0.2057399999998141,0.2057408114879274,0.2057400000000621,0.2057407352350192,0.2057409656884683,0.2057411193982261,0.2057400000000115,0.2057403687369595,0.2057413571934513,0.2057405233501097,0.2057419495380769,0.205740135157617,0.2057405969593702,0.2057417312324095,0.2057411590676499,0.2057407314673812,0.205741426121018,0.2057408142842867,0.2057414483925642,0.2057400000000001,0.2057413339269264,0.2057407915229578,0.2057409266552143,0.2057413233178091,0.2057411888190961,0.2057404227889903,0.2057405579212794,0.2057410060509205],\"xaxis\":\"x7\",\"y\":[0.0275865744952038,0.0275865747026163,0.027586574627815,0.027586574702622,0.0105633453431763,0.0105633453431763,0.0105633453431763,0.0105633453431763,0.0105633453431763,0.0105633453406387,0.0105633453418196,0.0105633453418196,0.0105633453431763,0.0105633453418196,0.0105633453418196,0.0105633453431763,0.0105633453418196,0.0105633453312017,0.0105633453418196,0.0105633453418196,0.0105633453431763,0.0105633453431763,0.0105633453418196,0.0105633453431763,0.0105633453431763,0.0105633453431763,0.0105633453431763,0.0105633453418196,0.0105633453418196,0.0105633453431763,0.0105633453406387,0.0105633453431763,0.0105633453431763,0.0105633453431763],\"yaxis\":\"y7\",\"type\":\"scatter\"},{\"hovertemplate\":\"<b>%{hovertext}</b><br><br>C_limit=11<br>N_of_deletions=5<br>Flux=%{x}<br>Biomass=%{marker.color}<extra></extra>\",\"hovertext\":[[\"FDH6\",\"GART\",\"PYK\",\"GND\",\"ASPO5\"],[\"FDH6\",\"GART\",\"ANHMK\",\"PSP_L\",\"AMPTASECG\"],[\"PSERT\",\"FDH6\",\"GART\",\"ANHMK\",\"GND\"],[\"GART\",\"FDH6\",\"PYK\",\"ANHMK\",\"GLUSfx\"],[\"ORNTAC\",\"G6PDH2r\",\"DCTPD\",\"FBP\",\"RNDR4\"],[\"PYK\",\"G6PDH2r\",\"FBA\",\"DCTPD\",\"RNDR4\"],[\"VPAMTr\",\"HEX7\",\"FBA\",\"DCTPD\",\"RNDR4\"],[\"ALAD_L\",\"NDPK6\",\"TRDR\",\"GLUSfx\",\"RNDR4\"]],\"legendgroup\":\"\",\"marker\":{\"color\":[0.0105633453418196,0.0105633453431763,0.0105633453406387,0.0105633453431763,0.0105633453406387,0.0105633453418196,0.0105633453431763,0.0105633453142999],\"coloraxis\":\"coloraxis\",\"symbol\":\"circle\"},\"mode\":\"markers\",\"name\":\"\",\"orientation\":\"v\",\"showlegend\":false,\"x\":[0.2057405969590772,0.2057399999999998,0.2057422027624617,0.2057405551919017,0.2057417753674635,0.2057409656930525,0.2057405429051278,0.2057400000623901],\"xaxis\":\"x8\",\"y\":[0.0105633453418196,0.0105633453431763,0.0105633453406387,0.0105633453431763,0.0105633453406387,0.0105633453418196,0.0105633453431763,0.0105633453142999],\"yaxis\":\"y8\",\"type\":\"scatter\"},{\"hovertemplate\":\"<b>%{hovertext}</b><br><br>C_limit=12<br>N_of_deletions=2<br>Flux=%{x}<br>Biomass=%{marker.color}<extra></extra>\",\"hovertext\":[[\"DCTPD\",\"RNDR4\"]],\"legendgroup\":\"\",\"marker\":{\"color\":[0.0105633453431763],\"coloraxis\":\"coloraxis\",\"symbol\":\"circle\"},\"mode\":\"markers\",\"name\":\"\",\"orientation\":\"v\",\"showlegend\":false,\"x\":[0.2057405832686251],\"xaxis\":\"x\",\"y\":[0.0105633453431763],\"yaxis\":\"y\",\"type\":\"scatter\"},{\"hovertemplate\":\"<b>%{hovertext}</b><br><br>C_limit=12<br>N_of_deletions=3<br>Flux=%{x}<br>Biomass=%{marker.color}<extra></extra>\",\"hovertext\":[[\"RNDR4\",\"NDPK6\",\"PGL\"],[\"RNDR4\",\"NDPK6\",\"TRPS1\"],[\"RNDR4\",\"NDPK6\",\"IPDDI\"],[\"DCTPD\",\"RNDR4\",\"PEPC\"],[\"FBA\",\"RNDR4\",\"NDPK6\"],[\"FBA3\",\"RNDR4\",\"NDPK6\"],[\"RNDR4\",\"NDPK6\",\"GLUSfx\"],[\"DCTPD\",\"NADTRHD\",\"RNDR4\"],[\"RNDR4\",\"ANS\",\"NDPK6\"],[\"DCTPD\",\"RNDR4\",\"PGL\"],[\"DCTPD\",\"RNDR4\",\"PGCD\"],[\"DCTPD\",\"FNOR\",\"RNDR4\"],[\"DCTPD\",\"RNDR4\",\"GTHS\"],[\"DCTPD\",\"NADTRHD\",\"RNDR4\"],[\"DCTPD\",\"RNDR4\",\"PYK\"],[\"DCTPD\",\"RNDR4\",\"PGL\"],[\"DCTPD\",\"PSP_L\",\"RNDR4\"],[\"FBA3\",\"RNDR4\",\"DCTPD\"],[\"DCTPD\",\"RNDR4\",\"FBA\"],[\"DMPPS_syn\",\"RNDR4\",\"DCTPD\"],[\"DCTPD\",\"RNDR4\",\"PPKr\"],[\"DCTPD\",\"RNDR4\",\"PGCD\"],[\"DCTPD\",\"G6PDH2r\",\"RNDR4\"],[\"DCTPD\",\"RNDR4\",\"PYK\"],[\"DCTPD\",\"FBP\",\"RNDR4\"],[\"DCTPD\",\"RNDR4\",\"ACM6PH\"],[\"DCTPD\",\"VPAMTr\",\"RNDR4\"],[\"DCTPD\",\"GLCS3\",\"RNDR4\"],[\"DCTPD\",\"RNDR4\",\"GLUSfx\"]],\"legendgroup\":\"\",\"marker\":{\"color\":[0.0105633453431763,0.0105633453431763,0.0105633453418196,0.0105633453431763,0.0105633453406387,0.0105633453418196,0.0105633453431763,0.0105633453431763,0.0105633453418196,0.0105633453431763,0.0105633453431763,0.0105633453431763,0.0105633453431763,0.0105633453418196,0.0105633453418196,0.0105633453406387,0.0105633453431763,0.0105633453431763,0.0105633453418196,0.0105633453431763,0.0105633453431763,0.0105633453418196,0.0105633453431763,0.0105633452973067,0.0105633453418196,0.0105633453406387,0.0105633453418196,0.0105633453431763,0.0105633453418196],\"coloraxis\":\"coloraxis\",\"symbol\":\"circle\"},\"mode\":\"markers\",\"name\":\"\",\"orientation\":\"v\",\"showlegend\":false,\"x\":[0.2057415007746191,0.205740422783805,0.2057413201109879,0.2057410631162439,0.2057409974728475,0.205740681186502,0.2057409286070181,0.2057419463231469,0.2057419463236023,0.2057409573822912,0.2057400540553157,0.2057405038627702,0.2057401351314449,0.205740965695847,0.2057410108095303,0.2057405969662651,0.2057401351315952,0.2057400000001558,0.2057409656958293,0.2057405038630164,0.2057412756869471,0.20574087455508,0.2057411001911586,0.2057405429998648,0.2057402282276131,0.2057418192263199,0.2057409248422358,0.205741379540146,0.2057405832713292],\"xaxis\":\"x2\",\"y\":[0.0105633453431763,0.0105633453431763,0.0105633453418196,0.0105633453431763,0.0105633453406387,0.0105633453418196,0.0105633453431763,0.0105633453431763,0.0105633453418196,0.0105633453431763,0.0105633453431763,0.0105633453431763,0.0105633453431763,0.0105633453418196,0.0105633453418196,0.0105633453406387,0.0105633453431763,0.0105633453431763,0.0105633453418196,0.0105633453431763,0.0105633453431763,0.0105633453418196,0.0105633453431763,0.0105633452973067,0.0105633453418196,0.0105633453406387,0.0105633453418196,0.0105633453431763,0.0105633453418196],\"yaxis\":\"y2\",\"type\":\"scatter\"},{\"hovertemplate\":\"<b>%{hovertext}</b><br><br>C_limit=12<br>N_of_deletions=4<br>Flux=%{x}<br>Biomass=%{marker.color}<extra></extra>\",\"hovertext\":[[\"SPTr\",\"MDDCP2pp\",\"RNDR4\",\"DCTPD\"],[\"DMPPS_syn\",\"NADTRHD\",\"RNDR4\",\"DCTPD\"],[\"DCTPD\",\"RNDR4\",\"AMPTASECG\",\"GLYCK\"],[\"DCTPD\",\"G6PDH2r\",\"RNDR4\",\"CAT\"],[\"GLYDHDA\",\"RNDR4\",\"DCTPD\",\"ACM6PH\"],[\"DCTPD\",\"GAPD\",\"RNDR4\",\"GLUSfx\"],[\"DCTPD\",\"RNDR4\",\"ACGAMK\",\"PGCD\"],[\"DCTPD\",\"RNDR4\",\"PPKr\",\"OPAH\"],[\"DCTPD\",\"RNDR4\",\"FBA\",\"AGDC\"],[\"DCTPD\",\"FNOR\",\"G6PDH2r\",\"RNDR4\"],[\"PPA\",\"RNDR4\",\"NDPK6\",\"PGCD\"],[\"DCTPD\",\"G6PDH2r\",\"RNDR4\",\"TALA\"],[\"DCTPD\",\"VPAMTr\",\"RNDR4\",\"AGDC\"],[\"DMPPS_syn\",\"FNOR\",\"RNDR4\",\"DCTPD\"],[\"PSP_L\",\"RNDR4\",\"NDPK6\",\"GTHS\"],[\"VALTA\",\"RNDR4\",\"NDPK6\",\"AGDC\"],[\"ACM6PH\",\"RNDR4\",\"DCTPD\",\"PGCD\"],[\"AMPTASECG\",\"TALA\",\"RNDR4\",\"NDPK6\"],[\"DCTPD\",\"PPA\",\"RNDR4\",\"PYK\"],[\"DMPPS_syn\",\"RNDR4\",\"NDPK6\",\"AGDC\"],[\"RNDR4\",\"GND\",\"ANS\",\"DCTPD\"],[\"DCTPD\",\"RNDR4\",\"AMPTASECG\",\"AGDC\"],[\"DCTPD\",\"NADTRHD\",\"TALA\",\"RNDR4\"],[\"DCTPD\",\"FBP\",\"RNDR4\",\"CAT\"],[\"DCTPD\",\"PSP_L\",\"RNDR4\",\"AGDC\"],[\"DCTPD\",\"PSERT\",\"RNDR4\",\"GLUSfx\"],[\"DCTPD\",\"PSERT\",\"RNDR4\",\"AGDC\"],[\"DCTPD\",\"RNDR4\",\"SBP\",\"IPDPS\"],[\"RNDR4\",\"FNOR\",\"ANS\",\"DCTPD\"],[\"DMPPS_syn\",\"VPAMTr\",\"RNDR4\",\"DCTPD\"],[\"RNDR4\",\"NDPK6\",\"GTHRDH\",\"OPAH\"],[\"PEPC\",\"RNDR4\",\"NDPK6\",\"GLYCK\"],[\"RNDR4\",\"NDPK6\",\"SBP\",\"PGL\"],[\"FNOR\",\"G6PDH2r\",\"RNDR4\",\"NDPK6\"],[\"RNDR4\",\"NDPK6\",\"SBP\",\"TRDRf\"],[\"RNDR4\",\"NDPK6\",\"PDH\",\"PPS\"],[\"FNOR\",\"GND\",\"RNDR4\",\"NDPK6\"],[\"TALA\",\"RNDR4\",\"NDPK6\",\"ASPO6\"],[\"NADTRHD\",\"RNDR4\",\"NDPK6\",\"PFK\"]],\"legendgroup\":\"\",\"marker\":{\"color\":[0.0105633453418196,0.0105633453418196,0.0105633453431763,0.0105633453431763,0.0105633453431763,0.0105633453431763,0.0105633453431763,0.0105633453418196,0.0105633453431763,0.0105633453431763,0.0105633453431763,0.0105633453418196,0.0105633453431763,0.0105633453431763,0.0105633453431763,0.0105633453431763,0.0105633453418196,0.0105633453431763,0.0105633453431763,0.0105633453418196,0.0105633453333915,0.0105633453431763,0.0105633453431763,0.0105633453431763,0.0105633453431763,0.0105633453431763,0.0105633453431763,0.0105633453431763,0.0105633453431763,0.0105633453431763,0.0105633453431763,0.0105633453406387,0.0105633453431763,0.0105633453431763,0.0105633453431763,0.0105633453406387,0.0105633453406387,0.0105633453431763,0.0105633453418196],\"coloraxis\":\"coloraxis\",\"symbol\":\"circle\"},\"mode\":\"markers\",\"name\":\"\",\"orientation\":\"v\",\"showlegend\":false,\"x\":[0.2057416305936593,0.2057411393711076,0.2057411050063215,0.205741073170412,0.2057409248414528,0.2057413571870155,0.2057413571931132,0.2057413083728045,0.2057408114910246,0.2057412029960111,0.2057401351320258,0.2057412231795707,0.2057409248411613,0.2057410048675566,0.2057405832657201,0.2057401351329252,0.205740950815652,0.20574,0.2057405579225573,0.2057421767767871,0.2057406373394891,0.2057404227867555,0.2057413147303985,0.2057405832711597,0.2057405969534258,0.205740422792475,0.2057402282249257,0.2057408201474501,0.2057405969531279,0.2057399999998107,0.2057413147221179,0.205740596966265,0.2057410188344912,0.2057399999994739,0.2057409248416321,0.2057407314641229,0.2057405572996775,0.2057405572900389,0.2057404227951834],\"xaxis\":\"x3\",\"y\":[0.0105633453418196,0.0105633453418196,0.0105633453431763,0.0105633453431763,0.0105633453431763,0.0105633453431763,0.0105633453431763,0.0105633453418196,0.0105633453431763,0.0105633453431763,0.0105633453431763,0.0105633453418196,0.0105633453431763,0.0105633453431763,0.0105633453431763,0.0105633453431763,0.0105633453418196,0.0105633453431763,0.0105633453431763,0.0105633453418196,0.0105633453333915,0.0105633453431763,0.0105633453431763,0.0105633453431763,0.0105633453431763,0.0105633453431763,0.0105633453431763,0.0105633453431763,0.0105633453431763,0.0105633453431763,0.0105633453431763,0.0105633453406387,0.0105633453431763,0.0105633453431763,0.0105633453431763,0.0105633453406387,0.0105633453406387,0.0105633453431763,0.0105633453418196],\"yaxis\":\"y3\",\"type\":\"scatter\"},{\"hovertemplate\":\"<b>%{hovertext}</b><br><br>C_limit=12<br>N_of_deletions=5<br>Flux=%{x}<br>Biomass=%{marker.color}<extra></extra>\",\"hovertext\":[[\"FDH6\",\"GART\",\"ANHMK\",\"GGCLUT2\",\"PSP_L\"],[\"FDH6\",\"GART\",\"ORNTAC\",\"AGDC\",\"PSP_L\"],[\"GART\",\"FDH6\",\"PGCD\",\"AGDC\",\"AMPTASECG\"],[\"GART\",\"FDH6\",\"AGDC\",\"G6PDH2r\",\"GLUSfx\"],[\"GART\",\"FDH6\",\"GND\",\"GLUSfx\",\"PSP_L\"],[\"FDH6\",\"GART\",\"PDH\",\"VPAMTr\",\"FBA3\"],[\"FDH6\",\"GART\",\"FBA3\",\"ACGS\",\"ACGAMK\"],[\"PSERT\",\"FDH6\",\"GART\",\"GGCLUT2\",\"AGDC\"],[\"FDH6\",\"GART\",\"HEX7\",\"AGTi\",\"AMPTASECG\"],[\"PSERT\",\"FDH6\",\"GART\",\"AGDC\",\"FBA3\"],[\"TALA\",\"NDPK6\",\"PDH\",\"RNDR4\",\"PGL\"],[\"FDH6\",\"GART\",\"IPDPS\",\"ANHMK\",\"FBP\"],[\"FDH6\",\"GART\",\"CAT\",\"VPAMTr\",\"ACGS\"],[\"FDH6\",\"GART\",\"GGCLUT2\",\"DMPPS_syn\",\"ACGS\"],[\"PSERT\",\"FDH6\",\"GART\",\"SBP\",\"GND\"],[\"FDH6\",\"GART\",\"SBP\",\"GTHPi\",\"DMPPS_syn\"],[\"PSERT\",\"GART\",\"FDH6\",\"DMPPS_syn\",\"GLUSfx\"],[\"FDH6\",\"GART\",\"ANHMK\",\"HEX7\",\"FUM\"],[\"FDH6\",\"GART\",\"DMPPS_syn\",\"PPA\",\"GND\"],[\"GART\",\"FDH6\",\"CAT\",\"PGCD\",\"VALTA\"],[\"PSERT\",\"FDH6\",\"GART\",\"GGCLUT2\",\"MDDEP4pp\"]],\"legendgroup\":\"\",\"marker\":{\"color\":[0.0105633453418196,0.0105633453431763,0.0105633453431763,0.0105633453418196,0.0105633453418196,0.0105633453418196,0.0105633453418196,0.0105633453418196,0.0105633453431763,0.0105633453431763,0.0105633453431763,0.0105633453418196,0.0105633453406387,0.0105633453418196,0.0105633453418196,0.0105633453431763,0.0105633453418196,0.0105633453418196,0.0105633453431763,0.0105633453418196,0.0105633453418196],\"coloraxis\":\"coloraxis\",\"symbol\":\"circle\"},\"mode\":\"markers\",\"name\":\"\",\"orientation\":\"v\",\"showlegend\":false,\"x\":[0.2057405969592106,0.2057405038628514,0.2057405969534668,0.2057409656905451,0.2057409656902518,0.2057411686377962,0.2057409884567542,0.2057421767825808,0.2057411411812197,0.2057409884620381,0.2057411001928694,0.2057412189836086,0.2057417762776349,0.2057408697363291,0.2057413683615842,0.2057407352299859,0.2057413683638489,0.2043543880307362,0.205740671330712,0.2057414272328297,0.2057409497735862],\"xaxis\":\"x4\",\"y\":[0.0105633453418196,0.0105633453431763,0.0105633453431763,0.0105633453418196,0.0105633453418196,0.0105633453418196,0.0105633453418196,0.0105633453418196,0.0105633453431763,0.0105633453431763,0.0105633453431763,0.0105633453418196,0.0105633453406387,0.0105633453418196,0.0105633453418196,0.0105633453431763,0.0105633453418196,0.0105633453418196,0.0105633453431763,0.0105633453418196,0.0105633453418196],\"yaxis\":\"y4\",\"type\":\"scatter\"}],                        {\"template\":{\"data\":{\"bar\":[{\"error_x\":{\"color\":\"#2a3f5f\"},\"error_y\":{\"color\":\"#2a3f5f\"},\"marker\":{\"line\":{\"color\":\"#E5ECF6\",\"width\":0.5},\"pattern\":{\"fillmode\":\"overlay\",\"size\":10,\"solidity\":0.2}},\"type\":\"bar\"}],\"barpolar\":[{\"marker\":{\"line\":{\"color\":\"#E5ECF6\",\"width\":0.5},\"pattern\":{\"fillmode\":\"overlay\",\"size\":10,\"solidity\":0.2}},\"type\":\"barpolar\"}],\"carpet\":[{\"aaxis\":{\"endlinecolor\":\"#2a3f5f\",\"gridcolor\":\"white\",\"linecolor\":\"white\",\"minorgridcolor\":\"white\",\"startlinecolor\":\"#2a3f5f\"},\"baxis\":{\"endlinecolor\":\"#2a3f5f\",\"gridcolor\":\"white\",\"linecolor\":\"white\",\"minorgridcolor\":\"white\",\"startlinecolor\":\"#2a3f5f\"},\"type\":\"carpet\"}],\"choropleth\":[{\"colorbar\":{\"outlinewidth\":0,\"ticks\":\"\"},\"type\":\"choropleth\"}],\"contour\":[{\"colorbar\":{\"outlinewidth\":0,\"ticks\":\"\"},\"colorscale\":[[0.0,\"#0d0887\"],[0.1111111111111111,\"#46039f\"],[0.2222222222222222,\"#7201a8\"],[0.3333333333333333,\"#9c179e\"],[0.4444444444444444,\"#bd3786\"],[0.5555555555555556,\"#d8576b\"],[0.6666666666666666,\"#ed7953\"],[0.7777777777777778,\"#fb9f3a\"],[0.8888888888888888,\"#fdca26\"],[1.0,\"#f0f921\"]],\"type\":\"contour\"}],\"contourcarpet\":[{\"colorbar\":{\"outlinewidth\":0,\"ticks\":\"\"},\"type\":\"contourcarpet\"}],\"heatmap\":[{\"colorbar\":{\"outlinewidth\":0,\"ticks\":\"\"},\"colorscale\":[[0.0,\"#0d0887\"],[0.1111111111111111,\"#46039f\"],[0.2222222222222222,\"#7201a8\"],[0.3333333333333333,\"#9c179e\"],[0.4444444444444444,\"#bd3786\"],[0.5555555555555556,\"#d8576b\"],[0.6666666666666666,\"#ed7953\"],[0.7777777777777778,\"#fb9f3a\"],[0.8888888888888888,\"#fdca26\"],[1.0,\"#f0f921\"]],\"type\":\"heatmap\"}],\"heatmapgl\":[{\"colorbar\":{\"outlinewidth\":0,\"ticks\":\"\"},\"colorscale\":[[0.0,\"#0d0887\"],[0.1111111111111111,\"#46039f\"],[0.2222222222222222,\"#7201a8\"],[0.3333333333333333,\"#9c179e\"],[0.4444444444444444,\"#bd3786\"],[0.5555555555555556,\"#d8576b\"],[0.6666666666666666,\"#ed7953\"],[0.7777777777777778,\"#fb9f3a\"],[0.8888888888888888,\"#fdca26\"],[1.0,\"#f0f921\"]],\"type\":\"heatmapgl\"}],\"histogram\":[{\"marker\":{\"pattern\":{\"fillmode\":\"overlay\",\"size\":10,\"solidity\":0.2}},\"type\":\"histogram\"}],\"histogram2d\":[{\"colorbar\":{\"outlinewidth\":0,\"ticks\":\"\"},\"colorscale\":[[0.0,\"#0d0887\"],[0.1111111111111111,\"#46039f\"],[0.2222222222222222,\"#7201a8\"],[0.3333333333333333,\"#9c179e\"],[0.4444444444444444,\"#bd3786\"],[0.5555555555555556,\"#d8576b\"],[0.6666666666666666,\"#ed7953\"],[0.7777777777777778,\"#fb9f3a\"],[0.8888888888888888,\"#fdca26\"],[1.0,\"#f0f921\"]],\"type\":\"histogram2d\"}],\"histogram2dcontour\":[{\"colorbar\":{\"outlinewidth\":0,\"ticks\":\"\"},\"colorscale\":[[0.0,\"#0d0887\"],[0.1111111111111111,\"#46039f\"],[0.2222222222222222,\"#7201a8\"],[0.3333333333333333,\"#9c179e\"],[0.4444444444444444,\"#bd3786\"],[0.5555555555555556,\"#d8576b\"],[0.6666666666666666,\"#ed7953\"],[0.7777777777777778,\"#fb9f3a\"],[0.8888888888888888,\"#fdca26\"],[1.0,\"#f0f921\"]],\"type\":\"histogram2dcontour\"}],\"mesh3d\":[{\"colorbar\":{\"outlinewidth\":0,\"ticks\":\"\"},\"type\":\"mesh3d\"}],\"parcoords\":[{\"line\":{\"colorbar\":{\"outlinewidth\":0,\"ticks\":\"\"}},\"type\":\"parcoords\"}],\"pie\":[{\"automargin\":true,\"type\":\"pie\"}],\"scatter\":[{\"marker\":{\"colorbar\":{\"outlinewidth\":0,\"ticks\":\"\"}},\"type\":\"scatter\"}],\"scatter3d\":[{\"line\":{\"colorbar\":{\"outlinewidth\":0,\"ticks\":\"\"}},\"marker\":{\"colorbar\":{\"outlinewidth\":0,\"ticks\":\"\"}},\"type\":\"scatter3d\"}],\"scattercarpet\":[{\"marker\":{\"colorbar\":{\"outlinewidth\":0,\"ticks\":\"\"}},\"type\":\"scattercarpet\"}],\"scattergeo\":[{\"marker\":{\"colorbar\":{\"outlinewidth\":0,\"ticks\":\"\"}},\"type\":\"scattergeo\"}],\"scattergl\":[{\"marker\":{\"colorbar\":{\"outlinewidth\":0,\"ticks\":\"\"}},\"type\":\"scattergl\"}],\"scattermapbox\":[{\"marker\":{\"colorbar\":{\"outlinewidth\":0,\"ticks\":\"\"}},\"type\":\"scattermapbox\"}],\"scatterpolar\":[{\"marker\":{\"colorbar\":{\"outlinewidth\":0,\"ticks\":\"\"}},\"type\":\"scatterpolar\"}],\"scatterpolargl\":[{\"marker\":{\"colorbar\":{\"outlinewidth\":0,\"ticks\":\"\"}},\"type\":\"scatterpolargl\"}],\"scatterternary\":[{\"marker\":{\"colorbar\":{\"outlinewidth\":0,\"ticks\":\"\"}},\"type\":\"scatterternary\"}],\"surface\":[{\"colorbar\":{\"outlinewidth\":0,\"ticks\":\"\"},\"colorscale\":[[0.0,\"#0d0887\"],[0.1111111111111111,\"#46039f\"],[0.2222222222222222,\"#7201a8\"],[0.3333333333333333,\"#9c179e\"],[0.4444444444444444,\"#bd3786\"],[0.5555555555555556,\"#d8576b\"],[0.6666666666666666,\"#ed7953\"],[0.7777777777777778,\"#fb9f3a\"],[0.8888888888888888,\"#fdca26\"],[1.0,\"#f0f921\"]],\"type\":\"surface\"}],\"table\":[{\"cells\":{\"fill\":{\"color\":\"#EBF0F8\"},\"line\":{\"color\":\"white\"}},\"header\":{\"fill\":{\"color\":\"#C8D4E3\"},\"line\":{\"color\":\"white\"}},\"type\":\"table\"}]},\"layout\":{\"annotationdefaults\":{\"arrowcolor\":\"#2a3f5f\",\"arrowhead\":0,\"arrowwidth\":1},\"autotypenumbers\":\"strict\",\"coloraxis\":{\"colorbar\":{\"outlinewidth\":0,\"ticks\":\"\"}},\"colorscale\":{\"diverging\":[[0,\"#8e0152\"],[0.1,\"#c51b7d\"],[0.2,\"#de77ae\"],[0.3,\"#f1b6da\"],[0.4,\"#fde0ef\"],[0.5,\"#f7f7f7\"],[0.6,\"#e6f5d0\"],[0.7,\"#b8e186\"],[0.8,\"#7fbc41\"],[0.9,\"#4d9221\"],[1,\"#276419\"]],\"sequential\":[[0.0,\"#0d0887\"],[0.1111111111111111,\"#46039f\"],[0.2222222222222222,\"#7201a8\"],[0.3333333333333333,\"#9c179e\"],[0.4444444444444444,\"#bd3786\"],[0.5555555555555556,\"#d8576b\"],[0.6666666666666666,\"#ed7953\"],[0.7777777777777778,\"#fb9f3a\"],[0.8888888888888888,\"#fdca26\"],[1.0,\"#f0f921\"]],\"sequentialminus\":[[0.0,\"#0d0887\"],[0.1111111111111111,\"#46039f\"],[0.2222222222222222,\"#7201a8\"],[0.3333333333333333,\"#9c179e\"],[0.4444444444444444,\"#bd3786\"],[0.5555555555555556,\"#d8576b\"],[0.6666666666666666,\"#ed7953\"],[0.7777777777777778,\"#fb9f3a\"],[0.8888888888888888,\"#fdca26\"],[1.0,\"#f0f921\"]]},\"colorway\":[\"#636efa\",\"#EF553B\",\"#00cc96\",\"#ab63fa\",\"#FFA15A\",\"#19d3f3\",\"#FF6692\",\"#B6E880\",\"#FF97FF\",\"#FECB52\"],\"font\":{\"color\":\"#2a3f5f\"},\"geo\":{\"bgcolor\":\"white\",\"lakecolor\":\"white\",\"landcolor\":\"#E5ECF6\",\"showlakes\":true,\"showland\":true,\"subunitcolor\":\"white\"},\"hoverlabel\":{\"align\":\"left\"},\"hovermode\":\"closest\",\"mapbox\":{\"style\":\"light\"},\"paper_bgcolor\":\"white\",\"plot_bgcolor\":\"#E5ECF6\",\"polar\":{\"angularaxis\":{\"gridcolor\":\"white\",\"linecolor\":\"white\",\"ticks\":\"\"},\"bgcolor\":\"#E5ECF6\",\"radialaxis\":{\"gridcolor\":\"white\",\"linecolor\":\"white\",\"ticks\":\"\"}},\"scene\":{\"xaxis\":{\"backgroundcolor\":\"#E5ECF6\",\"gridcolor\":\"white\",\"gridwidth\":2,\"linecolor\":\"white\",\"showbackground\":true,\"ticks\":\"\",\"zerolinecolor\":\"white\"},\"yaxis\":{\"backgroundcolor\":\"#E5ECF6\",\"gridcolor\":\"white\",\"gridwidth\":2,\"linecolor\":\"white\",\"showbackground\":true,\"ticks\":\"\",\"zerolinecolor\":\"white\"},\"zaxis\":{\"backgroundcolor\":\"#E5ECF6\",\"gridcolor\":\"white\",\"gridwidth\":2,\"linecolor\":\"white\",\"showbackground\":true,\"ticks\":\"\",\"zerolinecolor\":\"white\"}},\"shapedefaults\":{\"line\":{\"color\":\"#2a3f5f\"}},\"ternary\":{\"aaxis\":{\"gridcolor\":\"white\",\"linecolor\":\"white\",\"ticks\":\"\"},\"baxis\":{\"gridcolor\":\"white\",\"linecolor\":\"white\",\"ticks\":\"\"},\"bgcolor\":\"#E5ECF6\",\"caxis\":{\"gridcolor\":\"white\",\"linecolor\":\"white\",\"ticks\":\"\"}},\"title\":{\"x\":0.05},\"xaxis\":{\"automargin\":true,\"gridcolor\":\"white\",\"linecolor\":\"white\",\"ticks\":\"\",\"title\":{\"standoff\":15},\"zerolinecolor\":\"white\",\"zerolinewidth\":2},\"yaxis\":{\"automargin\":true,\"gridcolor\":\"white\",\"linecolor\":\"white\",\"ticks\":\"\",\"title\":{\"standoff\":15},\"zerolinecolor\":\"white\",\"zerolinewidth\":2}}},\"xaxis\":{\"anchor\":\"y\",\"domain\":[0.0,0.22999999999999998],\"title\":{\"text\":\"Flux\"}},\"yaxis\":{\"anchor\":\"x\",\"domain\":[0.0,0.2275],\"title\":{\"text\":\"Biomass\"}},\"xaxis2\":{\"anchor\":\"y2\",\"domain\":[0.24999999999999997,0.48],\"matches\":\"x\",\"title\":{\"text\":\"Flux\"}},\"yaxis2\":{\"anchor\":\"x2\",\"domain\":[0.0,0.2275],\"matches\":\"y\",\"showticklabels\":false},\"xaxis3\":{\"anchor\":\"y3\",\"domain\":[0.49999999999999994,0.73],\"matches\":\"x\",\"title\":{\"text\":\"Flux\"}},\"yaxis3\":{\"anchor\":\"x3\",\"domain\":[0.0,0.2275],\"matches\":\"y\",\"showticklabels\":false},\"xaxis4\":{\"anchor\":\"y4\",\"domain\":[0.75,0.98],\"matches\":\"x\",\"title\":{\"text\":\"Flux\"}},\"yaxis4\":{\"anchor\":\"x4\",\"domain\":[0.0,0.2275],\"matches\":\"y\",\"showticklabels\":false},\"xaxis5\":{\"anchor\":\"y5\",\"domain\":[0.0,0.22999999999999998],\"matches\":\"x\",\"showticklabels\":false},\"yaxis5\":{\"anchor\":\"x5\",\"domain\":[0.2575,0.485],\"matches\":\"y\",\"title\":{\"text\":\"Biomass\"}},\"xaxis6\":{\"anchor\":\"y6\",\"domain\":[0.24999999999999997,0.48],\"matches\":\"x\",\"showticklabels\":false},\"yaxis6\":{\"anchor\":\"x6\",\"domain\":[0.2575,0.485],\"matches\":\"y\",\"showticklabels\":false},\"xaxis7\":{\"anchor\":\"y7\",\"domain\":[0.49999999999999994,0.73],\"matches\":\"x\",\"showticklabels\":false},\"yaxis7\":{\"anchor\":\"x7\",\"domain\":[0.2575,0.485],\"matches\":\"y\",\"showticklabels\":false},\"xaxis8\":{\"anchor\":\"y8\",\"domain\":[0.75,0.98],\"matches\":\"x\",\"showticklabels\":false},\"yaxis8\":{\"anchor\":\"x8\",\"domain\":[0.2575,0.485],\"matches\":\"y\",\"showticklabels\":false},\"xaxis9\":{\"anchor\":\"y9\",\"domain\":[0.0,0.22999999999999998],\"matches\":\"x\",\"showticklabels\":false},\"yaxis9\":{\"anchor\":\"x9\",\"domain\":[0.515,0.7425],\"matches\":\"y\",\"title\":{\"text\":\"Biomass\"}},\"xaxis10\":{\"anchor\":\"y10\",\"domain\":[0.24999999999999997,0.48],\"matches\":\"x\",\"showticklabels\":false},\"yaxis10\":{\"anchor\":\"x10\",\"domain\":[0.515,0.7425],\"matches\":\"y\",\"showticklabels\":false},\"xaxis11\":{\"anchor\":\"y11\",\"domain\":[0.49999999999999994,0.73],\"matches\":\"x\",\"showticklabels\":false},\"yaxis11\":{\"anchor\":\"x11\",\"domain\":[0.515,0.7425],\"matches\":\"y\",\"showticklabels\":false},\"xaxis12\":{\"anchor\":\"y12\",\"domain\":[0.75,0.98],\"matches\":\"x\",\"showticklabels\":false},\"yaxis12\":{\"anchor\":\"x12\",\"domain\":[0.515,0.7425],\"matches\":\"y\",\"showticklabels\":false},\"xaxis13\":{\"anchor\":\"y13\",\"domain\":[0.0,0.22999999999999998],\"matches\":\"x\",\"showticklabels\":false},\"yaxis13\":{\"anchor\":\"x13\",\"domain\":[0.7725,1.0],\"matches\":\"y\",\"title\":{\"text\":\"Biomass\"}},\"xaxis14\":{\"anchor\":\"y14\",\"domain\":[0.24999999999999997,0.48],\"matches\":\"x\",\"showticklabels\":false},\"yaxis14\":{\"anchor\":\"x14\",\"domain\":[0.7725,1.0],\"matches\":\"y\",\"showticklabels\":false},\"xaxis15\":{\"anchor\":\"y15\",\"domain\":[0.49999999999999994,0.73],\"matches\":\"x\",\"showticklabels\":false},\"yaxis15\":{\"anchor\":\"x15\",\"domain\":[0.7725,1.0],\"matches\":\"y\",\"showticklabels\":false},\"xaxis16\":{\"anchor\":\"y16\",\"domain\":[0.75,0.98],\"matches\":\"x\",\"showticklabels\":false},\"yaxis16\":{\"anchor\":\"x16\",\"domain\":[0.7725,1.0],\"matches\":\"y\",\"showticklabels\":false},\"annotations\":[{\"font\":{},\"showarrow\":false,\"text\":\"dels=2\",\"x\":0.11499999999999999,\"xanchor\":\"center\",\"xref\":\"paper\",\"y\":1.0,\"yanchor\":\"bottom\",\"yref\":\"paper\"},{\"font\":{},\"showarrow\":false,\"text\":\"dels=3\",\"x\":0.365,\"xanchor\":\"center\",\"xref\":\"paper\",\"y\":1.0,\"yanchor\":\"bottom\",\"yref\":\"paper\"},{\"font\":{},\"showarrow\":false,\"text\":\"dels=4\",\"x\":0.615,\"xanchor\":\"center\",\"xref\":\"paper\",\"y\":1.0,\"yanchor\":\"bottom\",\"yref\":\"paper\"},{\"font\":{},\"showarrow\":false,\"text\":\"dels=5\",\"x\":0.865,\"xanchor\":\"center\",\"xref\":\"paper\",\"y\":1.0,\"yanchor\":\"bottom\",\"yref\":\"paper\"},{\"font\":{},\"showarrow\":false,\"text\":\"C_limit=12\",\"textangle\":90,\"x\":0.98,\"xanchor\":\"left\",\"xref\":\"paper\",\"y\":0.11375,\"yanchor\":\"middle\",\"yref\":\"paper\"},{\"font\":{},\"showarrow\":false,\"text\":\"C_limit=11\",\"textangle\":90,\"x\":0.98,\"xanchor\":\"left\",\"xref\":\"paper\",\"y\":0.37124999999999997,\"yanchor\":\"middle\",\"yref\":\"paper\"},{\"font\":{},\"showarrow\":false,\"text\":\"C_limit=10\",\"textangle\":90,\"x\":0.98,\"xanchor\":\"left\",\"xref\":\"paper\",\"y\":0.62875,\"yanchor\":\"middle\",\"yref\":\"paper\"},{\"font\":{},\"showarrow\":false,\"text\":\"C_limit=9\",\"textangle\":90,\"x\":0.98,\"xanchor\":\"left\",\"xref\":\"paper\",\"y\":0.88625,\"yanchor\":\"middle\",\"yref\":\"paper\"}],\"coloraxis\":{\"colorbar\":{\"title\":{\"text\":\"Biomass\"}},\"colorscale\":[[0.0,\"#0d0887\"],[0.1111111111111111,\"#46039f\"],[0.2222222222222222,\"#7201a8\"],[0.3333333333333333,\"#9c179e\"],[0.4444444444444444,\"#bd3786\"],[0.5555555555555556,\"#d8576b\"],[0.6666666666666666,\"#ed7953\"],[0.7777777777777778,\"#fb9f3a\"],[0.8888888888888888,\"#fdca26\"],[1.0,\"#f0f921\"]]},\"legend\":{\"tracegroupgap\":0},\"margin\":{\"t\":60}},                        {\"responsive\": true}                    ).then(function(){\n",
       "                            \n",
       "var gd = document.getElementById('8c8e88b3-8ef0-468a-beb8-180c78e13577');\n",
       "var x = new MutationObserver(function (mutations, observer) {{\n",
       "        var display = window.getComputedStyle(gd).display;\n",
       "        if (!display || display === 'none') {{\n",
       "            console.log([gd, 'removed!']);\n",
       "            Plotly.purge(gd);\n",
       "            observer.disconnect();\n",
       "        }}\n",
       "}});\n",
       "\n",
       "// Listen for the removal of the full notebook cells\n",
       "var notebookContainer = gd.closest('#notebook-container');\n",
       "if (notebookContainer) {{\n",
       "    x.observe(notebookContainer, {childList: true});\n",
       "}}\n",
       "\n",
       "// Listen for the clearing of the current output cell\n",
       "var outputEl = gd.closest('.output');\n",
       "if (outputEl) {{\n",
       "    x.observe(outputEl, {childList: true});\n",
       "}}\n",
       "\n",
       "                        })                };                });            </script>        </div>"
      ]
     },
     "metadata": {},
     "output_type": "display_data"
    }
   ],
   "source": [
    "#Filter out reactions with quasi-null fluxes\n",
    "min_flux = 0.05\n",
    "deletion_list = raw_df.query(\"Flux>=\"+str(min_flux))[\"N_of_deletions\"].unique().tolist()\n",
    "deletion_list.sort()\n",
    "carbon_list = raw_df.query(\"Flux>=\"+str(min_flux))[\"C_limit\"].unique().tolist()\n",
    "carbon_list.sort()\n",
    "\n",
    "fig = px.scatter(raw_df.query(\"Flux>=\"+str(min_flux)),\n",
    "                 x=\"Flux\", y=\"Biomass\", color=\"Biomass\",\n",
    "                 facet_col=\"N_of_deletions\", facet_row=\"C_limit\",hover_name=\"Strategy\",\n",
    "                 category_orders = {\"N_of_deletions\":deletion_list,\n",
    "                                    \"C_limit\":carbon_list})\n",
    "\n",
    "fig.for_each_annotation(lambda a: a.update(text=a.text.replace(\"N_of_deletions\", \"dels\")))\n",
    "\n",
    "fig.show()\n",
    "#save figure:\n",
    "fig.write_image('/'.join([dir_path, project_name, \"optknock_strategies_evaluation_reduced_parameter_space.png\"]))"
   ]
  },
  {
   "cell_type": "code",
   "execution_count": null,
   "id": "722e9ea2",
   "metadata": {
    "scrolled": true
   },
   "outputs": [],
   "source": [
    "flux_limit = max(raw_df.Flux.tolist())*0.95\n",
    "print(flux_limit)\n",
    "biomas_limit = max(raw_df.Biomass.tolist())*minimum_growth_fraction\n",
    "print(biomas_limit)\n",
    "best_ok_df = raw_df.loc[(raw_df['Biomass']>=biomas_limit) & (raw_df['Flux']>=flux_limit)]\n",
    "best_ok = best_ok_df['Strategy'].tolist()\n",
    "print(best_ok)\n",
    "display_KO_candidates_results(configured_model, best_ok, target_biomass, target_reaction, 'cameo', media=None)"
   ]
  },
  {
   "cell_type": "markdown",
   "id": "a2ea08c8",
   "metadata": {},
   "source": [
    "#### If optknock/NSGA-II results are not reproducible using cobrapy, launch the gcFront script:"
   ]
  },
  {
   "cell_type": "code",
   "execution_count": 10,
   "id": "0fd5fdf9",
   "metadata": {},
   "outputs": [],
   "source": [
    "#FIRST: Check reproducibility of Optknock/NSGA-II\n",
    "#implement here check function!!\n",
    "\n",
    "#Second: Generate a file containing basic information of the set up\n",
    "set_up_dict = {'experiment' : [experiment],\n",
    "               'target' : [target_reaction],\n",
    "               'framework' : [framework_name],\n",
    "               'biomass_limit' : [biomas_limit]}\n",
    "\n",
    "set_up_df = pd.DataFrame.from_dict(set_up_dict)\n",
    "set_up_df.to_csv('production_target_tf.csv',index=False)"
   ]
  },
  {
   "cell_type": "code",
   "execution_count": 2,
   "id": "b7695c37",
   "metadata": {},
   "outputs": [
    {
     "data": {
      "text/plain": [
       "0"
      ]
     },
     "execution_count": 2,
     "metadata": {},
     "output_type": "execute_result"
    }
   ],
   "source": [
    "#THIRD: Call bash to launch the GDLS script in the background\n",
    "import subprocess\n",
    "subprocess.call(\"bash launch_gcFront.sh\", shell=True)"
   ]
  }
 ],
 "metadata": {
  "kernelspec": {
   "display_name": "Python 3 (ipykernel)",
   "language": "python",
   "name": "python3"
  },
  "language_info": {
   "codemirror_mode": {
    "name": "ipython",
    "version": 3
   },
   "file_extension": ".py",
   "mimetype": "text/x-python",
   "name": "python",
   "nbconvert_exporter": "python",
   "pygments_lexer": "ipython3",
   "version": "3.9.7"
  }
 },
 "nbformat": 4,
 "nbformat_minor": 5
}
