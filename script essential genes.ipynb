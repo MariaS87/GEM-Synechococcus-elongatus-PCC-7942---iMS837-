{
 "cells": [
  {
   "cell_type": "code",
   "execution_count": 1,
   "metadata": {},
   "outputs": [],
   "source": [
    "from cobra.io.dict import model_from_dict, model_to_dict\n",
    "from cobra.io.json import from_json, load_json_model, save_json_model, to_json\n",
    "from cobra.io.mat import load_matlab_model, save_matlab_model\n",
    "from cobra.io.sbml import read_sbml_model, write_sbml_model, validate_sbml_model\n",
    "from cobra.io.yaml import from_yaml, load_yaml_model, save_yaml_model, to_yaml\n",
    "from cobra.io.web import AbstractModelRepository, BiGGModels, BioModels, load_model"
   ]
  },
  {
   "cell_type": "code",
   "execution_count": 2,
   "metadata": {},
   "outputs": [
    {
     "name": "stdout",
     "output_type": "stream",
     "text": [
      "mini test files: \n",
      "\n"
     ]
    }
   ],
   "source": [
    "from pathlib import Path\n",
    "from cobra.io import load_json_model, save_json_model, load_matlab_model, save_matlab_model, read_sbml_model, write_sbml_model\n",
    "import logging\n",
    "\n",
    "data_dir = Path(\".\") / \"..\" / \"src\" / \"cobra\" / \"data\"\n",
    "data_dir = data_dir.resolve()\n",
    "\n",
    "print(\"mini test files: \")\n",
    "print(\", \".join(str(i) for i in data_dir.glob('mini*.*')))\n",
    "\n",
    "textbook_model = load_model(\"textbook\")\n",
    "ecoli_model = load_model(\"iJO1366\")\n",
    "logging.getLogger(\"cobra.io.sbml\").setLevel(logging.ERROR) # salmonella leads to lots of warnings without this line"
   ]
  },
  {
   "cell_type": "code",
   "execution_count": 6,
   "metadata": {},
   "outputs": [
    {
     "name": "stdout",
     "output_type": "stream",
     "text": [
      "C:\\Users\\santosm7\\Documents\n",
      "\n",
      "887 reactions\n",
      "801 metabolites\n",
      "837 genes\n"
     ]
    }
   ],
   "source": [
    "import cobra\n",
    "from cobra import Reaction, Metabolite, Model\n",
    "from cobra.util.solver import linear_reaction_coefficients\n",
    "from cobra.medium import minimal_medium\n",
    "import os\n",
    "import numpy as np\n",
    "from os.path import join\n",
    "import matplotlib.pyplot as plt\n",
    "\n",
    "# **************MODEL LOADING SECTION*****************\n",
    "# Loading the model\n",
    "# Remember to edit the data_dir path to where the model is located (NOT including the name of the model itself in it\n",
    "data_dir = r\"C:\\Users\\santosm7\\Documents\"\n",
    "# Check data_dir is as expected\n",
    "print(data_dir + \"\\n\")\n",
    "# Load model; so join combines the path and model name for cobra's load method to function properly\n",
    "import cobra\n",
    "from cobra.io import load_json_model, save_json_model, load_matlab_model, save_matlab_model, read_sbml_model, write_sbml_model\n",
    "model = cobra.io.load_json_model(join(data_dir, \"iMS837.json\"))\n",
    "print(f'{len(model.reactions)} reactions')\n",
    "print(f'{len(model.metabolites)} metabolites')\n",
    "print(f'{len(model.genes)} genes')"
   ]
  },
  {
   "cell_type": "code",
   "execution_count": 4,
   "metadata": {},
   "outputs": [],
   "source": [
    "from cobra.flux_analysis import single_gene_deletion"
   ]
  },
  {
   "cell_type": "code",
   "execution_count": 5,
   "metadata": {},
   "outputs": [],
   "source": [
    "data = single_gene_deletion(model, model.genes[1:837])"
   ]
  },
  {
   "cell_type": "code",
   "execution_count": 7,
   "metadata": {},
   "outputs": [],
   "source": [
    "data.to_csv('essential_genes.csv')"
   ]
  },
  {
   "cell_type": "markdown",
   "metadata": {},
   "source": [
    "# Save as a table\n",
    "single_gene_deletion.to_csv('../tables/gene_origin.csv')"
   ]
  }
 ],
 "metadata": {
  "kernelspec": {
   "display_name": "models",
   "language": "python",
   "name": "python3"
  },
  "language_info": {
   "codemirror_mode": {
    "name": "ipython",
    "version": 3
   },
   "file_extension": ".py",
   "mimetype": "text/x-python",
   "name": "python",
   "nbconvert_exporter": "python",
   "pygments_lexer": "ipython3",
   "version": "3.9.12"
  },
  "orig_nbformat": 4,
  "vscode": {
   "interpreter": {
    "hash": "2b45212af59105df41bf23f9300921f167a2c8500f4d887b88341a82d30f06fc"
   }
  }
 },
 "nbformat": 4,
 "nbformat_minor": 2
}
