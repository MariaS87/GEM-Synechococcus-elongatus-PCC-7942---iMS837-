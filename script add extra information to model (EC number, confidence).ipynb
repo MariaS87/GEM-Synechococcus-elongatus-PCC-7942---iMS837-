{
 "cells": [
  {
   "cell_type": "code",
   "execution_count": 1,
   "metadata": {},
   "outputs": [],
   "source": [
    "from cobra.io.dict import model_from_dict, model_to_dict\n",
    "from cobra.io.json import from_json, load_json_model, save_json_model, to_json\n",
    "from cobra.io.mat import load_matlab_model, save_matlab_model\n",
    "from cobra.io.sbml import read_sbml_model, write_sbml_model, validate_sbml_model\n",
    "from cobra.io.yaml import from_yaml, load_yaml_model, save_yaml_model, to_yaml\n",
    "from cobra.io.web import AbstractModelRepository, BiGGModels, BioModels, load_model"
   ]
  },
  {
   "cell_type": "code",
   "execution_count": 2,
   "metadata": {},
   "outputs": [
    {
     "name": "stdout",
     "output_type": "stream",
     "text": [
      "mini test files: \n",
      "\n"
     ]
    }
   ],
   "source": [
    "from pathlib import Path\n",
    "from cobra.io import load_json_model, save_json_model, load_matlab_model, save_matlab_model, read_sbml_model, write_sbml_model\n",
    "import logging\n",
    "\n",
    "data_dir = Path(\".\") / \"..\" / \"src\" / \"cobra\" / \"data\"\n",
    "data_dir = data_dir.resolve()\n",
    "\n",
    "print(\"mini test files: \")\n",
    "print(\", \".join(str(i) for i in data_dir.glob('mini*.*')))\n",
    "\n",
    "textbook_model = load_model(\"textbook\")\n",
    "ecoli_model = load_model(\"iJO1366\")\n",
    "logging.getLogger(\"cobra.io.sbml\").setLevel(logging.ERROR) # salmonella leads to lots of warnings without this line"
   ]
  },
  {
   "cell_type": "markdown",
   "metadata": {},
   "source": [
    "IMPORT MODEL IN .json format"
   ]
  },
  {
   "cell_type": "code",
   "execution_count": 3,
   "metadata": {},
   "outputs": [
    {
     "name": "stdout",
     "output_type": "stream",
     "text": [
      "C:\\Users\\santosm7\\Documents\n",
      "\n",
      "887 reactions\n",
      "801 metabolites\n",
      "837 genes\n"
     ]
    }
   ],
   "source": [
    "import cobra\n",
    "from cobra import Reaction, Metabolite, Model\n",
    "from cobra.util.solver import linear_reaction_coefficients\n",
    "import cobra.test\n",
    "from cobra.medium import minimal_medium\n",
    "import os\n",
    "import numpy as np\n",
    "from os.path import join\n",
    "import matplotlib.pyplot as plt\n",
    "\n",
    "# **************MODEL LOADING SECTION*****************\n",
    "# Loading the model\n",
    "# Remember to edit the data_dir path to where the model is located (NOT including the name of the model itself in it\n",
    "data_dir = r\"C:\\Users\\santosm7\\Documents\"\n",
    "# Check data_dir is as expected\n",
    "print(data_dir + \"\\n\")\n",
    "# Load model; so join combines the path and model name for cobra's load method to function properly\n",
    "import cobra\n",
    "from cobra.io import load_json_model, save_json_model, load_matlab_model, save_matlab_model, read_sbml_model, write_sbml_model\n",
    "model = cobra.io.load_json_model(join(data_dir, \"iMS837-2022.json\"))\n",
    "print(f'{len(model.reactions)} reactions')\n",
    "print(f'{len(model.metabolites)} metabolites')\n",
    "print(f'{len(model.genes)} genes')"
   ]
  },
  {
   "cell_type": "code",
   "execution_count": 32,
   "metadata": {},
   "outputs": [],
   "source": [
    "model.metabolites.get_by_id( 'g6p_c' ).annotation = {\n",
    "\"original_bigg_ids\":[\n",
    "\"g6p_c\"],\n",
    "\"bigg.metabolite\":[\n",
    "\"g6p\"],\n",
    "\"biocyc\":[\n",
    "\"META:D-glucopyranose-6-phosphate\"\n",
    "],\n",
    "\"chebi\":[\n",
    "\"CHEBI:61548\",\n",
    "\"CHEBI:14314\",\n",
    "\"CHEBI:4170\"\n",
    "],\n",
    "\"hmdb\":[\n",
    "\"HMDB01549\",\n",
    "\"HMDB01401\",\n",
    "\"HMDB06793\"\n",
    "],\n",
    "\"inchi_key\":[\n",
    "\"NBSCHQHZLSJFNQ-GASJEMHNSA-L\"\n",
    "],\n",
    "\"kegg.compound\":[\n",
    "\"C00092\"\n",
    "],\n",
    "\"metanetx.chemical\":[\n",
    "\"MNXM160\"\n",
    "],\n",
    "\"reactome.compound\":[\n",
    "\"1629756\"\n",
    "],\n",
    "\"sabiork\":[\n",
    "\"1404\",\n",
    "\"1405\"\n",
    "],\n",
    "\"sbo\":\"SBO:0000247\",\n",
    "\"seed.compound\":[\n",
    "\"cpd00079\",\n",
    "\"cpd26836\"\n",
    "]\n",
    "}\n"
   ]
  },
  {
   "cell_type": "code",
   "execution_count": 33,
   "metadata": {},
   "outputs": [
    {
     "data": {
      "text/plain": [
       "{'original_bigg_ids': ['g6p_c'],\n",
       " 'bigg.metabolite': ['g6p'],\n",
       " 'biocyc': ['META:D-glucopyranose-6-phosphate'],\n",
       " 'chebi': ['CHEBI:61548', 'CHEBI:14314', 'CHEBI:4170'],\n",
       " 'hmdb': ['HMDB01549', 'HMDB01401', 'HMDB06793'],\n",
       " 'inchi_key': ['NBSCHQHZLSJFNQ-GASJEMHNSA-L'],\n",
       " 'kegg.compound': ['C00092'],\n",
       " 'metanetx.chemical': ['MNXM160'],\n",
       " 'reactome.compound': ['1629756'],\n",
       " 'sabiork': ['1404', '1405'],\n",
       " 'sbo': 'SBO:0000247',\n",
       " 'seed.compound': ['cpd00079', 'cpd26836']}"
      ]
     },
     "execution_count": 33,
     "metadata": {},
     "output_type": "execute_result"
    }
   ],
   "source": [
    "model.metabolites.get_by_id( 'g6p_c' ).annotation"
   ]
  },
  {
   "cell_type": "code",
   "execution_count": 34,
   "metadata": {},
   "outputs": [
    {
     "data": {
      "text/plain": [
       "'C6H11O9P'"
      ]
     },
     "execution_count": 34,
     "metadata": {},
     "output_type": "execute_result"
    }
   ],
   "source": [
    "model.metabolites.get_by_id( 'g6p_c' ).formula"
   ]
  },
  {
   "cell_type": "code",
   "execution_count": 35,
   "metadata": {},
   "outputs": [
    {
     "data": {
      "text/plain": [
       "'-2'"
      ]
     },
     "execution_count": 35,
     "metadata": {},
     "output_type": "execute_result"
    }
   ],
   "source": [
    "model.metabolites.get_by_id( 'g6p_c' ).charge"
   ]
  },
  {
   "cell_type": "code",
   "execution_count": 15,
   "metadata": {},
   "outputs": [],
   "source": [
    "model.reactions.get_by_id( 'QULNS' ).annotation['Proteins'] = 'NadA'\n",
    "model.reactions.get_by_id( 'QULNS' ).annotation['EC Number'] = '2.5.1.72'\n",
    "model.reactions.get_by_id( 'QULNS' ).annotation['Confidence Score'] = '2'"
   ]
  },
  {
   "cell_type": "code",
   "execution_count": 18,
   "metadata": {},
   "outputs": [],
   "source": [
    "model.metabolites.get_by_id( '3hdecACP_c' ).annotation['charge'] = '-1'\n",
    "model.metabolites.get_by_id( '3hdecACP_c' ).annotation['original_bigg_ids'] = 'hdecACP_c'\n",
    "model.metabolites.get_by_id( '3hdecACP_c' ).annotation['bigg.metabolite'] = '3hdecACP'\n",
    "model.metabolites.get_by_id( '3hdecACP_c' ).annotation['biocyc'] = 'META:Beta-hydroxydecanoyl-ACPs'\n",
    "model.metabolites.get_by_id( '3hdecACP_c' ).annotation['kegg.compound'] = 'C04619'\n",
    "model.metabolites.get_by_id( '3hdecACP_c' ).annotation['metanetx.chemical'] = 'MNXM7127'\n",
    "model.metabolites.get_by_id( '3hdecACP_c' ).annotation['sbo'] = 'SBO:0000247'\n",
    "model.metabolites.get_by_id( '3hdecACP_c' ).annotation['seed.compound'] = 'cpd11482'"
   ]
  },
  {
   "cell_type": "code",
   "execution_count": 36,
   "metadata": {},
   "outputs": [],
   "source": [
    "cobra.io.save_json_model(model, \"model.json\")"
   ]
  },
  {
   "cell_type": "code",
   "execution_count": 37,
   "metadata": {},
   "outputs": [],
   "source": [
    "cobra.io.save_matlab_model(model, \"annotation.mat\")"
   ]
  }
 ],
 "metadata": {
  "kernelspec": {
   "display_name": "Python 3.10.6 ('models')",
   "language": "python",
   "name": "python3"
  },
  "language_info": {
   "codemirror_mode": {
    "name": "ipython",
    "version": 3
   },
   "file_extension": ".py",
   "mimetype": "text/x-python",
   "name": "python",
   "nbconvert_exporter": "python",
   "pygments_lexer": "ipython3",
   "version": "3.9.12"
  },
  "orig_nbformat": 4,
  "vscode": {
   "interpreter": {
    "hash": "5864a2a7a40faca5d25c6bb9cc5296b95761e7e9301acd50f1cf5a59fd85265b"
   }
  }
 },
 "nbformat": 4,
 "nbformat_minor": 2
}
